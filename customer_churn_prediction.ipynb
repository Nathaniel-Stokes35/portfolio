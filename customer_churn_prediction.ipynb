{
 "cells": [
  {
   "cell_type": "markdown",
   "metadata": {},
   "source": [
    "<h1>Intergrated Project 1 (EDA Notebook)</h1>"
   ]
  },
  {
   "cell_type": "markdown",
   "metadata": {},
   "source": [
    "<h3>Introduction</h3></br>\n",
    "&nbsp;&nbsp;&nbsp;&nbsp;Using exploratory data analysis I am going to analyze a dataset of ESRB rated games, their sales from 2016 and, hypthetically, construct common trends to help predict the marketing for 2017 game launches. My goal is to help spot \"big winners\" for advertising plans.</br>\n",
    "&nbsp;&nbsp;&nbsp;&nbsp;I will be analyzing preformance of games across platforms and regions of the world, comparing user reviews with professional reviews and overall game sales. I will be comparing those findings to orchastrate a hypotheses and then constructing tests against them. I will be formulating graphs to better visualize the data leaving comments to keep everything organized and easy to read. "
   ]
  },
  {
   "cell_type": "markdown",
   "metadata": {},
   "source": [
    "<h2>Preparing the Data</h2>\n",
    "<h3>Initialization</h3>\n",
    "<ul><li>importing dependencies for librarys used</li></ul>"
   ]
  },
  {
   "cell_type": "code",
   "execution_count": 1,
   "metadata": {},
   "outputs": [],
   "source": [
    "# Formating and inturpretting the Data\n",
    "import pandas as pd\n",
    "import numpy as np\n",
    "import scipy.stats as st\n",
    "\n",
    "# Creating and Displaying Interactive Graphs \n",
    "import matplotlib.pyplot as plt \n",
    "from matplotlib.widgets import CheckButtons \n",
    "from ipywidgets import widgets \n",
    "from IPython.display import display\n",
    "import seaborn as sns "
   ]
  },
  {
   "cell_type": "markdown",
   "metadata": {},
   "source": [
    "<h3>Cleaning the Data</h3>\n",
    "<ol>\n",
    "    <li>Studying and organizing the data</li>\n",
    "    <li>Converting data-types and reading the information</li>\n",
    "    <li>Organizing data by year and finding the most relevant period to analyze</li>\n",
    "</ol>"
   ]
  },
  {
   "cell_type": "code",
   "execution_count": 2,
   "metadata": {},
   "outputs": [
    {
     "data": {
      "text/html": [
       "<div>\n",
       "<style scoped>\n",
       "    .dataframe tbody tr th:only-of-type {\n",
       "        vertical-align: middle;\n",
       "    }\n",
       "\n",
       "    .dataframe tbody tr th {\n",
       "        vertical-align: top;\n",
       "    }\n",
       "\n",
       "    .dataframe thead th {\n",
       "        text-align: right;\n",
       "    }\n",
       "</style>\n",
       "<table border=\"1\" class=\"dataframe\">\n",
       "  <thead>\n",
       "    <tr style=\"text-align: right;\">\n",
       "      <th></th>\n",
       "      <th>name</th>\n",
       "      <th>platform</th>\n",
       "      <th>year_of_release</th>\n",
       "      <th>genre</th>\n",
       "      <th>na_sales</th>\n",
       "      <th>eu_sales</th>\n",
       "      <th>jp_sales</th>\n",
       "      <th>other_sales</th>\n",
       "      <th>critic_score</th>\n",
       "      <th>user_score</th>\n",
       "      <th>rating</th>\n",
       "      <th>total_sales</th>\n",
       "    </tr>\n",
       "  </thead>\n",
       "  <tbody>\n",
       "    <tr>\n",
       "      <th>4895</th>\n",
       "      <td>Renai Revenge</td>\n",
       "      <td>PSV</td>\n",
       "      <td>2015</td>\n",
       "      <td>Adventure</td>\n",
       "      <td>0.00</td>\n",
       "      <td>0.00</td>\n",
       "      <td>0.03</td>\n",
       "      <td>0.00</td>\n",
       "      <td>70.2</td>\n",
       "      <td>7.4</td>\n",
       "      <td>unknown</td>\n",
       "      <td>0.03</td>\n",
       "    </tr>\n",
       "    <tr>\n",
       "      <th>4466</th>\n",
       "      <td>Tropico 4</td>\n",
       "      <td>PC</td>\n",
       "      <td>2011</td>\n",
       "      <td>Strategy</td>\n",
       "      <td>0.10</td>\n",
       "      <td>0.13</td>\n",
       "      <td>0.00</td>\n",
       "      <td>0.04</td>\n",
       "      <td>78.0</td>\n",
       "      <td>7.7</td>\n",
       "      <td>T</td>\n",
       "      <td>0.23</td>\n",
       "    </tr>\n",
       "    <tr>\n",
       "      <th>3227</th>\n",
       "      <td>MXGP 2</td>\n",
       "      <td>XOne</td>\n",
       "      <td>2016</td>\n",
       "      <td>Racing</td>\n",
       "      <td>0.03</td>\n",
       "      <td>0.02</td>\n",
       "      <td>0.00</td>\n",
       "      <td>0.01</td>\n",
       "      <td>70.7</td>\n",
       "      <td>6.4</td>\n",
       "      <td>unknown</td>\n",
       "      <td>0.05</td>\n",
       "    </tr>\n",
       "    <tr>\n",
       "      <th>2590</th>\n",
       "      <td>Divinity II: Flames of Vengeance</td>\n",
       "      <td>PC</td>\n",
       "      <td>2010</td>\n",
       "      <td>Role-Playing</td>\n",
       "      <td>0.00</td>\n",
       "      <td>0.02</td>\n",
       "      <td>0.00</td>\n",
       "      <td>0.01</td>\n",
       "      <td>72.0</td>\n",
       "      <td>8.3</td>\n",
       "      <td>M</td>\n",
       "      <td>0.02</td>\n",
       "    </tr>\n",
       "    <tr>\n",
       "      <th>1640</th>\n",
       "      <td>Jissen Pachislot Secrets! Fist of the North St...</td>\n",
       "      <td>PS3</td>\n",
       "      <td>2012</td>\n",
       "      <td>Action</td>\n",
       "      <td>0.00</td>\n",
       "      <td>0.00</td>\n",
       "      <td>0.06</td>\n",
       "      <td>0.00</td>\n",
       "      <td>68.9</td>\n",
       "      <td>6.8</td>\n",
       "      <td>unknown</td>\n",
       "      <td>0.06</td>\n",
       "    </tr>\n",
       "    <tr>\n",
       "      <th>2180</th>\n",
       "      <td>The Last Story</td>\n",
       "      <td>Wii</td>\n",
       "      <td>2011</td>\n",
       "      <td>Role-Playing</td>\n",
       "      <td>0.30</td>\n",
       "      <td>0.13</td>\n",
       "      <td>0.18</td>\n",
       "      <td>0.04</td>\n",
       "      <td>80.0</td>\n",
       "      <td>8.4</td>\n",
       "      <td>T</td>\n",
       "      <td>0.61</td>\n",
       "    </tr>\n",
       "    <tr>\n",
       "      <th>4340</th>\n",
       "      <td>BlazBlue: Continuum Shift II</td>\n",
       "      <td>PSP</td>\n",
       "      <td>2011</td>\n",
       "      <td>Fighting</td>\n",
       "      <td>0.03</td>\n",
       "      <td>0.02</td>\n",
       "      <td>0.07</td>\n",
       "      <td>0.01</td>\n",
       "      <td>77.0</td>\n",
       "      <td>6.8</td>\n",
       "      <td>T</td>\n",
       "      <td>0.12</td>\n",
       "    </tr>\n",
       "    <tr>\n",
       "      <th>4275</th>\n",
       "      <td>Dragon Ball Z: Ultimate Tenkaichi</td>\n",
       "      <td>X360</td>\n",
       "      <td>2011</td>\n",
       "      <td>Fighting</td>\n",
       "      <td>0.39</td>\n",
       "      <td>0.10</td>\n",
       "      <td>0.01</td>\n",
       "      <td>0.04</td>\n",
       "      <td>55.0</td>\n",
       "      <td>5.8</td>\n",
       "      <td>T</td>\n",
       "      <td>0.50</td>\n",
       "    </tr>\n",
       "    <tr>\n",
       "      <th>4127</th>\n",
       "      <td>Rocket League</td>\n",
       "      <td>PC</td>\n",
       "      <td>2016</td>\n",
       "      <td>Sports</td>\n",
       "      <td>0.01</td>\n",
       "      <td>0.04</td>\n",
       "      <td>0.00</td>\n",
       "      <td>0.00</td>\n",
       "      <td>86.0</td>\n",
       "      <td>8.2</td>\n",
       "      <td>E</td>\n",
       "      <td>0.05</td>\n",
       "    </tr>\n",
       "    <tr>\n",
       "      <th>1090</th>\n",
       "      <td>Scooby-Doo! and the Spooky Swamp</td>\n",
       "      <td>PS2</td>\n",
       "      <td>2010</td>\n",
       "      <td>Action</td>\n",
       "      <td>0.08</td>\n",
       "      <td>0.11</td>\n",
       "      <td>0.00</td>\n",
       "      <td>0.08</td>\n",
       "      <td>68.9</td>\n",
       "      <td>6.8</td>\n",
       "      <td>unknown</td>\n",
       "      <td>0.19</td>\n",
       "    </tr>\n",
       "    <tr>\n",
       "      <th>1536</th>\n",
       "      <td>Dynasty Warriors 8: Empires</td>\n",
       "      <td>PS3</td>\n",
       "      <td>2014</td>\n",
       "      <td>Action</td>\n",
       "      <td>0.00</td>\n",
       "      <td>0.00</td>\n",
       "      <td>0.09</td>\n",
       "      <td>0.00</td>\n",
       "      <td>68.9</td>\n",
       "      <td>6.8</td>\n",
       "      <td>T</td>\n",
       "      <td>0.09</td>\n",
       "    </tr>\n",
       "    <tr>\n",
       "      <th>1887</th>\n",
       "      <td>Shinken de Watashi ni Koi Shinasai! R</td>\n",
       "      <td>PS3</td>\n",
       "      <td>2012</td>\n",
       "      <td>Action</td>\n",
       "      <td>0.00</td>\n",
       "      <td>0.00</td>\n",
       "      <td>0.02</td>\n",
       "      <td>0.00</td>\n",
       "      <td>68.9</td>\n",
       "      <td>6.8</td>\n",
       "      <td>unknown</td>\n",
       "      <td>0.02</td>\n",
       "    </tr>\n",
       "    <tr>\n",
       "      <th>1</th>\n",
       "      <td>Just Dance 3</td>\n",
       "      <td>Wii</td>\n",
       "      <td>2011</td>\n",
       "      <td>Misc</td>\n",
       "      <td>5.95</td>\n",
       "      <td>3.11</td>\n",
       "      <td>0.00</td>\n",
       "      <td>1.06</td>\n",
       "      <td>74.0</td>\n",
       "      <td>7.8</td>\n",
       "      <td>E10+</td>\n",
       "      <td>9.06</td>\n",
       "    </tr>\n",
       "    <tr>\n",
       "      <th>2336</th>\n",
       "      <td>Time and Eternity</td>\n",
       "      <td>PS3</td>\n",
       "      <td>2012</td>\n",
       "      <td>Role-Playing</td>\n",
       "      <td>0.06</td>\n",
       "      <td>0.03</td>\n",
       "      <td>0.06</td>\n",
       "      <td>0.02</td>\n",
       "      <td>42.0</td>\n",
       "      <td>5.0</td>\n",
       "      <td>T</td>\n",
       "      <td>0.15</td>\n",
       "    </tr>\n",
       "    <tr>\n",
       "      <th>363</th>\n",
       "      <td>Game Hits!</td>\n",
       "      <td>DS</td>\n",
       "      <td>2010</td>\n",
       "      <td>Misc</td>\n",
       "      <td>0.07</td>\n",
       "      <td>0.01</td>\n",
       "      <td>0.00</td>\n",
       "      <td>0.01</td>\n",
       "      <td>69.0</td>\n",
       "      <td>6.6</td>\n",
       "      <td>unknown</td>\n",
       "      <td>0.08</td>\n",
       "    </tr>\n",
       "    <tr>\n",
       "      <th>1447</th>\n",
       "      <td>Happy Feet Two</td>\n",
       "      <td>3DS</td>\n",
       "      <td>2011</td>\n",
       "      <td>Action</td>\n",
       "      <td>0.08</td>\n",
       "      <td>0.02</td>\n",
       "      <td>0.00</td>\n",
       "      <td>0.01</td>\n",
       "      <td>68.9</td>\n",
       "      <td>6.8</td>\n",
       "      <td>unknown</td>\n",
       "      <td>0.10</td>\n",
       "    </tr>\n",
       "    <tr>\n",
       "      <th>2441</th>\n",
       "      <td>Game of Thrones</td>\n",
       "      <td>PC</td>\n",
       "      <td>2012</td>\n",
       "      <td>Role-Playing</td>\n",
       "      <td>0.00</td>\n",
       "      <td>0.07</td>\n",
       "      <td>0.00</td>\n",
       "      <td>0.01</td>\n",
       "      <td>58.0</td>\n",
       "      <td>6.5</td>\n",
       "      <td>M</td>\n",
       "      <td>0.07</td>\n",
       "    </tr>\n",
       "    <tr>\n",
       "      <th>102</th>\n",
       "      <td>Wheel of Fortune</td>\n",
       "      <td>DS</td>\n",
       "      <td>2010</td>\n",
       "      <td>Misc</td>\n",
       "      <td>0.39</td>\n",
       "      <td>0.00</td>\n",
       "      <td>0.00</td>\n",
       "      <td>0.03</td>\n",
       "      <td>69.0</td>\n",
       "      <td>6.6</td>\n",
       "      <td>E</td>\n",
       "      <td>0.39</td>\n",
       "    </tr>\n",
       "    <tr>\n",
       "      <th>3400</th>\n",
       "      <td>SpongeBob: HeroPants</td>\n",
       "      <td>X360</td>\n",
       "      <td>2015</td>\n",
       "      <td>Platform</td>\n",
       "      <td>0.08</td>\n",
       "      <td>0.00</td>\n",
       "      <td>0.00</td>\n",
       "      <td>0.01</td>\n",
       "      <td>74.4</td>\n",
       "      <td>3.4</td>\n",
       "      <td>E</td>\n",
       "      <td>0.08</td>\n",
       "    </tr>\n",
       "    <tr>\n",
       "      <th>4075</th>\n",
       "      <td>WRC 5: FIA World Rally Championship</td>\n",
       "      <td>PS3</td>\n",
       "      <td>2015</td>\n",
       "      <td>Sports</td>\n",
       "      <td>0.02</td>\n",
       "      <td>0.05</td>\n",
       "      <td>0.00</td>\n",
       "      <td>0.01</td>\n",
       "      <td>70.7</td>\n",
       "      <td>5.9</td>\n",
       "      <td>unknown</td>\n",
       "      <td>0.07</td>\n",
       "    </tr>\n",
       "  </tbody>\n",
       "</table>\n",
       "</div>"
      ],
      "text/plain": [
       "                                                   name platform  \\\n",
       "4895                                      Renai Revenge      PSV   \n",
       "4466                                          Tropico 4       PC   \n",
       "3227                                             MXGP 2     XOne   \n",
       "2590                   Divinity II: Flames of Vengeance       PC   \n",
       "1640  Jissen Pachislot Secrets! Fist of the North St...      PS3   \n",
       "2180                                     The Last Story      Wii   \n",
       "4340                       BlazBlue: Continuum Shift II      PSP   \n",
       "4275                  Dragon Ball Z: Ultimate Tenkaichi     X360   \n",
       "4127                                      Rocket League       PC   \n",
       "1090                   Scooby-Doo! and the Spooky Swamp      PS2   \n",
       "1536                        Dynasty Warriors 8: Empires      PS3   \n",
       "1887              Shinken de Watashi ni Koi Shinasai! R      PS3   \n",
       "1                                          Just Dance 3      Wii   \n",
       "2336                                  Time and Eternity      PS3   \n",
       "363                                          Game Hits!       DS   \n",
       "1447                                     Happy Feet Two      3DS   \n",
       "2441                                    Game of Thrones       PC   \n",
       "102                                    Wheel of Fortune       DS   \n",
       "3400                               SpongeBob: HeroPants     X360   \n",
       "4075                WRC 5: FIA World Rally Championship      PS3   \n",
       "\n",
       "      year_of_release         genre  na_sales  eu_sales  jp_sales  \\\n",
       "4895             2015     Adventure      0.00      0.00      0.03   \n",
       "4466             2011      Strategy      0.10      0.13      0.00   \n",
       "3227             2016        Racing      0.03      0.02      0.00   \n",
       "2590             2010  Role-Playing      0.00      0.02      0.00   \n",
       "1640             2012        Action      0.00      0.00      0.06   \n",
       "2180             2011  Role-Playing      0.30      0.13      0.18   \n",
       "4340             2011      Fighting      0.03      0.02      0.07   \n",
       "4275             2011      Fighting      0.39      0.10      0.01   \n",
       "4127             2016        Sports      0.01      0.04      0.00   \n",
       "1090             2010        Action      0.08      0.11      0.00   \n",
       "1536             2014        Action      0.00      0.00      0.09   \n",
       "1887             2012        Action      0.00      0.00      0.02   \n",
       "1                2011          Misc      5.95      3.11      0.00   \n",
       "2336             2012  Role-Playing      0.06      0.03      0.06   \n",
       "363              2010          Misc      0.07      0.01      0.00   \n",
       "1447             2011        Action      0.08      0.02      0.00   \n",
       "2441             2012  Role-Playing      0.00      0.07      0.00   \n",
       "102              2010          Misc      0.39      0.00      0.00   \n",
       "3400             2015      Platform      0.08      0.00      0.00   \n",
       "4075             2015        Sports      0.02      0.05      0.00   \n",
       "\n",
       "      other_sales  critic_score  user_score   rating  total_sales  \n",
       "4895         0.00          70.2         7.4  unknown         0.03  \n",
       "4466         0.04          78.0         7.7        T         0.23  \n",
       "3227         0.01          70.7         6.4  unknown         0.05  \n",
       "2590         0.01          72.0         8.3        M         0.02  \n",
       "1640         0.00          68.9         6.8  unknown         0.06  \n",
       "2180         0.04          80.0         8.4        T         0.61  \n",
       "4340         0.01          77.0         6.8        T         0.12  \n",
       "4275         0.04          55.0         5.8        T         0.50  \n",
       "4127         0.00          86.0         8.2        E         0.05  \n",
       "1090         0.08          68.9         6.8  unknown         0.19  \n",
       "1536         0.00          68.9         6.8        T         0.09  \n",
       "1887         0.00          68.9         6.8  unknown         0.02  \n",
       "1            1.06          74.0         7.8     E10+         9.06  \n",
       "2336         0.02          42.0         5.0        T         0.15  \n",
       "363          0.01          69.0         6.6  unknown         0.08  \n",
       "1447         0.01          68.9         6.8  unknown         0.10  \n",
       "2441         0.01          58.0         6.5        M         0.07  \n",
       "102          0.03          69.0         6.6        E         0.39  \n",
       "3400         0.01          74.4         3.4        E         0.08  \n",
       "4075         0.01          70.7         5.9  unknown         0.07  "
      ]
     },
     "metadata": {},
     "output_type": "display_data"
    },
    {
     "name": "stdout",
     "output_type": "stream",
     "text": [
      "<class 'pandas.core.frame.DataFrame'>\n",
      "RangeIndex: 5277 entries, 0 to 5276\n",
      "Data columns (total 12 columns):\n",
      " #   Column           Non-Null Count  Dtype  \n",
      "---  ------           --------------  -----  \n",
      " 0   name             5277 non-null   object \n",
      " 1   platform         5277 non-null   object \n",
      " 2   year_of_release  5277 non-null   int64  \n",
      " 3   genre            5277 non-null   object \n",
      " 4   na_sales         5277 non-null   float64\n",
      " 5   eu_sales         5277 non-null   float64\n",
      " 6   jp_sales         5277 non-null   float64\n",
      " 7   other_sales      5277 non-null   float64\n",
      " 8   critic_score     5277 non-null   float64\n",
      " 9   user_score       5277 non-null   float64\n",
      " 10  rating           5277 non-null   object \n",
      " 11  total_sales      5277 non-null   float64\n",
      "dtypes: float64(7), int64(1), object(4)\n",
      "memory usage: 494.8+ KB\n"
     ]
    }
   ],
   "source": [
    "#--- Reading the Data ---\n",
    "rawDF = pd.read_csv('/datasets/games.csv')\n",
    "\n",
    "# lowercasing all column names\n",
    "rawDF.columns = [col.lower() for col in rawDF.columns]\n",
    "\n",
    "# Handeling missing values and 'tbd'\n",
    "rawDF['year_of_release'] = rawDF['year_of_release'].fillna('0').astype('int')\n",
    "    # setting the missing years as 0 allows me to work with the data in a more intuitive, unobstructive, way \n",
    "rawDF.loc[rawDF['user_score'] == 'tbd', 'user_score'] = np.nan\n",
    "    # Setting the to be determined scores as missing values to be handled as such\n",
    "rawDF['user_score'] = rawDF['user_score'].astype('float')\n",
    "    # setting all of the userscores to a float to help with calculation later\n",
    "rawDF['rating'] = rawDF['rating'].fillna('unknown')\n",
    "    # I was asked to fill the rating column with \"unknown\" at this early stage of the data (even after handling later)\n",
    "    \n",
    "# Adding a \"total sales\" column to help analyze profitability for each platform/game\n",
    "rawDF['total_sales'] = rawDF['na_sales'] + rawDF['eu_sales'] + rawDF['jp_sales']    \n",
    "\n",
    "# splitting the data into the most recent (6 years(double the life of a console after it's peak)) games for a \n",
    "# healthy data set of 5277 listings\n",
    "sortDF = rawDF[rawDF['year_of_release']>=2010]\n",
    "genres = sortDF['genre'].unique() # Pulling the individual genres from the dataset to be used in graphing\n",
    "\n",
    "# This will fill the missing \"user_scores\" and \"critic_scores\" with the mean of the non-null scores in each genre\n",
    "genresData = {} # Initializing the Mother Dictionary for the individual Genre Dataframes\n",
    "for genre in genres:\n",
    "    # Create a copy of the DataFrame for the current genre\n",
    "    genreDF = sortDF[sortDF['genre'] == genre].copy()\n",
    "    \n",
    "    # Calculate mean of non-null 'user_score' and 'critic_score'\n",
    "    user_mean = round(genreDF['user_score'].mean(), 1)\n",
    "    critic_mean = round(genreDF['critic_score'].mean(), 1)\n",
    "    \n",
    "    # Fill missing 'user_score' and 'critic_score' with the respective means\n",
    "    genreDF.loc[:, 'user_score'] = genreDF['user_score'].fillna(user_mean) \n",
    "    genreDF.loc[:, 'critic_score'] = genreDF['critic_score'].fillna(critic_mean)\n",
    "    \n",
    "    \n",
    "    # Store the modified DataFrame in the dictionary with genre as the key\n",
    "    genresData[genre] = genreDF\n",
    "\n",
    "sortDF = pd.concat(genresData.values(), ignore_index=True)\n",
    "display(sortDF.sample(20))\n",
    "sortDF.info()"
   ]
  },
  {
   "cell_type": "markdown",
   "metadata": {},
   "source": [
    "<h3>Findings</h3>\n",
    "&nbsp;&nbsp;&nbsp;&nbsp;I used the means of each genre in user_scores and critic scores to have a more tailored generalization and because I noticed the user and critic score weren't heavy indicators on game preformance. I believe the scores are missing by and large because the games are either too old and predate \"user_scores\" in a reliable way or they're too obscure to have a rating. I also found that the age of a game was a bigger determiner on preformance with a more varying degree of sucess the newer the model. I saw that the life of a console and its games is 3 years from it's peak so I limited the data to the last 6 years to corrolate with that shelf life which still leaves 5277 listings"
   ]
  },
  {
   "cell_type": "markdown",
   "metadata": {},
   "source": [
    "<h2>Analyzing the Data</h2>\n",
    "<h3>Grouping the Data</h3>\n",
    "<ol>\n",
    "    <li>Group by different factors to understand their affect on sales\n",
    "        <ul>\n",
    "            <li>Sales varied per platform (choose platform with the most and build a distribution)</li>\n",
    "            <li>Selecting several potentially profitable platforms</li>\n",
    "        </ul>\n",
    "    </li>\n",
    "</ol>"
   ]
  },
  {
   "cell_type": "code",
   "execution_count": 3,
   "metadata": {},
   "outputs": [
    {
     "data": {
      "application/vnd.jupyter.widget-view+json": {
       "model_id": "ae07d667949b4fdb8e78c12fe7a0c26c",
       "version_major": 2,
       "version_minor": 0
      },
      "text/plain": [
       "interactive(children=(Dropdown(description='Platform:', options=('X360', 'Wii', 'PS3', 'WiiU', 'PS4', 'XOne', …"
      ]
     },
     "metadata": {},
     "output_type": "display_data"
    },
    {
     "data": {
      "text/plain": [
       "<function __main__.platformGraph(plat, metric)>"
      ]
     },
     "metadata": {},
     "output_type": "display_data"
    }
   ],
   "source": [
    "# Creating an interactive graph for platform Sales (total and in the different regions) against year of release\n",
    "platforms = sortDF['platform'].unique()\n",
    "metric = ['total_sales', 'na_sales', 'eu_sales', 'jp_sales'] # Different categories for the chart\n",
    "\n",
    "def platformGraph(plat, metric):\n",
    "    # Sorting through platforms\n",
    "    pullData = sortDF[sortDF['platform'] == plat]\n",
    "    \n",
    "    # Setting Titles Based on Choices\n",
    "    plt.title(f'{metric.replace(\"_\", \" \").title()} per Year for {plat}')\n",
    "    plt.ylabel(f'{metric.replace(\"_\", \" \").title()} (mil $)')\n",
    "    plt.xlabel('Year of Release')\n",
    "    \n",
    "    # Defining the Graph\n",
    "    plt.grid(True)\n",
    "    plt.ylim(0, 160)\n",
    "    \n",
    "    # Sorting Graph Data and Plotting\n",
    "    graphData = pullData.groupby('year_of_release')[metric].sum()\n",
    "    graphData.plot(kind='bar', edgecolor='k', fill=True)\n",
    "    plt.figure(figsize=(10, 6))\n",
    "    \n",
    "    # Printing total sold and standard deviation on this platform for this metric\n",
    "    print(f'{metric.replace(\"_\",\" \")}: {pullData[metric].sum()}')\n",
    "    print(f'{plat} {metric.replace(\"_\",\" \")} std: {np.std(pullData[metric])}')\n",
    "    \n",
    "    plt.show()\n",
    "\n",
    "plat_drop = widgets.Dropdown(options=platforms, description='Platform:')\n",
    "met_drop = widgets.Dropdown(options=metric, description='Metric:')\n",
    "\n",
    "interact_widget = widgets.interact(platformGraph, plat=plat_drop, metric=met_drop)\n",
    "display(interact_widget)"
   ]
  },
  {
   "cell_type": "markdown",
   "metadata": {},
   "source": [
    "<h3>Graphing Scores and Calculating impact on Sales</h3> \n",
    "<ol>\n",
    "    <li>Scatter Plot calculating correlation between reviews and sales</li>\n",
    "    <li>Box Plot for Global Sales broken down by platform.</li>\n",
    "</ol>"
   ]
  },
  {
   "cell_type": "code",
   "execution_count": 4,
   "metadata": {},
   "outputs": [
    {
     "data": {
      "application/vnd.jupyter.widget-view+json": {
       "model_id": "dafb9b9ad01648509b7cbd015bb9c476",
       "version_major": 2,
       "version_minor": 0
      },
      "text/plain": [
       "interactive(children=(Dropdown(description='Platform:', options=('X360', 'Wii', 'PS3', 'WiiU', 'PS4', 'XOne', …"
      ]
     },
     "metadata": {},
     "output_type": "display_data"
    }
   ],
   "source": [
    "# Converting scores to Readable format\n",
    "sortDF['user_score'] = pd.to_numeric(sortDF['user_score'], errors='coerce')\n",
    "sortDF['critic_score'] = pd.to_numeric(sortDF['critic_score'], errors='coerce')\n",
    "\n",
    "# Creating a Scatter Plot Showing the distribution of sales against User Score and Critic Score\n",
    "def scatGraph(plat):\n",
    "    # Pulling Matching Data from Dataframe\n",
    "    pulledData = sortDF[sortDF['platform'] == plat]\n",
    "    \n",
    "    # Setting Titles based on Choices\n",
    "    plt.title(f'{plat} Scores versus Sales')\n",
    "    plt.ylabel('Sales (mil$)')\n",
    "    plt.xlabel('Score')\n",
    "    plt.legend(('User Score x10', 'Critic Score'))\n",
    "    \n",
    "    # Calculating figures for the Scatter Plots\n",
    "    x_user = np.array(pulledData['user_score'])\n",
    "    x_critic = np.array(pulledData['critic_score'])\n",
    "    y = np.array(pulledData['total_sales'])\n",
    "    \n",
    "    # Graphing the Plots\n",
    "    plt.scatter((x_user*10), y)\n",
    "    plt.scatter(x_critic, y)\n",
    "    plt.figure(figsize=(10,6))\n",
    "    \n",
    "    # Displaying Coefficents and Standard Deviations\n",
    "    display('User Coefficient ' + str(round(pulledData['user_score'].corr(pulledData['total_sales']), 2)))\n",
    "    print(f'User Standard Deviation: {np.std(pulledData[\"user_score\"])}')\n",
    "    display('Critic Coefficient ' + str(round(pulledData['critic_score'].corr(pulledData['total_sales']), 2)))\n",
    "    print(f'Critic Standard Deviation: {np.std(pulledData[\"critic_score\"])}')\n",
    "    \n",
    "    # Showing the missing ratings in each platform\n",
    "    missing_ratings = pulledData['rating'].value_counts().get('unknown', 0)\n",
    "    display(f'Number of Games with Unknown Ratings: {missing_ratings}')\n",
    "\n",
    "    # Showing the Plot\n",
    "    plt.show()\n",
    "    \n",
    "interact_widget = widgets.interact(scatGraph, plat=plat_drop)"
   ]
  },
  {
   "cell_type": "code",
   "execution_count": 5,
   "metadata": {},
   "outputs": [
    {
     "name": "stdout",
     "output_type": "stream",
     "text": [
      "Total sales amounts based on chosen metric. Written in $mil\n"
     ]
    },
    {
     "data": {
      "application/vnd.jupyter.widget-view+json": {
       "model_id": "17cffa5ae7f74d7eaa1bf3829b2e2c90",
       "version_major": 2,
       "version_minor": 0
      },
      "text/plain": [
       "interactive(children=(Dropdown(description='Metric:', options=('total_sales', 'na_sales', 'eu_sales', 'jp_sale…"
      ]
     },
     "metadata": {},
     "output_type": "display_data"
    }
   ],
   "source": [
    "def genAllGraphs(metric):\n",
    "    # Creating a Boxplot over sales from all games for each platform\n",
    "    num_genres = len(genresData)\n",
    "\n",
    "    cols = 3  # Number of columns\n",
    "    rows = (num_genres + cols - 1) // cols\n",
    "\n",
    "    fig, axes = plt.subplots(rows, cols, figsize=(15, rows * 5))\n",
    "    axes = axes.flatten()  \n",
    "\n",
    "    # Create a box plot for each genre\n",
    "    for idx, (genre, data) in enumerate(genresData.items()):\n",
    "        currentDF = data\n",
    "        print(f'{genre}:{currentDF[metric].sum()}') # For refrencing later during analysis\n",
    "        axes[idx].boxplot(currentDF[metric], showfliers=False)\n",
    "        axes[idx].set_title(genre)\n",
    "        axes[idx].set_xlabel('Games')\n",
    "        axes[idx].set_ylabel('Total Sales (mil$)')\n",
    "\n",
    "    # Hide any unused subplots\n",
    "    for i in range(idx + 1, len(axes)):\n",
    "        fig.delaxes(axes[i])\n",
    "\n",
    "    plt.tight_layout()\n",
    "    plt.show()\n",
    "\n",
    "met_drop\n",
    "print('Total sales amounts based on chosen metric. Written in $mil')\n",
    "interact_widgets = widgets.interact(genAllGraphs, metric=met_drop)"
   ]
  },
  {
   "cell_type": "markdown",
   "metadata": {},
   "source": [
    "<h3>Comparing Games and Genres</h3>\n",
    "<ol>    \n",
    "    <li>Compare same games between platforms</li>\n",
    "    <li>Most profitable Genres</li>\n",
    "</ol>"
   ]
  },
  {
   "cell_type": "code",
   "execution_count": 6,
   "metadata": {},
   "outputs": [
    {
     "data": {
      "text/html": [
       "<div>\n",
       "<style scoped>\n",
       "    .dataframe tbody tr th:only-of-type {\n",
       "        vertical-align: middle;\n",
       "    }\n",
       "\n",
       "    .dataframe tbody tr th {\n",
       "        vertical-align: top;\n",
       "    }\n",
       "\n",
       "    .dataframe thead th {\n",
       "        text-align: right;\n",
       "    }\n",
       "</style>\n",
       "<table border=\"1\" class=\"dataframe\">\n",
       "  <thead>\n",
       "    <tr style=\"text-align: right;\">\n",
       "      <th></th>\n",
       "      <th>name</th>\n",
       "      <th>platform</th>\n",
       "      <th>year_of_release</th>\n",
       "      <th>genre</th>\n",
       "      <th>na_sales</th>\n",
       "      <th>eu_sales</th>\n",
       "      <th>jp_sales</th>\n",
       "      <th>other_sales</th>\n",
       "      <th>critic_score</th>\n",
       "      <th>user_score</th>\n",
       "      <th>rating</th>\n",
       "      <th>total_sales</th>\n",
       "    </tr>\n",
       "  </thead>\n",
       "  <tbody>\n",
       "    <tr>\n",
       "      <th>0</th>\n",
       "      <td>Kinect Adventures!</td>\n",
       "      <td>X360</td>\n",
       "      <td>2010</td>\n",
       "      <td>Misc</td>\n",
       "      <td>15.00</td>\n",
       "      <td>4.89</td>\n",
       "      <td>0.24</td>\n",
       "      <td>1.69</td>\n",
       "      <td>61.0</td>\n",
       "      <td>6.3</td>\n",
       "      <td>E</td>\n",
       "      <td>20.13</td>\n",
       "    </tr>\n",
       "    <tr>\n",
       "      <th>1</th>\n",
       "      <td>Just Dance 3</td>\n",
       "      <td>Wii</td>\n",
       "      <td>2011</td>\n",
       "      <td>Misc</td>\n",
       "      <td>5.95</td>\n",
       "      <td>3.11</td>\n",
       "      <td>0.00</td>\n",
       "      <td>1.06</td>\n",
       "      <td>74.0</td>\n",
       "      <td>7.8</td>\n",
       "      <td>E10+</td>\n",
       "      <td>9.06</td>\n",
       "    </tr>\n",
       "    <tr>\n",
       "      <th>2</th>\n",
       "      <td>Just Dance 2</td>\n",
       "      <td>Wii</td>\n",
       "      <td>2010</td>\n",
       "      <td>Misc</td>\n",
       "      <td>5.80</td>\n",
       "      <td>2.85</td>\n",
       "      <td>0.01</td>\n",
       "      <td>0.78</td>\n",
       "      <td>74.0</td>\n",
       "      <td>7.3</td>\n",
       "      <td>E10+</td>\n",
       "      <td>8.66</td>\n",
       "    </tr>\n",
       "    <tr>\n",
       "      <th>3</th>\n",
       "      <td>Minecraft</td>\n",
       "      <td>X360</td>\n",
       "      <td>2013</td>\n",
       "      <td>Misc</td>\n",
       "      <td>5.70</td>\n",
       "      <td>2.65</td>\n",
       "      <td>0.02</td>\n",
       "      <td>0.81</td>\n",
       "      <td>69.0</td>\n",
       "      <td>6.6</td>\n",
       "      <td>unknown</td>\n",
       "      <td>8.37</td>\n",
       "    </tr>\n",
       "    <tr>\n",
       "      <th>4</th>\n",
       "      <td>Wii Party</td>\n",
       "      <td>Wii</td>\n",
       "      <td>2010</td>\n",
       "      <td>Misc</td>\n",
       "      <td>1.75</td>\n",
       "      <td>3.47</td>\n",
       "      <td>2.49</td>\n",
       "      <td>0.67</td>\n",
       "      <td>68.0</td>\n",
       "      <td>7.4</td>\n",
       "      <td>E</td>\n",
       "      <td>7.71</td>\n",
       "    </tr>\n",
       "    <tr>\n",
       "      <th>5</th>\n",
       "      <td>Just Dance 4</td>\n",
       "      <td>Wii</td>\n",
       "      <td>2012</td>\n",
       "      <td>Misc</td>\n",
       "      <td>4.05</td>\n",
       "      <td>2.16</td>\n",
       "      <td>0.00</td>\n",
       "      <td>0.55</td>\n",
       "      <td>74.0</td>\n",
       "      <td>7.3</td>\n",
       "      <td>E10+</td>\n",
       "      <td>6.21</td>\n",
       "    </tr>\n",
       "    <tr>\n",
       "      <th>6</th>\n",
       "      <td>Minecraft</td>\n",
       "      <td>PS3</td>\n",
       "      <td>2014</td>\n",
       "      <td>Misc</td>\n",
       "      <td>2.03</td>\n",
       "      <td>2.37</td>\n",
       "      <td>0.00</td>\n",
       "      <td>0.87</td>\n",
       "      <td>69.0</td>\n",
       "      <td>6.6</td>\n",
       "      <td>unknown</td>\n",
       "      <td>4.40</td>\n",
       "    </tr>\n",
       "    <tr>\n",
       "      <th>7</th>\n",
       "      <td>Nintendo Land</td>\n",
       "      <td>WiiU</td>\n",
       "      <td>2012</td>\n",
       "      <td>Misc</td>\n",
       "      <td>2.52</td>\n",
       "      <td>1.11</td>\n",
       "      <td>0.46</td>\n",
       "      <td>0.33</td>\n",
       "      <td>77.0</td>\n",
       "      <td>7.9</td>\n",
       "      <td>E10+</td>\n",
       "      <td>4.09</td>\n",
       "    </tr>\n",
       "    <tr>\n",
       "      <th>8</th>\n",
       "      <td>Michael Jackson: The Experience</td>\n",
       "      <td>Wii</td>\n",
       "      <td>2010</td>\n",
       "      <td>Misc</td>\n",
       "      <td>2.64</td>\n",
       "      <td>1.33</td>\n",
       "      <td>0.01</td>\n",
       "      <td>0.39</td>\n",
       "      <td>56.0</td>\n",
       "      <td>8.3</td>\n",
       "      <td>E10+</td>\n",
       "      <td>3.98</td>\n",
       "    </tr>\n",
       "    <tr>\n",
       "      <th>9</th>\n",
       "      <td>Minecraft</td>\n",
       "      <td>PS4</td>\n",
       "      <td>2014</td>\n",
       "      <td>Misc</td>\n",
       "      <td>1.48</td>\n",
       "      <td>2.02</td>\n",
       "      <td>0.14</td>\n",
       "      <td>0.68</td>\n",
       "      <td>69.0</td>\n",
       "      <td>6.6</td>\n",
       "      <td>unknown</td>\n",
       "      <td>3.64</td>\n",
       "    </tr>\n",
       "  </tbody>\n",
       "</table>\n",
       "</div>"
      ],
      "text/plain": [
       "                              name platform  year_of_release genre  na_sales  \\\n",
       "0               Kinect Adventures!     X360             2010  Misc     15.00   \n",
       "1                     Just Dance 3      Wii             2011  Misc      5.95   \n",
       "2                     Just Dance 2      Wii             2010  Misc      5.80   \n",
       "3                        Minecraft     X360             2013  Misc      5.70   \n",
       "4                        Wii Party      Wii             2010  Misc      1.75   \n",
       "5                     Just Dance 4      Wii             2012  Misc      4.05   \n",
       "6                        Minecraft      PS3             2014  Misc      2.03   \n",
       "7                    Nintendo Land     WiiU             2012  Misc      2.52   \n",
       "8  Michael Jackson: The Experience      Wii             2010  Misc      2.64   \n",
       "9                        Minecraft      PS4             2014  Misc      1.48   \n",
       "\n",
       "   eu_sales  jp_sales  other_sales  critic_score  user_score   rating  \\\n",
       "0      4.89      0.24         1.69          61.0         6.3        E   \n",
       "1      3.11      0.00         1.06          74.0         7.8     E10+   \n",
       "2      2.85      0.01         0.78          74.0         7.3     E10+   \n",
       "3      2.65      0.02         0.81          69.0         6.6  unknown   \n",
       "4      3.47      2.49         0.67          68.0         7.4        E   \n",
       "5      2.16      0.00         0.55          74.0         7.3     E10+   \n",
       "6      2.37      0.00         0.87          69.0         6.6  unknown   \n",
       "7      1.11      0.46         0.33          77.0         7.9     E10+   \n",
       "8      1.33      0.01         0.39          56.0         8.3     E10+   \n",
       "9      2.02      0.14         0.68          69.0         6.6  unknown   \n",
       "\n",
       "   total_sales  \n",
       "0        20.13  \n",
       "1         9.06  \n",
       "2         8.66  \n",
       "3         8.37  \n",
       "4         7.71  \n",
       "5         6.21  \n",
       "6         4.40  \n",
       "7         4.09  \n",
       "8         3.98  \n",
       "9         3.64  "
      ]
     },
     "metadata": {},
     "output_type": "display_data"
    }
   ],
   "source": [
    "# Generating a list of all duplicate games over different platforms\n",
    "names = [name for temp, name in sortDF.groupby('name')]\n",
    "duplicates = []\n",
    "for df in names:\n",
    "    df['rating'] = df['rating'].transform(lambda x: x.ffill().bfill())\n",
    "    if len(df) > 1:\n",
    "        # Gathering only the name of the game, its sales, the platform, and its ESRB Rating\n",
    "        duplicates.append(df) \n",
    "dupDF = pd.concat(duplicates, ignore_index=True)\n",
    "display(sortDF.head(10))"
   ]
  },
  {
   "cell_type": "code",
   "execution_count": 7,
   "metadata": {},
   "outputs": [
    {
     "data": {
      "application/vnd.jupyter.widget-view+json": {
       "model_id": "121d0a673f144995b56f01df6bddec5d",
       "version_major": 2,
       "version_minor": 0
      },
      "text/plain": [
       "interactive(children=(Dropdown(description='Metric:', options=('total_sales', 'na_sales', 'eu_sales', 'jp_sale…"
      ]
     },
     "metadata": {},
     "output_type": "display_data"
    },
    {
     "data": {
      "text/plain": [
       "<function __main__.platEDAGraph(metric)>"
      ]
     },
     "metadata": {},
     "output_type": "display_data"
    }
   ],
   "source": [
    "# grabbing the top 5 games that were released on multiple platforms\n",
    "topGames = dupDF.sort_values('total_sales', ascending=False).iloc[:7, :7] # 7 because of cross platform hits\n",
    "topUnique = topGames['name'].unique()\n",
    "\n",
    "topTenList = []\n",
    "\n",
    "# pulling each iteration of the top games from the whole dataset\n",
    "for _, row in dupDF.iterrows():\n",
    "    if row['name'] in topUnique:\n",
    "        topTenList.append(row[['name', 'na_sales', 'eu_sales', 'jp_sales', 'total_sales', 'platform', 'rating']])\n",
    "        \n",
    "topTenGames = pd.DataFrame(topTenList)\n",
    "topPlat = topTenGames['platform'].unique()\n",
    "\n",
    "x360 = []\n",
    "ps3 = []\n",
    "wii = []\n",
    "ds = []\n",
    "ps4 = []\n",
    "xone = []\n",
    "pc = []\n",
    "wiiu = []\n",
    "\n",
    "for _, game in topTenGames.iterrows():\n",
    "    if game['platform'] == 'X360':\n",
    "        x360.append(game)\n",
    "    elif game['platform'] == 'PS3':\n",
    "        ps3.append(game)\n",
    "    elif game['platform'] == 'Wii':\n",
    "        wii.append(game)\n",
    "    elif game['platform'] == 'DS':\n",
    "        ds.append(game)\n",
    "    elif game['platform'] == 'PS4':\n",
    "        ps4.append(game)\n",
    "    elif game['platform'] == 'XOne':\n",
    "        xone.append(game)\n",
    "    elif game['platform'] == 'PC':\n",
    "        pc.append(game)\n",
    "    else:\n",
    "        wiiu.append(game)\n",
    "\n",
    "x360 = pd.DataFrame(x360)\n",
    "ps3 = pd.DataFrame(ps3)\n",
    "xone = pd.DataFrame(xone)\n",
    "ps4 = pd.DataFrame(ps4)\n",
    "wii = pd.DataFrame(wii)\n",
    "wiiu = pd.DataFrame(wiiu)\n",
    "ds = pd.DataFrame(ds)\n",
    "pc = pd.DataFrame(pc)\n",
    "\n",
    "# Created an interactive graph to help with analysis later, this is top games divided by platform for regions\n",
    "def platEDAGraph(metric):\n",
    "    \n",
    "    #Setting the graph\n",
    "    plt.figure(figsize=(10,6))\n",
    "    \n",
    "    # Each of these bar graphs are another platform I want displayed on the final chart\n",
    "    plt.bar(x360['name'], x360[metric]) \n",
    "    plt.bar(ps3['name'], ps3[metric])\n",
    "    plt.bar(wii['name'], wii[metric])\n",
    "    plt.bar(xone['name'], xone[metric])\n",
    "    plt.bar(ps4['name'], ps4[metric])\n",
    "    plt.bar(wiiu['name'], wiiu[metric])\n",
    "    plt.bar(pc['name'], pc[metric])\n",
    "    plt.bar(ds['name'], ds[metric])\n",
    "\n",
    "    # This is so we can actually read the titles \n",
    "    plt.xticks(np.arange(len(topUnique)), topUnique) \n",
    "    plt.xlabel(\"Games\") \n",
    "    plt.ylabel(\"Total Sales ($mil)\") \n",
    "    plt.title(\"Top selling games Across All Avaliable Platforms\") \n",
    "    plt.legend(topPlat) \n",
    "    plt.xticks(rotation=45)\n",
    "    \n",
    "    plt.show()\n",
    "    \n",
    "# Interactive dropdown which changes the graphs throughout the whole notebook\n",
    "met_drop\n",
    "\n",
    "interact_widget = widgets.interact(platEDAGraph, metric=met_drop)\n",
    "display(interact_widget)"
   ]
  },
  {
   "cell_type": "code",
   "execution_count": 8,
   "metadata": {},
   "outputs": [
    {
     "data": {
      "application/vnd.jupyter.widget-view+json": {
       "model_id": "12606092f64e4e7db0877740da480a02",
       "version_major": 2,
       "version_minor": 0
      },
      "text/plain": [
       "interactive(children=(Dropdown(description='Genre:', options=('Misc', 'Action', 'Role-Playing', 'Shooter', 'Ra…"
      ]
     },
     "metadata": {},
     "output_type": "display_data"
    },
    {
     "data": {
      "text/plain": [
       "<function __main__.genGraph(genre, metric)>"
      ]
     },
     "metadata": {},
     "output_type": "display_data"
    }
   ],
   "source": [
    "# Generating Chart to show profitability based on a specific region and genre\n",
    "def genGraph(genre, metric):\n",
    "    # Setting selected Data from DataFrame\n",
    "    genPull = genresData[genre]\n",
    "\n",
    "    # Setting Titles based on Choices\n",
    "    plt.title(f'{genre} Games for {metric.replace(\"_\", \" \")}')\n",
    "    plt.ylabel('Sales (mil$)')\n",
    "    plt.xlabel('Games')\n",
    "\n",
    "    # Ploting Graph\n",
    "    plt.boxplot(genPull[metric], showfliers=False)\n",
    "    plt.show()\n",
    "\n",
    "gen_drop = widgets.Dropdown(options=genres, description='Genre:')\n",
    "met_drop\n",
    "interact_widget = widgets.interact(genGraph, genre=gen_drop, metric=met_drop)\n",
    "display(interact_widget)"
   ]
  },
  {
   "cell_type": "markdown",
   "metadata": {},
   "source": [
    "<h3>Findings and Results</h3>\n",
    "&nbsp;&nbsp;&nbsp;&nbsp;As you can explore from the bar graph above, the Xbox 360 is on its way out by 2016, along with the PS3. Both of which have their counterpart (the Xbox One and the PS4 respectfully) on the above and raising sales. It would make the most sense to prioritize games on these consoles moving forward simply because they make the most money with the fewest amount of games. The PS2, PSV, DS, PSP, Wii, and WiiU are preforming poorly, several with no sales in the last 3 years completely.</br>\n",
    "&nbsp;&nbsp;&nbsp;&nbsp;As you can see by the Scatter Plots above, games which sold poorly have varying degress of critical and user reviews. Critical reviews having the most variance in their ratings, it is fair to say that games which made a lot of money much more often have postive reviews but the correlation is weak between that and sales (0.31 being the highest for user_reviews and 0.37 for critc_reviews). Based off the box plots several genres have much more variance in their preformance with the common sales amongst all genres making less than $1 million globally. Shooter games having the greater liklihood to out preform the other genres.</br>\n",
    "&nbsp;&nbsp;&nbsp;&nbsp;At this point, based on these findings, I would suggest we prioritize our focus on Xbox One and PS4 Shooter and Action Games for 2017. The conclusion at the end will have a more comprehensive plan."
   ]
  },
  {
   "cell_type": "markdown",
   "metadata": {},
   "source": [
    "<h2>Comparing Specifics and Regions</h2>\n",
    "<h3>Updating DataFrames to tailor to a more specific scope</h3>\n",
    "<ol>\n",
    "    <li>Updating ratings to have cross Platform fill-in's for missing info.</li>\n",
    "    <li>Does the ESRB affect Sales in Individual regions?</li>\n",
    "</ol>"
   ]
  },
  {
   "cell_type": "code",
   "execution_count": 9,
   "metadata": {},
   "outputs": [],
   "source": [
    "#--- Updating Dataframe with Ratings across Platforms ---\n",
    "# Creating a copy of the DataFrame to preserve the original data and Cleaning dupDF\n",
    "modData = sortDF.copy()\n",
    "dupDF = dupDF.drop_duplicates(subset=['name', 'platform'])\n",
    "\n",
    "# Selecting necessary columns from dupDF to merge\n",
    "smallDupDF = dupDF[['name', 'platform', 'rating']]\n",
    "\n",
    "# Merging the updated ratings back into sortDF\n",
    "modData = pd.merge(\n",
    "    modData, \n",
    "    smallDupDF, \n",
    "    on=['name', 'platform'], \n",
    "    how='left', \n",
    "    suffixes=('', '_updated')\n",
    ")\n",
    "\n",
    "# Replace the old rating column with the updated one where available\n",
    "modData['rating'] = modData['rating_updated'].combine_first(modData['rating'])\n",
    "\n",
    "# Drop the temporary 'rating_updated' column\n",
    "modData.drop(columns=['rating_updated'], inplace=True)"
   ]
  },
  {
   "cell_type": "code",
   "execution_count": 10,
   "metadata": {},
   "outputs": [],
   "source": [
    "# getting total sales across all platforms into a single dataframe with one entry per game \n",
    "aggregate_functions = {\n",
    "    'total_sales': 'sum',\n",
    "    'na_sales': 'sum',\n",
    "    'eu_sales': 'sum',\n",
    "    'jp_sales': 'sum',\n",
    "    'rating': 'first'\n",
    "}\n",
    "crossPlatSales = dupDF.groupby('name').agg(aggregate_functions).reset_index()\n",
    "\n",
    "#---Merging crossPlatSales back into the DataFrame to have a single instance of game sales across ALL platforms---\n",
    "# Cleaning sortDF\n",
    "duplicates = modData['name'][modData.duplicated(subset=['name'], keep=False)].unique()\n",
    "duplicatesDF = modData[modData['name'].isin(duplicates)].copy()\n",
    "uniqueDF = modData[~modData['name'].isin(duplicates)].copy()\n",
    "\n",
    "# Merging together\n",
    "crossPlatDF = pd.concat([uniqueDF[['name','total_sales','na_sales','eu_sales','jp_sales','rating']], crossPlatSales], ignore_index=True)"
   ]
  },
  {
   "cell_type": "code",
   "execution_count": 11,
   "metadata": {},
   "outputs": [
    {
     "data": {
      "application/vnd.jupyter.widget-view+json": {
       "model_id": "cd5bb1fa80c242a68a4118195576c936",
       "version_major": 2,
       "version_minor": 0
      },
      "text/plain": [
       "interactive(children=(Dropdown(description='Metric:', options=('total_sales', 'na_sales', 'eu_sales', 'jp_sale…"
      ]
     },
     "metadata": {},
     "output_type": "display_data"
    },
    {
     "data": {
      "text/plain": [
       "<function __main__.finalEDAGraph(metric)>"
      ]
     },
     "metadata": {},
     "output_type": "display_data"
    }
   ],
   "source": [
    "# I found myself updating this chart a lot so I just made it interactive to help me out\n",
    "def finalEDAGraph(metric):\n",
    "    ESRBData = crossPlatDF.sort_values(metric, ascending=False)[['name', 'rating', metric, 'total_sales']]\n",
    "    display(ESRBData.head(10))\n",
    "met_drop\n",
    "interact_widget = widgets.interact(finalEDAGraph, metric=met_drop)\n",
    "display(interact_widget)"
   ]
  },
  {
   "cell_type": "markdown",
   "metadata": {},
   "source": [
    "<h3>Understanding Regions and Creating User Profile</h3>\n",
    "<ol>\n",
    "    <li>Creating a user profile for each region (NA, EU, JP) to determine:\n",
    "        <ul>\n",
    "            <li>Top Five Platforms</li>\n",
    "            <li>Top Five Genres</li>\n",
    "            <li>Does the ESRB affect sales</li>\n",
    "        </ul>\n",
    "    </li>\n",
    "</ol>"
   ]
  },
  {
   "cell_type": "markdown",
   "metadata": {},
   "source": [
    "<h4>User Profiles by Region</h4>\n",
    "<h5>North American (NA)</h5>\n",
    "&nbsp;&nbsp;&nbsp;&nbsp;North American gamers are focused on Fast AAA title games with little regard to ESRB ratings. 7 of the top 10 top selling titles are rated M. 5 being from the same franchise, with Grand Theft Auto 5 and Skyrim, both of which are well established brands. 2 of the top 10 do not fit into this mold but one is an Xbox exclusive which promised good health and better connectivity and another is Minecraft which found several new homes and more usability in 2016. </br>\n",
    "User Profile:\n",
    "<ul>\n",
    "    <li>Top Five Platforms (based off overall total sales for 2016)\n",
    "        <ol>\n",
    "            <li>Xbox 360 : &dollar;334.18 mil</li>\n",
    "            <li>PlayStation 3 : &dollar;229.25 mil</li>\n",
    "            <li>Wii : &dollar;121.20 mil</li>\n",
    "            <li>PlayStation 4 : &dollar;108.74 mil</li>\n",
    "            <li>Xbox One : &dollar;93.12 mil</li>\n",
    "        </ol>\n",
    "    </li>\n",
    "    <li>Top Five Genres (Where the smallest of the 5 is greater than the largest of japan genre sales, and almost double the smallest EU)\n",
    "        <ol>\n",
    "            <li>Action : &dollar;290.64 mil</li>\n",
    "            <li>Shooter &dollar;237.47 mil</li>\n",
    "            <li>Sports : &dollar;156.81 mil</li>\n",
    "            <li>Misc : &dollar;123.80 mil</li>\n",
    "            <li>Role-Playing : &dollar;112.05 mil</li>\n",
    "        </ol>\n",
    "    </li>   \n",
    "</ul>\n",
    "<h5>European (EU)</h5>\n",
    "&nbsp;&nbsp;&nbsp;&nbsp;Europe follows several trends as North Americans but has a more tempered approach and attitude towards games. The overall sales is greater than japan by a large margin but doesn't approach the level of money north americans spend on games. I don't know how much of an impact the ESRB rating had on people choosing to buy FIFA games but 4 out of the top 10 are in that franchise and with Minecraft being included there are half of the top ten games being family friendly; It is hard to argue that that is simply a coincidence.</br>\n",
    "User Profile:\n",
    "<ul>\n",
    "    <li>Top Five Platforms (based off overall total sales for 2016)\n",
    "        <ol>\n",
    "            <li>PlayStation 3 : &dollar;213.60 mil</li>\n",
    "            <li>Xbox 360 : &dollar;163.41 mil</li>\n",
    "            <li>PlayStation 4 : &dollar;141.09 mil</li>\n",
    "            <li>Personal Computer : &dollar;68.82 mil</li>\n",
    "            <li>Wii : &dollar;65.91 mil</li>\n",
    "        </ol>\n",
    "    </li>\n",
    "    <li>Top Five Genres\n",
    "        <ol>\n",
    "            <li>Action : &dollar;233.63 mil</li>\n",
    "            <li>Shooter : &dollar;171.45 mil</li>\n",
    "            <li>Sports : &dollar;116.84 mil</li>\n",
    "            <li>Role-Playing : &dollar;75.48 mil</li>\n",
    "            <li>Misc : &dollar;66.09 mil</li>\n",
    "        </ol>\n",
    "    </li>\n",
    "</ul>\n",
    "<h5>Japan (JP)</h5>\n",
    "&nbsp;&nbsp;&nbsp;&nbsp;The Japanese people have the most minimalist attitude towards purchasing new games within this dataset. They have the lowest numbers in every metric and their top games, platforms, and genres are very different from the NA and EU customers. Their choices would lead you to believe they are very sensitive to what they choose to buy and therefore I would believe the ESRB weighs heavy on their decsion to purchase a new game. In fact, based off this dataset I would assume several things factor into their decsion to investing time and money into this hobby.</br>\n",
    "User Profile:\n",
    "<ul>\n",
    "    <li>Top Five Platforms (based off overall total sales for 2016)\n",
    "        <ol>\n",
    "            <li>Nintendo 3DS : &dollar;100.62 mil</li>\n",
    "            <li>PlayStation 3 : &dollar;59.26 mil</li>\n",
    "            <li>PlayStation Portable : &dollar;42.20 mil</li>\n",
    "            <li>Nintendo DS : &dollar;27.90 mil</li>\n",
    "            <li>PlayStation Vita : &dollar;21.84 mil</li>\n",
    "        </ol>\n",
    "    </li>\n",
    "    <li>Top Five Genres\n",
    "        <ol>\n",
    "            <li>Role-Playing : &dollar;103.54 mil</li>\n",
    "            <li>Action : &dollar;72.20 mil</li>\n",
    "            <li>Misc : &dollar;24.29 mil</li>\n",
    "            <li>Platform : &dollar;15.81 mil</li>\n",
    "            <li>Adventure : &dollar;15.67 mil</li>\n",
    "        </ol>\n",
    "    </li>\n",
    "</ul"
   ]
  },
  {
   "cell_type": "code",
   "execution_count": 12,
   "metadata": {
    "scrolled": false
   },
   "outputs": [
    {
     "data": {
      "image/png": "[encoded data removed]",
      "text/plain": [
       "<Figure size 1500x500 with 2 Axes>"
      ]
     },
     "metadata": {},
     "output_type": "display_data"
    },
    {
     "data": {
      "image/png": "[encoded data removed]",
      "text/plain": [
       "<Figure size 1500x700 with 2 Axes>"
      ]
     },
     "metadata": {},
     "output_type": "display_data"
    }
   ],
   "source": [
    "# --- Visualization for the North American User Profile ---\n",
    "# Define the data\n",
    "platforms = ['Xbox 360', 'PlayStation 3', 'Wii', 'PlayStation 4', 'Xbox One']\n",
    "sales_platforms = [334.18, 229.25, 121.20, 108.74, 93.12]\n",
    "\n",
    "genres = ['Action', 'Shooter', 'Sports', 'Misc', 'Role-Playing']\n",
    "sales_genres = [290.64, 237.47, 156.81, 123.80, 112.05]\n",
    "\n",
    "# Creating Bar Plots\n",
    "fig, (ax1, ax2) = plt.subplots(1, 2, figsize=(15, 5))\n",
    "\n",
    "# Plotting platforms\n",
    "ax1.barh(platforms, sales_platforms, color='skyblue')\n",
    "ax1.set_title('Top Five Platforms in North America')\n",
    "ax1.set_xlabel('Total Sales (mil$)')\n",
    "ax1.set_ylabel('Platform')\n",
    "\n",
    "# Plotting genres\n",
    "ax2.barh(genres, sales_genres, color='lightgreen')\n",
    "ax2.set_title('Top Five Genres in North America')\n",
    "ax2.set_xlabel('Total Sales (mil$)')\n",
    "ax2.set_ylabel('Genre')\n",
    "\n",
    "# Showing Bar Charts\n",
    "plt.tight_layout()\n",
    "plt.show()\n",
    "\n",
    "#Creating Pie Charts\n",
    "fig, (ax1, ax2) = plt.subplots(1, 2, figsize=(15, 7))\n",
    "\n",
    "# Platform Pie Chart\n",
    "ax1.pie(sales_platforms, labels=platforms, autopct='%1.1f%%', startangle=140, colors=plt.cm.Paired.colors)\n",
    "ax1.set_title('Top Five Platforms in North America')\n",
    "\n",
    "# Genre Pie Chart\n",
    "ax2.pie(sales_genres, labels=genres, autopct='%1.1f%%', startangle=140, colors=plt.cm.Paired.colors)\n",
    "ax2.set_title('Top Five Genres in North America')\n",
    "\n",
    "# Show Pie Charts\n",
    "plt.tight_layout()\n",
    "plt.show()"
   ]
  },
  {
   "cell_type": "code",
   "execution_count": 13,
   "metadata": {},
   "outputs": [
    {
     "data": {
      "image/png": "[encoded data removed]",
      "text/plain": [
       "<Figure size 1500x500 with 2 Axes>"
      ]
     },
     "metadata": {},
     "output_type": "display_data"
    },
    {
     "data": {
      "image/png": "[encoded data removed]",
      "text/plain": [
       "<Figure size 1500x700 with 2 Axes>"
      ]
     },
     "metadata": {},
     "output_type": "display_data"
    }
   ],
   "source": [
    "# --- Visualization for the European User Profile ---\n",
    "# Define the data\n",
    "platforms = ['PlayStation 3', 'Xbox 360', 'PlayStation 4', 'Personal Computer', 'Wii']\n",
    "sales_platforms = [213.60, 163.41, 141.09, 68.82, 65.91]\n",
    "\n",
    "genres = ['Action', 'Shooter', 'Sports', 'Role-Playing', 'Misc']\n",
    "sales_genres = [233.63, 171.45, 116.84, 75.48, 66.09]\n",
    "\n",
    "# Creating Bar Plots\n",
    "fig, (ax1, ax2) = plt.subplots(1, 2, figsize=(15, 5))\n",
    "\n",
    "# Plotting platforms\n",
    "ax1.barh(platforms, sales_platforms, color='skyblue')\n",
    "ax1.set_title('Top Five Platforms in Europe')\n",
    "ax1.set_xlabel('Total Sales (mil$)')\n",
    "ax1.set_ylabel('Platform')\n",
    "\n",
    "# Plotting genres\n",
    "ax2.barh(genres, sales_genres, color='lightgreen')\n",
    "ax2.set_title('Top Five Genres in Europe')\n",
    "ax2.set_xlabel('Total Sales (mil$)')\n",
    "ax2.set_ylabel('Genre')\n",
    "\n",
    "# Showing Bar Charts\n",
    "plt.tight_layout()\n",
    "plt.show()\n",
    "\n",
    "#Creating Pie Charts\n",
    "fig, (ax1, ax2) = plt.subplots(1, 2, figsize=(15, 7))\n",
    "\n",
    "# Platform Pie Chart\n",
    "ax1.pie(sales_platforms, labels=platforms, autopct='%1.1f%%', startangle=140, colors=plt.cm.Paired.colors)\n",
    "ax1.set_title('Top Five Platforms in Europe')\n",
    "\n",
    "# Genre Pie Chart\n",
    "ax2.pie(sales_genres, labels=genres, autopct='%1.1f%%', startangle=140, colors=plt.cm.Paired.colors)\n",
    "ax2.set_title('Top Five Genres in Europe')\n",
    "\n",
    "# Show Pie Charts\n",
    "plt.tight_layout()\n",
    "plt.show()"
   ]
  },
  {
   "cell_type": "code",
   "execution_count": 14,
   "metadata": {},
   "outputs": [
    {
     "data": {
      "image/png": "[encoded data removed]",
      "text/plain": [
       "<Figure size 1000x500 with 1 Axes>"
      ]
     },
     "metadata": {},
     "output_type": "display_data"
    },
    {
     "data": {
      "image/png": "[encoded data removed]",
      "text/plain": [
       "<Figure size 1500x500 with 2 Axes>"
      ]
     },
     "metadata": {},
     "output_type": "display_data"
    },
    {
     "data": {
      "image/png": "[encoded data removed]",
      "text/plain": [
       "<Figure size 1500x700 with 2 Axes>"
      ]
     },
     "metadata": {},
     "output_type": "display_data"
    }
   ],
   "source": [
    "# --- Visualization for the Japan User Profile ---\n",
    "# Threshold to define significant sales\n",
    "sales_threshold = 0.5  # Adjust as required\n",
    "\n",
    "# Filter games with significant sales in Japan\n",
    "significant_japan_sales = modData[modData['jp_sales'] > sales_threshold]\n",
    "\n",
    "# Aggregate ratings for games with significant sales in Japan\n",
    "japan_ratings = significant_japan_sales['rating'].value_counts()\n",
    "\n",
    "# Visualizing the Rating Distribution\n",
    "plt.figure(figsize=(10, 5))\n",
    "plt.bar(japan_ratings.index, japan_ratings.values, color='skyblue')\n",
    "plt.title('Distribution of Ratings for Games with Significant Sales in Japan')\n",
    "plt.xlabel('Rating')\n",
    "plt.ylabel('Number of Games')\n",
    "\n",
    "# Annotate counts on bars\n",
    "for i, count in enumerate(japan_ratings.values):\n",
    "    plt.text(i, count + 1, str(count), ha='center', va='bottom')\n",
    "\n",
    "plt.tight_layout()\n",
    "plt.show()\n",
    "\n",
    "# Define the data\n",
    "platforms = ['Nintendo 3DS', 'PlayStation 3', 'PlayStation Portable', 'Nintendo DS', 'PlayStation Vita']\n",
    "sales_platforms = [100.62, 59.26, 42.20, 27.90, 21.84]\n",
    "\n",
    "genres = ['Role-Playing', 'Action', 'Misc', 'Platform', 'Adventure']\n",
    "sales_genres = [103.54, 72.20, 24.29, 15.81, 15.67]\n",
    "\n",
    "# Create subplots\n",
    "fig, (ax1, ax2) = plt.subplots(1, 2, figsize=(15, 5))\n",
    "\n",
    "# Plot for platforms\n",
    "ax1.barh(platforms, sales_platforms, color='skyblue')\n",
    "ax1.set_title('Top Five Platforms in Japan')\n",
    "ax1.set_xlabel('Total Sales (mil$)')\n",
    "ax1.set_ylabel('Platform')\n",
    "\n",
    "# Plot for genres\n",
    "ax2.barh(genres, sales_genres, color='lightgreen')\n",
    "ax2.set_title('Top Five Genres in Japan')\n",
    "ax2.set_xlabel('Total Sales (mil$)')\n",
    "ax2.set_ylabel('Genre')\n",
    "\n",
    "# Show plots\n",
    "plt.tight_layout()\n",
    "plt.show()\n",
    "\n",
    "# Pie charts\n",
    "fig, (ax1, ax2) = plt.subplots(1, 2, figsize=(15, 7))\n",
    "\n",
    "# Platform Pie Chart\n",
    "ax1.pie(sales_platforms, labels=platforms, autopct='%1.1f%%', startangle=140, colors=plt.cm.Paired.colors)\n",
    "ax1.set_title('Top Five Platforms in Japan')\n",
    "\n",
    "# Genre Pie Chart\n",
    "ax2.pie(sales_genres, labels=genres, autopct='%1.1f%%', startangle=140, colors=plt.cm.Paired.colors)\n",
    "ax2.set_title('Top Five Genres in Japan')\n",
    "\n",
    "# Show plots\n",
    "plt.tight_layout()\n",
    "plt.show()\n"
   ]
  },
  {
   "cell_type": "markdown",
   "metadata": {},
   "source": [
    "<h3>Preliminary EDA Conclusions</h3>\n",
    "&nbsp;&nbsp;&nbsp;&nbsp;I stand by my overall assessments of the different regions and I found several interesting data points. Europeans having personal computer on their top 5 platforms was a shock, at number 4 no less, but it opens a deeper understanding of that audiance. Japan, who has always seemed like a video-game enthusiastic culture was by far the weakest of the three, in several graphs the Japanese sales numbers are just simply not there.</br>\n",
    "&nbsp;&nbsp;&nbsp;&nbsp;My recommendation would be to focus on the North American and European markets, focusing on trends and paying attention to the \"safe bets\"(large franchises, anticipated sequels, etc.). With a North American venture being some \"next-level\" AAA title that is fast and action-orientated. Branching out into the european client base I would recommend aiming for a family-friendly action based Sony driven experience. Trying to cross the two approaches may be damaging as north americans may find any title that's safe enough for big numbers with a european audiance too boring or slow.   "
   ]
  },
  {
   "cell_type": "markdown",
   "metadata": {},
   "source": [
    "<h2>Statistical Analysis</h2>\n",
    "<h3>Defining and Testing Hypotheses</h3>\n",
    "<ol>\n",
    "    <li>\"Average user ratings of the Xbox One and PC Platforms are the same\"</li>\n",
    "    <li>\"Average user ratings for the Action and Sports Genres are different\"</li>\n",
    "    <ul>\n",
    "        <li>Set the Alpha Threshold Value</li>\n",
    "        <li>Explain how the null and alternative hypotheses were formulated</li>\n",
    "        <li>Explain what significance level was chosen to test the hypotheses and why</li>\n",
    "    </ul>\n",
    "</ol>"
   ]
  },
  {
   "cell_type": "code",
   "execution_count": 16,
   "metadata": {},
   "outputs": [
    {
     "name": "stdout",
     "output_type": "stream",
     "text": [
      "p-value:  0.9627460115445088\n",
      "We can't reject the null hypothesis\n",
      "We cannot conclude that the user ratings for Xbox One and PC platforms are significantly different\n"
     ]
    }
   ],
   "source": [
    "# --- Formulating and Testing a null hypotheses that Xbox One and PC Platforms are the same ---\n",
    "\n",
    "# Setting variables\n",
    "user_xone = modData.loc[modData['platform']=='XOne', 'user_score'].dropna()\n",
    "user_pc = modData.loc[modData['platform']=='PC', 'user_score'].dropna()\n",
    "\n",
    "# Using an independent test to test independent variables\n",
    "results = st.ttest_ind(user_xone, user_pc, equal_var=False)\n",
    "\n",
    "# Having a 10% margin makes sense to me to handle any outliers in the Data and get an accurate answer\n",
    "alpha = 0.1\n",
    "\n",
    "print('p-value: ', results.pvalue)\n",
    "\n",
    "if results.pvalue < alpha:\n",
    "    print(\"We reject the null hypothesis\")\n",
    "    print(\"The user ratings for Xbox One and PC platforms are significantly different\")\n",
    "else:\n",
    "    print(\"We can't reject the null hypothesis\")\n",
    "    print(\"We cannot conclude that the user ratings for Xbox One and PC platforms are significantly different\")\n"
   ]
  },
  {
   "cell_type": "code",
   "execution_count": 17,
   "metadata": {},
   "outputs": [
    {
     "name": "stdout",
     "output_type": "stream",
     "text": [
      "p-value:  2.120332525376217e-47\n",
      "We reject the null hypothesis\n",
      "The user ratings for Action and Sports genres are significantly different\n"
     ]
    }
   ],
   "source": [
    "# --- Formulating and Testing a null hypothesis that user ratings for the Action and Sports Genres are the Same --\n",
    "\n",
    "# Setting Variables\n",
    "user_action = modData.loc[modData['genre']=='Action', 'user_score'].dropna()\n",
    "user_sport = modData.loc[modData['genre']=='Sports', 'user_score'].dropna()\n",
    "\n",
    "# Using the same two-tailed independent test to test the independent variables\n",
    "results = st.ttest_ind(user_action, user_sport, equal_var=False)\n",
    "\n",
    "# Keeping the same 10% margin of error as I had from the last cell\n",
    "alpha = 0.1\n",
    "\n",
    "print('p-value: ', results.pvalue)\n",
    "\n",
    "if results.pvalue < alpha:\n",
    "    print(\"We reject the null hypothesis\")\n",
    "    print(\"The user ratings for Action and Sports genres are significantly different\")\n",
    "else:\n",
    "    print(\"We can't reject the null hypothesis\")\n",
    "    print(\"We cannot conclude that the user ratings for Action and Sports genres are different\")"
   ]
  },
  {
   "cell_type": "markdown",
   "metadata": {},
   "source": [
    "<h2>Conclusion</h2>\n",
    "&nbsp;&nbsp;&nbsp;&nbsp;As mentioned in my earlier observations and based on the conclusions to the hypotheses I just constructed and tested, I believe there is a strong inclination to focus on larger AAA Action and Shooter titles releasing on xbox and playstation systems in the North American territory, branching out into Europe with strong, or well-known, family oriented sony branded Action style games, and spending very little time on Japan focused collections.</br>\n",
    "&nbsp;&nbsp;&nbsp;&nbsp;There is a significant difference in user ratings across the board on both metrics of genre and platform. We should not neglect to consider these factors, Xbox 360 and Playstation 3 are still pulling in large amounts of money, with the prosperity of both consoles on the downward slope we should consider the Xbox One and Playstation 4 markets as a focus for this coming year. "
   ]
  }
 ],
 "metadata": {
  "ExecuteTimeLog": [
   {
    "duration": 2589,
    "start_time": "2024-09-10T14:48:09.297Z"
   },
   {
    "duration": 2,
    "start_time": "2024-09-11T01:06:41.637Z"
   },
   {
    "duration": 595,
    "start_time": "2024-09-11T01:07:02.514Z"
   },
   {
    "duration": 2,
    "start_time": "2024-09-11T01:07:10.057Z"
   },
   {
    "duration": 73,
    "start_time": "2024-09-11T01:07:10.974Z"
   },
   {
    "duration": 103,
    "start_time": "2024-09-11T01:07:16.391Z"
   },
   {
    "duration": 7,
    "start_time": "2024-09-11T01:07:43.130Z"
   },
   {
    "duration": 196,
    "start_time": "2024-09-11T01:08:01.042Z"
   },
   {
    "duration": 161,
    "start_time": "2024-09-11T01:11:30.522Z"
   },
   {
    "duration": 154,
    "start_time": "2024-09-11T01:11:47.894Z"
   },
   {
    "duration": 30553,
    "start_time": "2024-09-11T01:16:57.880Z"
   },
   {
    "duration": 32664,
    "start_time": "2024-09-11T01:18:04.940Z"
   },
   {
    "duration": 173,
    "start_time": "2024-09-11T01:19:31.232Z"
   },
   {
    "duration": 168,
    "start_time": "2024-09-11T01:20:08.293Z"
   },
   {
    "duration": 135,
    "start_time": "2024-09-11T01:22:01.466Z"
   },
   {
    "duration": 179,
    "start_time": "2024-09-11T01:22:14.531Z"
   },
   {
    "duration": 159,
    "start_time": "2024-09-11T01:22:24.355Z"
   },
   {
    "duration": 51,
    "start_time": "2024-09-11T01:32:49.385Z"
   },
   {
    "duration": 159,
    "start_time": "2024-09-11T01:32:52.739Z"
   },
   {
    "duration": 50,
    "start_time": "2024-09-11T01:33:15.284Z"
   },
   {
    "duration": 158,
    "start_time": "2024-09-11T01:33:17.837Z"
   },
   {
    "duration": 7,
    "start_time": "2024-09-11T01:49:22.774Z"
   },
   {
    "duration": 246,
    "start_time": "2024-09-11T01:50:23.713Z"
   },
   {
    "duration": 162,
    "start_time": "2024-09-11T01:52:10.527Z"
   },
   {
    "duration": 54,
    "start_time": "2024-09-11T01:56:55.391Z"
   },
   {
    "duration": 47,
    "start_time": "2024-09-11T01:57:38.799Z"
   },
   {
    "duration": 149,
    "start_time": "2024-09-11T02:05:34.770Z"
   },
   {
    "duration": 167,
    "start_time": "2024-09-11T02:09:36.025Z"
   },
   {
    "duration": 220,
    "start_time": "2024-09-11T02:09:54.132Z"
   },
   {
    "duration": 163,
    "start_time": "2024-09-11T02:10:30.964Z"
   },
   {
    "duration": 161,
    "start_time": "2024-09-11T02:13:24.905Z"
   },
   {
    "duration": 142,
    "start_time": "2024-09-11T02:25:56.905Z"
   },
   {
    "duration": 141,
    "start_time": "2024-09-11T02:26:21.672Z"
   },
   {
    "duration": 172,
    "start_time": "2024-09-11T02:29:11.021Z"
   },
   {
    "duration": 207,
    "start_time": "2024-09-11T02:29:21.996Z"
   },
   {
    "duration": 212,
    "start_time": "2024-09-11T02:31:31.722Z"
   },
   {
    "duration": 173,
    "start_time": "2024-09-11T02:40:57.909Z"
   },
   {
    "duration": 164,
    "start_time": "2024-09-11T02:41:53.997Z"
   },
   {
    "duration": 1239,
    "start_time": "2024-09-11T02:46:32.205Z"
   },
   {
    "duration": 1069,
    "start_time": "2024-09-11T02:50:58.441Z"
   },
   {
    "duration": 17,
    "start_time": "2024-09-11T03:03:44.438Z"
   },
   {
    "duration": 167,
    "start_time": "2024-09-11T03:03:53.007Z"
   },
   {
    "duration": 257,
    "start_time": "2024-09-11T03:04:22.899Z"
   },
   {
    "duration": 168,
    "start_time": "2024-09-11T03:04:44.719Z"
   },
   {
    "duration": 169,
    "start_time": "2024-09-11T03:06:46.157Z"
   },
   {
    "duration": 6,
    "start_time": "2024-09-11T03:12:25.995Z"
   },
   {
    "duration": 309,
    "start_time": "2024-09-11T03:12:36.887Z"
   },
   {
    "duration": 92,
    "start_time": "2024-09-11T03:18:46.140Z"
   },
   {
    "duration": 50,
    "start_time": "2024-09-11T03:20:03.345Z"
   },
   {
    "duration": 59,
    "start_time": "2024-09-11T03:40:13.719Z"
   },
   {
    "duration": 157,
    "start_time": "2024-09-11T03:40:22.122Z"
   },
   {
    "duration": 196,
    "start_time": "2024-09-11T03:40:24.665Z"
   },
   {
    "duration": 71,
    "start_time": "2024-09-11T03:40:49.763Z"
   },
   {
    "duration": 148,
    "start_time": "2024-09-11T03:40:54.997Z"
   },
   {
    "duration": 47,
    "start_time": "2024-09-11T03:41:15.817Z"
   },
   {
    "duration": 152,
    "start_time": "2024-09-11T03:41:17.396Z"
   },
   {
    "duration": 7,
    "start_time": "2024-09-11T03:51:23.831Z"
   },
   {
    "duration": 139,
    "start_time": "2024-09-11T03:51:42.718Z"
   },
   {
    "duration": 47,
    "start_time": "2024-09-11T03:52:40.235Z"
   },
   {
    "duration": 66,
    "start_time": "2024-09-11T03:52:49.025Z"
   },
   {
    "duration": 146,
    "start_time": "2024-09-11T03:52:53.956Z"
   },
   {
    "duration": 50,
    "start_time": "2024-09-11T03:54:10.523Z"
   },
   {
    "duration": 159,
    "start_time": "2024-09-11T03:54:14.124Z"
   },
   {
    "duration": 282,
    "start_time": "2024-09-11T03:54:27.910Z"
   },
   {
    "duration": 183,
    "start_time": "2024-09-11T03:54:28.846Z"
   },
   {
    "duration": 187,
    "start_time": "2024-09-11T03:54:36.363Z"
   },
   {
    "duration": 51,
    "start_time": "2024-09-11T03:56:38.457Z"
   },
   {
    "duration": 6,
    "start_time": "2024-09-11T03:58:29.200Z"
   },
   {
    "duration": 70,
    "start_time": "2024-09-11T03:58:34.647Z"
   },
   {
    "duration": 60,
    "start_time": "2024-09-11T03:58:41.575Z"
   },
   {
    "duration": 542,
    "start_time": "2024-09-11T04:00:00.464Z"
   },
   {
    "duration": 797,
    "start_time": "2024-09-11T04:01:15.804Z"
   },
   {
    "duration": 738,
    "start_time": "2024-09-11T04:01:16.603Z"
   },
   {
    "duration": 0,
    "start_time": "2024-09-11T04:01:17.343Z"
   },
   {
    "duration": 0,
    "start_time": "2024-09-11T04:01:17.344Z"
   },
   {
    "duration": 0,
    "start_time": "2024-09-11T04:01:17.345Z"
   },
   {
    "duration": 56,
    "start_time": "2024-09-11T04:02:00.421Z"
   },
   {
    "duration": 78,
    "start_time": "2024-09-11T04:02:07.029Z"
   },
   {
    "duration": 53,
    "start_time": "2024-09-11T04:02:47.583Z"
   },
   {
    "duration": 50,
    "start_time": "2024-09-11T04:03:38.347Z"
   },
   {
    "duration": 61,
    "start_time": "2024-09-11T04:07:36.191Z"
   },
   {
    "duration": 53,
    "start_time": "2024-09-11T04:07:57.150Z"
   },
   {
    "duration": 57,
    "start_time": "2024-09-11T04:07:58.807Z"
   },
   {
    "duration": 49,
    "start_time": "2024-09-11T04:08:12.446Z"
   },
   {
    "duration": 817,
    "start_time": "2024-09-11T04:08:20.471Z"
   },
   {
    "duration": 59,
    "start_time": "2024-09-11T04:08:21.290Z"
   },
   {
    "duration": 189,
    "start_time": "2024-09-11T04:08:21.350Z"
   },
   {
    "duration": 444,
    "start_time": "2024-09-11T04:08:21.541Z"
   },
   {
    "duration": 1133,
    "start_time": "2024-09-11T04:08:21.987Z"
   },
   {
    "duration": 65,
    "start_time": "2024-09-11T04:11:02.704Z"
   },
   {
    "duration": 76,
    "start_time": "2024-09-11T04:13:20.020Z"
   },
   {
    "duration": 47,
    "start_time": "2024-09-11T04:13:39.049Z"
   },
   {
    "duration": 116,
    "start_time": "2024-09-11T04:21:07.913Z"
   },
   {
    "duration": 50,
    "start_time": "2024-09-11T04:21:19.689Z"
   },
   {
    "duration": 48,
    "start_time": "2024-09-11T04:25:45.115Z"
   },
   {
    "duration": 46,
    "start_time": "2024-09-11T04:25:57.122Z"
   },
   {
    "duration": 70,
    "start_time": "2024-09-11T04:28:07.824Z"
   },
   {
    "duration": 46,
    "start_time": "2024-09-11T04:29:45.774Z"
   },
   {
    "duration": 49,
    "start_time": "2024-09-11T04:32:55.363Z"
   },
   {
    "duration": 46,
    "start_time": "2024-09-11T04:37:14.750Z"
   },
   {
    "duration": 74,
    "start_time": "2024-09-11T04:37:23.133Z"
   },
   {
    "duration": 46,
    "start_time": "2024-09-11T04:37:54.036Z"
   },
   {
    "duration": 47,
    "start_time": "2024-09-11T04:38:08.396Z"
   },
   {
    "duration": 457,
    "start_time": "2024-09-11T04:40:33.449Z"
   },
   {
    "duration": 98,
    "start_time": "2024-09-11T04:43:15.362Z"
   },
   {
    "duration": 54,
    "start_time": "2024-09-11T04:43:30.846Z"
   },
   {
    "duration": 51,
    "start_time": "2024-09-11T04:43:38.508Z"
   },
   {
    "duration": 67,
    "start_time": "2024-09-11T04:44:31.525Z"
   },
   {
    "duration": 66,
    "start_time": "2024-09-11T04:44:54.595Z"
   },
   {
    "duration": 158,
    "start_time": "2024-09-11T04:45:16.444Z"
   },
   {
    "duration": 82,
    "start_time": "2024-09-11T04:45:30.668Z"
   },
   {
    "duration": 153,
    "start_time": "2024-09-11T04:45:33.994Z"
   },
   {
    "duration": 186,
    "start_time": "2024-09-11T04:45:35.391Z"
   },
   {
    "duration": 70,
    "start_time": "2024-09-11T04:46:12.243Z"
   },
   {
    "duration": 203,
    "start_time": "2024-09-11T04:48:21.306Z"
   },
   {
    "duration": 191,
    "start_time": "2024-09-11T04:55:51.067Z"
   },
   {
    "duration": 195,
    "start_time": "2024-09-11T04:56:37.438Z"
   },
   {
    "duration": 192,
    "start_time": "2024-09-11T04:57:31.351Z"
   },
   {
    "duration": 192,
    "start_time": "2024-09-11T04:58:23.002Z"
   },
   {
    "duration": 217,
    "start_time": "2024-09-11T04:58:49.700Z"
   },
   {
    "duration": 191,
    "start_time": "2024-09-11T04:58:59.346Z"
   },
   {
    "duration": 173,
    "start_time": "2024-09-11T05:02:06.480Z"
   },
   {
    "duration": 174,
    "start_time": "2024-09-11T05:02:21.263Z"
   },
   {
    "duration": 174,
    "start_time": "2024-09-11T05:05:47.950Z"
   },
   {
    "duration": 1224,
    "start_time": "2024-09-11T05:05:49.767Z"
   },
   {
    "duration": 181,
    "start_time": "2024-09-11T14:22:55.181Z"
   },
   {
    "duration": 2831,
    "start_time": "2024-09-11T14:23:01.121Z"
   },
   {
    "duration": 104,
    "start_time": "2024-09-11T14:23:03.958Z"
   },
   {
    "duration": 184,
    "start_time": "2024-09-11T14:23:05.365Z"
   },
   {
    "duration": 196,
    "start_time": "2024-09-11T14:23:06.482Z"
   },
   {
    "duration": 202,
    "start_time": "2024-09-11T14:36:50.129Z"
   },
   {
    "duration": 4,
    "start_time": "2024-09-11T15:44:19.960Z"
   },
   {
    "duration": 91,
    "start_time": "2024-09-11T15:44:34.213Z"
   },
   {
    "duration": 6,
    "start_time": "2024-09-11T15:44:38.068Z"
   },
   {
    "duration": 34,
    "start_time": "2024-09-11T15:44:41.900Z"
   },
   {
    "duration": 13,
    "start_time": "2024-09-11T15:45:04.085Z"
   },
   {
    "duration": 13,
    "start_time": "2024-09-11T15:45:35.988Z"
   },
   {
    "duration": 14,
    "start_time": "2024-09-11T15:47:20.430Z"
   },
   {
    "duration": 15,
    "start_time": "2024-09-11T15:47:56.264Z"
   },
   {
    "duration": 8,
    "start_time": "2024-09-11T15:49:00.625Z"
   },
   {
    "duration": 8977,
    "start_time": "2024-09-11T15:53:18.299Z"
   },
   {
    "duration": 211,
    "start_time": "2024-09-11T15:53:29.025Z"
   },
   {
    "duration": 8977,
    "start_time": "2024-09-11T15:53:39.269Z"
   },
   {
    "duration": 202,
    "start_time": "2024-09-11T15:57:07.888Z"
   },
   {
    "duration": 110,
    "start_time": "2024-09-11T15:57:18.829Z"
   },
   {
    "duration": 181,
    "start_time": "2024-09-11T15:57:53.954Z"
   },
   {
    "duration": 188,
    "start_time": "2024-09-11T15:58:06.645Z"
   },
   {
    "duration": 103,
    "start_time": "2024-09-11T16:01:20.732Z"
   },
   {
    "duration": 151,
    "start_time": "2024-09-11T16:01:41.850Z"
   },
   {
    "duration": 5,
    "start_time": "2024-09-11T16:02:07.931Z"
   },
   {
    "duration": 198,
    "start_time": "2024-09-11T16:02:12.834Z"
   },
   {
    "duration": 91,
    "start_time": "2024-09-11T16:03:26.977Z"
   },
   {
    "duration": 215,
    "start_time": "2024-09-11T16:04:42.471Z"
   },
   {
    "duration": 167,
    "start_time": "2024-09-11T16:04:53.758Z"
   },
   {
    "duration": 98,
    "start_time": "2024-09-11T16:05:05.694Z"
   },
   {
    "duration": 3192,
    "start_time": "2024-09-11T16:06:22.132Z"
   },
   {
    "duration": 648,
    "start_time": "2024-09-11T16:08:06.795Z"
   },
   {
    "duration": 634,
    "start_time": "2024-09-11T16:08:17.090Z"
   },
   {
    "duration": 610,
    "start_time": "2024-09-11T16:12:25.726Z"
   },
   {
    "duration": 590,
    "start_time": "2024-09-11T16:12:58.654Z"
   },
   {
    "duration": 623,
    "start_time": "2024-09-11T16:13:22.452Z"
   },
   {
    "duration": 91,
    "start_time": "2024-09-11T16:13:59.364Z"
   },
   {
    "duration": 3000,
    "start_time": "2024-09-11T16:14:15.467Z"
   },
   {
    "duration": 198,
    "start_time": "2024-09-11T16:15:10.235Z"
   },
   {
    "duration": 1547,
    "start_time": "2024-09-11T16:15:26.073Z"
   },
   {
    "duration": 1638,
    "start_time": "2024-09-11T16:15:42.420Z"
   },
   {
    "duration": 11,
    "start_time": "2024-09-11T16:42:08.525Z"
   },
   {
    "duration": 315,
    "start_time": "2024-09-11T16:42:25.498Z"
   },
   {
    "duration": 172,
    "start_time": "2024-09-11T16:44:23.301Z"
   },
   {
    "duration": 143,
    "start_time": "2024-09-11T16:49:20.047Z"
   },
   {
    "duration": 180,
    "start_time": "2024-09-11T16:49:43.491Z"
   },
   {
    "duration": 1597,
    "start_time": "2024-09-11T17:09:45.982Z"
   },
   {
    "duration": 93,
    "start_time": "2024-09-11T17:13:55.204Z"
   },
   {
    "duration": 264,
    "start_time": "2024-09-11T17:16:35.576Z"
   },
   {
    "duration": 263,
    "start_time": "2024-09-11T17:17:19.303Z"
   },
   {
    "duration": 143,
    "start_time": "2024-09-11T17:17:51.359Z"
   },
   {
    "duration": 152,
    "start_time": "2024-09-11T17:18:34.125Z"
   },
   {
    "duration": 152,
    "start_time": "2024-09-11T17:18:46.908Z"
   },
   {
    "duration": 167,
    "start_time": "2024-09-11T17:19:07.269Z"
   },
   {
    "duration": 401,
    "start_time": "2024-09-11T17:19:48.809Z"
   },
   {
    "duration": 171,
    "start_time": "2024-09-11T17:22:06.786Z"
   },
   {
    "duration": 4,
    "start_time": "2024-09-11T17:27:10.661Z"
   },
   {
    "duration": 3,
    "start_time": "2024-09-11T17:27:15.844Z"
   },
   {
    "duration": 8,
    "start_time": "2024-09-11T17:34:28.707Z"
   },
   {
    "duration": 111,
    "start_time": "2024-09-11T17:36:37.279Z"
   },
   {
    "duration": 111,
    "start_time": "2024-09-11T17:38:50.584Z"
   },
   {
    "duration": 140,
    "start_time": "2024-09-11T17:39:06.096Z"
   },
   {
    "duration": 9,
    "start_time": "2024-09-11T17:48:43.117Z"
   },
   {
    "duration": 1074,
    "start_time": "2024-09-11T17:48:57.687Z"
   },
   {
    "duration": 110,
    "start_time": "2024-09-11T17:53:24.797Z"
   },
   {
    "duration": 10,
    "start_time": "2024-09-11T18:00:05.230Z"
   },
   {
    "duration": 3,
    "start_time": "2024-09-11T18:00:12.388Z"
   },
   {
    "duration": 5,
    "start_time": "2024-09-11T18:00:22.424Z"
   },
   {
    "duration": 1702,
    "start_time": "2024-09-11T18:02:23.851Z"
   },
   {
    "duration": 5207,
    "start_time": "2024-09-11T18:19:54.829Z"
   },
   {
    "duration": 3216,
    "start_time": "2024-09-11T18:20:42.312Z"
   },
   {
    "duration": 1112,
    "start_time": "2024-09-11T18:29:00.353Z"
   },
   {
    "duration": 1122,
    "start_time": "2024-09-11T18:29:41.190Z"
   },
   {
    "duration": 1311,
    "start_time": "2024-09-11T18:29:56.503Z"
   },
   {
    "duration": 1124,
    "start_time": "2024-09-11T18:30:18.650Z"
   },
   {
    "duration": 1048,
    "start_time": "2024-09-11T18:30:27.781Z"
   },
   {
    "duration": 1241,
    "start_time": "2024-09-11T18:30:59.901Z"
   },
   {
    "duration": 3662,
    "start_time": "2024-09-11T18:35:31.295Z"
   },
   {
    "duration": 4,
    "start_time": "2024-09-11T18:39:26.432Z"
   },
   {
    "duration": 3,
    "start_time": "2024-09-11T18:39:34.181Z"
   },
   {
    "duration": 3610,
    "start_time": "2024-09-11T18:44:57.216Z"
   },
   {
    "duration": 1083,
    "start_time": "2024-09-11T18:45:20.814Z"
   },
   {
    "duration": 1351,
    "start_time": "2024-09-11T18:45:51.694Z"
   },
   {
    "duration": 858,
    "start_time": "2024-09-11T18:46:03.421Z"
   },
   {
    "duration": 101,
    "start_time": "2024-09-11T18:46:04.281Z"
   },
   {
    "duration": 167,
    "start_time": "2024-09-11T18:46:04.383Z"
   },
   {
    "duration": 193,
    "start_time": "2024-09-11T18:46:04.553Z"
   },
   {
    "duration": 1235,
    "start_time": "2024-09-11T18:46:04.749Z"
   },
   {
    "duration": 2256,
    "start_time": "2024-09-11T18:46:05.986Z"
   },
   {
    "duration": 121,
    "start_time": "2024-09-11T18:46:08.244Z"
   },
   {
    "duration": 3,
    "start_time": "2024-09-11T18:46:08.367Z"
   },
   {
    "duration": 2258,
    "start_time": "2024-09-11T18:46:53.321Z"
   },
   {
    "duration": 4,
    "start_time": "2024-09-11T18:47:08.861Z"
   },
   {
    "duration": 309,
    "start_time": "2024-09-11T19:01:13.693Z"
   },
   {
    "duration": 6,
    "start_time": "2024-09-11T19:01:30.048Z"
   },
   {
    "duration": 11,
    "start_time": "2024-09-11T19:01:58.941Z"
   },
   {
    "duration": 19,
    "start_time": "2024-09-11T19:04:30.917Z"
   },
   {
    "duration": 11,
    "start_time": "2024-09-11T19:05:19.368Z"
   },
   {
    "duration": 431,
    "start_time": "2024-09-11T19:10:49.569Z"
   },
   {
    "duration": 1876,
    "start_time": "2024-09-11T19:11:08.934Z"
   },
   {
    "duration": 13,
    "start_time": "2024-09-11T19:11:12.921Z"
   },
   {
    "duration": 13,
    "start_time": "2024-09-11T19:13:37.749Z"
   },
   {
    "duration": 12,
    "start_time": "2024-09-11T19:14:10.851Z"
   },
   {
    "duration": 17,
    "start_time": "2024-09-11T19:14:44.055Z"
   },
   {
    "duration": 19,
    "start_time": "2024-09-11T19:15:15.721Z"
   },
   {
    "duration": 5,
    "start_time": "2024-09-11T19:48:57.732Z"
   },
   {
    "duration": 17,
    "start_time": "2024-09-11T19:49:05.535Z"
   },
   {
    "duration": 44,
    "start_time": "2024-09-11T19:49:22.891Z"
   },
   {
    "duration": 225,
    "start_time": "2024-09-11T19:54:24.995Z"
   },
   {
    "duration": 244,
    "start_time": "2024-09-11T19:58:27.910Z"
   },
   {
    "duration": 284,
    "start_time": "2024-09-11T19:59:26.569Z"
   },
   {
    "duration": 254,
    "start_time": "2024-09-11T20:00:11.362Z"
   },
   {
    "duration": 274,
    "start_time": "2024-09-11T20:00:31.194Z"
   },
   {
    "duration": 255,
    "start_time": "2024-09-11T20:04:23.213Z"
   },
   {
    "duration": 270,
    "start_time": "2024-09-11T20:04:59.393Z"
   },
   {
    "duration": 256,
    "start_time": "2024-09-11T20:08:10.395Z"
   },
   {
    "duration": 258,
    "start_time": "2024-09-11T20:11:07.377Z"
   },
   {
    "duration": 410,
    "start_time": "2024-09-11T21:20:55.428Z"
   },
   {
    "duration": 544,
    "start_time": "2024-09-11T21:21:16.822Z"
   },
   {
    "duration": 520,
    "start_time": "2024-09-11T21:22:09.682Z"
   },
   {
    "duration": 417,
    "start_time": "2024-09-11T21:23:10.296Z"
   },
   {
    "duration": 635,
    "start_time": "2024-09-11T21:23:23.517Z"
   },
   {
    "duration": 401,
    "start_time": "2024-09-11T21:25:30.417Z"
   },
   {
    "duration": 483,
    "start_time": "2024-09-11T21:25:43.003Z"
   },
   {
    "duration": 243,
    "start_time": "2024-09-11T22:03:44.806Z"
   },
   {
    "duration": 7,
    "start_time": "2024-09-11T22:09:21.071Z"
   },
   {
    "duration": 252,
    "start_time": "2024-09-11T22:09:37.992Z"
   },
   {
    "duration": 254,
    "start_time": "2024-09-11T22:11:12.838Z"
   },
   {
    "duration": 224,
    "start_time": "2024-09-11T22:11:33.886Z"
   },
   {
    "duration": 9,
    "start_time": "2024-09-11T22:17:14.472Z"
   },
   {
    "duration": 13,
    "start_time": "2024-09-11T22:17:44.195Z"
   },
   {
    "duration": 16,
    "start_time": "2024-09-11T22:18:15.319Z"
   },
   {
    "duration": 9,
    "start_time": "2024-09-11T22:19:02.874Z"
   },
   {
    "duration": 17,
    "start_time": "2024-09-11T22:19:13.507Z"
   },
   {
    "duration": 7,
    "start_time": "2024-09-11T22:24:15.739Z"
   },
   {
    "duration": 263,
    "start_time": "2024-09-11T22:24:44.882Z"
   },
   {
    "duration": 429,
    "start_time": "2024-09-11T22:26:17.249Z"
   },
   {
    "duration": 1043,
    "start_time": "2024-09-11T22:29:31.997Z"
   },
   {
    "duration": 1144,
    "start_time": "2024-09-11T22:32:01.130Z"
   },
   {
    "duration": 1472,
    "start_time": "2024-09-11T22:33:53.976Z"
   },
   {
    "duration": 1171,
    "start_time": "2024-09-11T22:35:55.161Z"
   },
   {
    "duration": 443,
    "start_time": "2024-09-11T22:38:03.028Z"
   },
   {
    "duration": 457,
    "start_time": "2024-09-11T22:39:14.025Z"
   },
   {
    "duration": 473,
    "start_time": "2024-09-11T22:40:09.801Z"
   },
   {
    "duration": 442,
    "start_time": "2024-09-11T22:41:07.233Z"
   },
   {
    "duration": 438,
    "start_time": "2024-09-11T22:41:16.825Z"
   },
   {
    "duration": 432,
    "start_time": "2024-09-11T22:41:26.094Z"
   },
   {
    "duration": 416,
    "start_time": "2024-09-11T22:41:35.271Z"
   },
   {
    "duration": 602,
    "start_time": "2024-09-11T22:41:45.918Z"
   },
   {
    "duration": 556,
    "start_time": "2024-09-11T22:45:20.829Z"
   },
   {
    "duration": 439,
    "start_time": "2024-09-11T22:45:35.491Z"
   },
   {
    "duration": 438,
    "start_time": "2024-09-11T22:46:58.327Z"
   },
   {
    "duration": 5,
    "start_time": "2024-09-11T22:49:09.535Z"
   },
   {
    "duration": 849,
    "start_time": "2024-09-11T22:50:11.013Z"
   },
   {
    "duration": 80,
    "start_time": "2024-09-11T22:50:11.864Z"
   },
   {
    "duration": 190,
    "start_time": "2024-09-11T22:50:11.946Z"
   },
   {
    "duration": 164,
    "start_time": "2024-09-11T22:50:12.139Z"
   },
   {
    "duration": 1325,
    "start_time": "2024-09-11T22:50:12.307Z"
   },
   {
    "duration": 1828,
    "start_time": "2024-09-11T22:50:13.633Z"
   },
   {
    "duration": 480,
    "start_time": "2024-09-11T22:50:15.464Z"
   },
   {
    "duration": 203,
    "start_time": "2024-09-11T22:50:15.946Z"
   },
   {
    "duration": 6,
    "start_time": "2024-09-11T22:50:16.152Z"
   },
   {
    "duration": 23,
    "start_time": "2024-09-11T22:59:40.621Z"
   },
   {
    "duration": 18,
    "start_time": "2024-09-11T22:59:52.181Z"
   },
   {
    "duration": 14,
    "start_time": "2024-09-11T23:01:32.381Z"
   },
   {
    "duration": 14,
    "start_time": "2024-09-11T23:03:22.167Z"
   },
   {
    "duration": 17,
    "start_time": "2024-09-11T23:07:21.604Z"
   },
   {
    "duration": 17,
    "start_time": "2024-09-11T23:10:01.633Z"
   },
   {
    "duration": 23,
    "start_time": "2024-09-11T23:10:07.623Z"
   },
   {
    "duration": 15,
    "start_time": "2024-09-11T23:11:55.324Z"
   },
   {
    "duration": 7,
    "start_time": "2024-09-11T23:14:40.014Z"
   },
   {
    "duration": 27,
    "start_time": "2024-09-11T23:15:03.503Z"
   },
   {
    "duration": 10,
    "start_time": "2024-09-11T23:15:44.931Z"
   },
   {
    "duration": 244,
    "start_time": "2024-09-11T23:23:18.838Z"
   },
   {
    "duration": 18,
    "start_time": "2024-09-11T23:23:24.160Z"
   },
   {
    "duration": 10,
    "start_time": "2024-09-11T23:23:52.230Z"
   },
   {
    "duration": 36,
    "start_time": "2024-09-11T23:33:18.818Z"
   },
   {
    "duration": 21,
    "start_time": "2024-09-11T23:34:52.563Z"
   },
   {
    "duration": 29,
    "start_time": "2024-09-11T23:39:09.965Z"
   },
   {
    "duration": 25,
    "start_time": "2024-09-11T23:40:14.375Z"
   },
   {
    "duration": 23,
    "start_time": "2024-09-11T23:45:40.841Z"
   },
   {
    "duration": 22,
    "start_time": "2024-09-11T23:45:57.466Z"
   },
   {
    "duration": 14,
    "start_time": "2024-09-11T23:47:12.745Z"
   },
   {
    "duration": 17,
    "start_time": "2024-09-11T23:47:43.329Z"
   },
   {
    "duration": 17,
    "start_time": "2024-09-11T23:48:00.839Z"
   },
   {
    "duration": 18,
    "start_time": "2024-09-11T23:50:07.935Z"
   },
   {
    "duration": 17,
    "start_time": "2024-09-11T23:50:28.181Z"
   },
   {
    "duration": 21,
    "start_time": "2024-09-11T23:50:43.916Z"
   },
   {
    "duration": 16,
    "start_time": "2024-09-11T23:51:08.833Z"
   },
   {
    "duration": 16,
    "start_time": "2024-09-11T23:51:24.039Z"
   },
   {
    "duration": 17,
    "start_time": "2024-09-11T23:51:36.888Z"
   },
   {
    "duration": 16,
    "start_time": "2024-09-11T23:53:50.481Z"
   },
   {
    "duration": 14,
    "start_time": "2024-09-11T23:53:56.128Z"
   },
   {
    "duration": 11,
    "start_time": "2024-09-11T23:53:57.954Z"
   },
   {
    "duration": 11,
    "start_time": "2024-09-11T23:54:18.665Z"
   },
   {
    "duration": 10,
    "start_time": "2024-09-11T23:54:53.665Z"
   },
   {
    "duration": 5,
    "start_time": "2024-09-11T23:55:18.681Z"
   },
   {
    "duration": 12,
    "start_time": "2024-09-11T23:55:25.776Z"
   },
   {
    "duration": 9,
    "start_time": "2024-09-11T23:57:40.414Z"
   },
   {
    "duration": 9,
    "start_time": "2024-09-11T23:58:10.124Z"
   },
   {
    "duration": 11,
    "start_time": "2024-09-11T23:58:17.565Z"
   },
   {
    "duration": 10,
    "start_time": "2024-09-12T00:05:02.648Z"
   },
   {
    "duration": 10,
    "start_time": "2024-09-12T00:05:18.789Z"
   },
   {
    "duration": 12,
    "start_time": "2024-09-12T00:12:08.377Z"
   },
   {
    "duration": 12,
    "start_time": "2024-09-12T00:12:51.010Z"
   },
   {
    "duration": 12,
    "start_time": "2024-09-12T00:12:58.470Z"
   },
   {
    "duration": 15,
    "start_time": "2024-09-12T00:13:39.617Z"
   },
   {
    "duration": 20,
    "start_time": "2024-09-12T00:17:47.642Z"
   },
   {
    "duration": 715,
    "start_time": "2024-09-12T00:28:29.325Z"
   },
   {
    "duration": 1307,
    "start_time": "2024-09-12T00:29:23.845Z"
   },
   {
    "duration": 437,
    "start_time": "2024-09-12T00:30:07.483Z"
   },
   {
    "duration": 449,
    "start_time": "2024-09-12T00:31:39.824Z"
   },
   {
    "duration": 155,
    "start_time": "2024-09-12T00:44:29.139Z"
   },
   {
    "duration": 157,
    "start_time": "2024-09-12T00:44:46.068Z"
   },
   {
    "duration": 153,
    "start_time": "2024-09-12T00:45:16.385Z"
   },
   {
    "duration": 157,
    "start_time": "2024-09-12T00:45:51.738Z"
   },
   {
    "duration": 175,
    "start_time": "2024-09-12T00:46:13.580Z"
   },
   {
    "duration": 157,
    "start_time": "2024-09-12T00:48:01.831Z"
   },
   {
    "duration": 155,
    "start_time": "2024-09-12T00:50:32.685Z"
   },
   {
    "duration": 149,
    "start_time": "2024-09-12T00:52:14.458Z"
   },
   {
    "duration": 154,
    "start_time": "2024-09-12T00:53:01.321Z"
   },
   {
    "duration": 1093,
    "start_time": "2024-09-12T01:02:56.253Z"
   },
   {
    "duration": 1266,
    "start_time": "2024-09-12T01:05:44.685Z"
   },
   {
    "duration": 4,
    "start_time": "2024-09-12T03:11:44.786Z"
   },
   {
    "duration": 655,
    "start_time": "2024-09-12T03:11:56.771Z"
   },
   {
    "duration": 780,
    "start_time": "2024-09-12T03:12:29.555Z"
   },
   {
    "duration": 605,
    "start_time": "2024-09-12T03:13:08.464Z"
   },
   {
    "duration": 13,
    "start_time": "2024-09-12T03:13:53.237Z"
   },
   {
    "duration": 14,
    "start_time": "2024-09-12T03:13:54.733Z"
   },
   {
    "duration": 25,
    "start_time": "2024-09-12T03:14:09.928Z"
   },
   {
    "duration": 16,
    "start_time": "2024-09-12T03:14:18.839Z"
   },
   {
    "duration": 607,
    "start_time": "2024-09-12T03:14:24.598Z"
   },
   {
    "duration": 758,
    "start_time": "2024-09-12T03:14:48.321Z"
   },
   {
    "duration": 621,
    "start_time": "2024-09-12T03:15:10.734Z"
   },
   {
    "duration": 16,
    "start_time": "2024-09-12T03:15:39.838Z"
   },
   {
    "duration": 15,
    "start_time": "2024-09-12T03:15:48.581Z"
   },
   {
    "duration": 580,
    "start_time": "2024-09-12T03:17:05.367Z"
   },
   {
    "duration": 322,
    "start_time": "2024-09-12T03:17:17.597Z"
   },
   {
    "duration": 63,
    "start_time": "2024-09-12T03:17:24.620Z"
   },
   {
    "duration": 58,
    "start_time": "2024-09-12T03:18:11.763Z"
   },
   {
    "duration": 427,
    "start_time": "2024-09-12T03:18:31.077Z"
   },
   {
    "duration": 53,
    "start_time": "2024-09-12T03:18:57.184Z"
   },
   {
    "duration": 6,
    "start_time": "2024-09-12T03:24:04.861Z"
   },
   {
    "duration": 7,
    "start_time": "2024-09-12T03:28:29.984Z"
   },
   {
    "duration": 6,
    "start_time": "2024-09-12T03:30:32.011Z"
   },
   {
    "duration": 6,
    "start_time": "2024-09-12T03:34:00.082Z"
   },
   {
    "duration": 6,
    "start_time": "2024-09-12T03:34:11.376Z"
   },
   {
    "duration": 6,
    "start_time": "2024-09-12T03:34:15.984Z"
   },
   {
    "duration": 6,
    "start_time": "2024-09-12T03:34:21.427Z"
   },
   {
    "duration": 6,
    "start_time": "2024-09-12T03:34:40.489Z"
   },
   {
    "duration": 6,
    "start_time": "2024-09-12T03:35:02.076Z"
   },
   {
    "duration": 4,
    "start_time": "2024-09-12T03:38:56.866Z"
   },
   {
    "duration": 6,
    "start_time": "2024-09-12T03:42:25.360Z"
   },
   {
    "duration": 6,
    "start_time": "2024-09-12T03:45:21.549Z"
   },
   {
    "duration": 150,
    "start_time": "2024-09-12T04:03:01.703Z"
   },
   {
    "duration": 127,
    "start_time": "2024-09-12T04:03:29.089Z"
   },
   {
    "duration": 130,
    "start_time": "2024-09-12T04:03:33.991Z"
   },
   {
    "duration": 6,
    "start_time": "2024-09-12T04:05:41.656Z"
   },
   {
    "duration": 5,
    "start_time": "2024-09-12T04:06:07.867Z"
   },
   {
    "duration": 5,
    "start_time": "2024-09-12T04:06:40.266Z"
   },
   {
    "duration": 6,
    "start_time": "2024-09-12T04:07:54.266Z"
   },
   {
    "duration": 5,
    "start_time": "2024-09-12T04:08:49.473Z"
   },
   {
    "duration": 6,
    "start_time": "2024-09-12T04:09:17.784Z"
   },
   {
    "duration": 127,
    "start_time": "2024-09-12T04:11:48.824Z"
   },
   {
    "duration": 831,
    "start_time": "2024-09-12T04:16:26.313Z"
   },
   {
    "duration": 94,
    "start_time": "2024-09-12T04:16:27.146Z"
   },
   {
    "duration": 169,
    "start_time": "2024-09-12T04:16:27.241Z"
   },
   {
    "duration": 160,
    "start_time": "2024-09-12T04:16:27.412Z"
   },
   {
    "duration": 1171,
    "start_time": "2024-09-12T04:16:27.573Z"
   },
   {
    "duration": 1621,
    "start_time": "2024-09-12T04:16:28.746Z"
   },
   {
    "duration": 438,
    "start_time": "2024-09-12T04:16:30.369Z"
   },
   {
    "duration": 176,
    "start_time": "2024-09-12T04:16:30.809Z"
   },
   {
    "duration": 27,
    "start_time": "2024-09-12T04:16:30.987Z"
   },
   {
    "duration": 13,
    "start_time": "2024-09-12T04:16:31.017Z"
   },
   {
    "duration": 17,
    "start_time": "2024-09-12T04:16:31.032Z"
   },
   {
    "duration": 6,
    "start_time": "2024-09-12T04:16:31.050Z"
   },
   {
    "duration": 5,
    "start_time": "2024-09-12T04:16:31.058Z"
   },
   {
    "duration": 1099,
    "start_time": "2024-09-12T04:18:17.557Z"
   },
   {
    "duration": 1086,
    "start_time": "2024-09-12T04:18:34.732Z"
   },
   {
    "duration": 510,
    "start_time": "2024-09-12T04:19:34.841Z"
   },
   {
    "duration": 417,
    "start_time": "2024-09-12T04:20:00.056Z"
   },
   {
    "duration": 2523,
    "start_time": "2024-09-12T09:24:02.018Z"
   },
   {
    "duration": 91,
    "start_time": "2024-09-12T09:24:04.545Z"
   },
   {
    "duration": 162,
    "start_time": "2024-09-12T09:24:04.637Z"
   },
   {
    "duration": 175,
    "start_time": "2024-09-12T09:24:04.801Z"
   },
   {
    "duration": 1188,
    "start_time": "2024-09-12T09:24:04.977Z"
   },
   {
    "duration": 1702,
    "start_time": "2024-09-12T09:24:06.167Z"
   },
   {
    "duration": 426,
    "start_time": "2024-09-12T09:24:07.871Z"
   },
   {
    "duration": 120,
    "start_time": "2024-09-12T09:24:08.299Z"
   },
   {
    "duration": 14,
    "start_time": "2024-09-12T09:24:08.420Z"
   },
   {
    "duration": 14,
    "start_time": "2024-09-12T09:24:08.436Z"
   },
   {
    "duration": 101,
    "start_time": "2024-09-12T09:24:08.451Z"
   },
   {
    "duration": 6,
    "start_time": "2024-09-12T09:24:08.571Z"
   },
   {
    "duration": 5,
    "start_time": "2024-09-12T09:24:08.579Z"
   },
   {
    "duration": 17,
    "start_time": "2024-09-12T09:35:37.891Z"
   },
   {
    "duration": 2553,
    "start_time": "2024-09-12T12:56:05.729Z"
   },
   {
    "duration": 94,
    "start_time": "2024-09-12T12:56:08.284Z"
   },
   {
    "duration": 162,
    "start_time": "2024-09-12T12:56:08.379Z"
   },
   {
    "duration": 176,
    "start_time": "2024-09-12T12:56:08.544Z"
   },
   {
    "duration": 1239,
    "start_time": "2024-09-12T12:56:08.722Z"
   },
   {
    "duration": 1669,
    "start_time": "2024-09-12T12:56:09.963Z"
   },
   {
    "duration": 438,
    "start_time": "2024-09-12T12:56:11.634Z"
   },
   {
    "duration": 125,
    "start_time": "2024-09-12T12:56:12.075Z"
   },
   {
    "duration": 12,
    "start_time": "2024-09-12T12:56:12.202Z"
   },
   {
    "duration": 13,
    "start_time": "2024-09-12T12:56:12.217Z"
   },
   {
    "duration": 44,
    "start_time": "2024-09-12T12:56:12.231Z"
   },
   {
    "duration": 6,
    "start_time": "2024-09-12T12:56:12.276Z"
   },
   {
    "duration": 6,
    "start_time": "2024-09-12T12:56:12.283Z"
   },
   {
    "duration": 1115,
    "start_time": "2024-09-12T12:59:04.199Z"
   },
   {
    "duration": 99,
    "start_time": "2024-09-12T13:00:27.091Z"
   },
   {
    "duration": 330,
    "start_time": "2024-09-12T13:27:00.056Z"
   },
   {
    "duration": 667,
    "start_time": "2024-09-12T13:28:46.734Z"
   },
   {
    "duration": 733,
    "start_time": "2024-09-12T13:33:36.663Z"
   },
   {
    "duration": 622,
    "start_time": "2024-09-12T13:33:55.781Z"
   },
   {
    "duration": 637,
    "start_time": "2024-09-12T13:34:16.471Z"
   },
   {
    "duration": 647,
    "start_time": "2024-09-12T13:40:50.552Z"
   },
   {
    "duration": 17,
    "start_time": "2024-09-12T13:41:40.927Z"
   },
   {
    "duration": 13,
    "start_time": "2024-09-12T13:41:44.858Z"
   },
   {
    "duration": 15,
    "start_time": "2024-09-12T13:41:45.334Z"
   },
   {
    "duration": 20,
    "start_time": "2024-09-12T13:41:45.962Z"
   },
   {
    "duration": 71,
    "start_time": "2024-09-12T13:41:57.811Z"
   },
   {
    "duration": 136,
    "start_time": "2024-09-12T13:42:08.167Z"
   },
   {
    "duration": 128,
    "start_time": "2024-09-12T13:42:45.296Z"
   },
   {
    "duration": 142,
    "start_time": "2024-09-12T13:42:50.053Z"
   },
   {
    "duration": 1164,
    "start_time": "2024-09-12T13:42:53.421Z"
   },
   {
    "duration": 1008,
    "start_time": "2024-09-12T13:43:17.892Z"
   },
   {
    "duration": 1814,
    "start_time": "2024-09-12T13:44:04.248Z"
   },
   {
    "duration": 1719,
    "start_time": "2024-09-12T13:44:15.620Z"
   },
   {
    "duration": 433,
    "start_time": "2024-09-12T13:44:21.532Z"
   },
   {
    "duration": 92,
    "start_time": "2024-09-12T13:44:31.187Z"
   },
   {
    "duration": 852,
    "start_time": "2024-09-12T13:47:17.585Z"
   },
   {
    "duration": 94,
    "start_time": "2024-09-12T13:47:18.440Z"
   },
   {
    "duration": 194,
    "start_time": "2024-09-12T13:47:18.536Z"
   },
   {
    "duration": 180,
    "start_time": "2024-09-12T13:47:18.733Z"
   },
   {
    "duration": 1246,
    "start_time": "2024-09-12T13:47:18.915Z"
   },
   {
    "duration": 1665,
    "start_time": "2024-09-12T13:47:20.162Z"
   },
   {
    "duration": 441,
    "start_time": "2024-09-12T13:47:21.829Z"
   },
   {
    "duration": 104,
    "start_time": "2024-09-12T13:47:22.271Z"
   },
   {
    "duration": 14,
    "start_time": "2024-09-12T13:47:22.377Z"
   },
   {
    "duration": 100,
    "start_time": "2024-09-12T13:47:22.393Z"
   },
   {
    "duration": 19,
    "start_time": "2024-09-12T13:47:22.495Z"
   },
   {
    "duration": 647,
    "start_time": "2024-09-12T13:47:22.515Z"
   },
   {
    "duration": 640,
    "start_time": "2024-09-12T13:47:23.164Z"
   },
   {
    "duration": 586,
    "start_time": "2024-09-12T13:47:23.806Z"
   },
   {
    "duration": 6,
    "start_time": "2024-09-12T13:47:24.394Z"
   },
   {
    "duration": 6,
    "start_time": "2024-09-12T13:47:24.402Z"
   },
   {
    "duration": 139,
    "start_time": "2024-09-12T13:57:11.907Z"
   },
   {
    "duration": 150,
    "start_time": "2024-09-12T13:58:10.469Z"
   },
   {
    "duration": 69,
    "start_time": "2024-09-12T13:58:58.798Z"
   },
   {
    "duration": 127,
    "start_time": "2024-09-12T13:59:03.922Z"
   },
   {
    "duration": 139,
    "start_time": "2024-09-12T13:59:08.507Z"
   },
   {
    "duration": 126,
    "start_time": "2024-09-12T13:59:53.139Z"
   },
   {
    "duration": 130,
    "start_time": "2024-09-12T14:03:33.217Z"
   },
   {
    "duration": 948,
    "start_time": "2024-09-12T14:11:55.323Z"
   },
   {
    "duration": 787,
    "start_time": "2024-09-12T14:12:07.011Z"
   },
   {
    "duration": 702,
    "start_time": "2024-09-12T14:13:58.306Z"
   },
   {
    "duration": 762,
    "start_time": "2024-09-12T14:16:12.836Z"
   },
   {
    "duration": 792,
    "start_time": "2024-09-12T14:16:40.211Z"
   },
   {
    "duration": 736,
    "start_time": "2024-09-12T14:16:54.819Z"
   },
   {
    "duration": 587,
    "start_time": "2024-09-12T14:17:10.694Z"
   },
   {
    "duration": 805,
    "start_time": "2024-09-12T14:17:35.000Z"
   },
   {
    "duration": 621,
    "start_time": "2024-09-12T14:17:41.678Z"
   },
   {
    "duration": 668,
    "start_time": "2024-09-12T14:17:45.036Z"
   },
   {
    "duration": 2972,
    "start_time": "2024-09-13T06:53:45.787Z"
   },
   {
    "duration": 114,
    "start_time": "2024-09-13T06:53:48.762Z"
   },
   {
    "duration": 180,
    "start_time": "2024-09-13T06:53:48.878Z"
   },
   {
    "duration": 185,
    "start_time": "2024-09-13T06:53:49.061Z"
   },
   {
    "duration": 1380,
    "start_time": "2024-09-13T06:53:49.250Z"
   },
   {
    "duration": 1904,
    "start_time": "2024-09-13T06:53:50.634Z"
   },
   {
    "duration": 496,
    "start_time": "2024-09-13T06:53:52.540Z"
   },
   {
    "duration": 136,
    "start_time": "2024-09-13T06:53:53.038Z"
   },
   {
    "duration": 14,
    "start_time": "2024-09-13T06:53:53.177Z"
   },
   {
    "duration": 13,
    "start_time": "2024-09-13T06:53:53.193Z"
   },
   {
    "duration": 56,
    "start_time": "2024-09-13T06:53:53.208Z"
   },
   {
    "duration": 622,
    "start_time": "2024-09-13T06:53:53.265Z"
   },
   {
    "duration": 707,
    "start_time": "2024-09-13T06:53:53.888Z"
   },
   {
    "duration": 997,
    "start_time": "2024-09-13T06:53:54.597Z"
   },
   {
    "duration": 6,
    "start_time": "2024-09-13T06:53:55.596Z"
   },
   {
    "duration": 5,
    "start_time": "2024-09-13T06:53:55.604Z"
   },
   {
    "duration": 17,
    "start_time": "2024-09-13T06:56:20.356Z"
   },
   {
    "duration": 503,
    "start_time": "2024-09-13T07:01:11.995Z"
   },
   {
    "duration": 903,
    "start_time": "2024-09-13T07:02:06.443Z"
   },
   {
    "duration": 81,
    "start_time": "2024-09-13T07:02:07.349Z"
   },
   {
    "duration": 169,
    "start_time": "2024-09-13T07:02:07.447Z"
   },
   {
    "duration": 228,
    "start_time": "2024-09-13T07:02:07.619Z"
   },
   {
    "duration": 1266,
    "start_time": "2024-09-13T07:02:07.849Z"
   },
   {
    "duration": 1888,
    "start_time": "2024-09-13T07:02:09.117Z"
   },
   {
    "duration": 495,
    "start_time": "2024-09-13T07:02:11.007Z"
   },
   {
    "duration": 157,
    "start_time": "2024-09-13T07:02:11.503Z"
   },
   {
    "duration": 14,
    "start_time": "2024-09-13T07:02:11.661Z"
   },
   {
    "duration": 98,
    "start_time": "2024-09-13T07:02:11.678Z"
   },
   {
    "duration": 17,
    "start_time": "2024-09-13T07:02:11.778Z"
   },
   {
    "duration": 697,
    "start_time": "2024-09-13T07:02:11.796Z"
   },
   {
    "duration": 684,
    "start_time": "2024-09-13T07:02:12.495Z"
   },
   {
    "duration": 913,
    "start_time": "2024-09-13T07:02:13.181Z"
   },
   {
    "duration": 17,
    "start_time": "2024-09-13T07:02:14.096Z"
   },
   {
    "duration": 24,
    "start_time": "2024-09-13T07:02:14.114Z"
   },
   {
    "duration": 17,
    "start_time": "2024-09-13T07:02:14.140Z"
   },
   {
    "duration": 15,
    "start_time": "2024-09-13T07:02:32.889Z"
   },
   {
    "duration": 717,
    "start_time": "2024-09-13T07:03:14.358Z"
   },
   {
    "duration": 76,
    "start_time": "2024-09-13T07:03:28.008Z"
   },
   {
    "duration": 74,
    "start_time": "2024-09-13T07:03:33.732Z"
   },
   {
    "duration": 32,
    "start_time": "2024-09-13T07:03:39.930Z"
   },
   {
    "duration": 16,
    "start_time": "2024-09-13T07:03:42.196Z"
   },
   {
    "duration": 17,
    "start_time": "2024-09-13T07:04:02.302Z"
   },
   {
    "duration": 18,
    "start_time": "2024-09-13T07:04:30.698Z"
   },
   {
    "duration": 2663,
    "start_time": "2024-09-16T21:43:53.409Z"
   }
  ],
  "kernelspec": {
   "display_name": "Python 3 (ipykernel)",
   "language": "python",
   "name": "python3"
  },
  "language_info": {
   "codemirror_mode": {
    "name": "ipython",
    "version": 3
   },
   "file_extension": ".py",
   "mimetype": "text/x-python",
   "name": "python",
   "nbconvert_exporter": "python",
   "pygments_lexer": "ipython3",
   "version": "3.12.3"
  },
  "toc": {
   "base_numbering": 1,
   "nav_menu": {},
   "number_sections": true,
   "sideBar": true,
   "skip_h1_title": true,
   "title_cell": "Table of Contents",
   "title_sidebar": "Contents",
   "toc_cell": false,
   "toc_position": {},
   "toc_section_display": true,
   "toc_window_display": false
  }
 },
 "nbformat": 4,
 "nbformat_minor": 2
}
