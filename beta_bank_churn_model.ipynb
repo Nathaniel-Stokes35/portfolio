{
 "cells": [
  {
   "cell_type": "markdown",
   "metadata": {},
   "source": [
    "<h1>Creating and Testing a Bank Model for leaving Customers</h1>\n",
    "<h2>Importing Dependencies, Cleaning DataFrame, and Variable Construction</h2>\n",
    "</br>&nbsp;&nbsp;&nbsp;&nbsp;I'm going to start by importing all of the regression models to help me see which model would be best to used, my suspicion is that the Decsion Tree will be the more accurate model albeit a little more time demanding. I believe it is better to be safe than sorry when determining what plays into people choosing to leave and who we should be targeting for retention. I'm going to follow the imports with a new feature column that represents if the \"Tenure\" column was empty before filling each empty column with the respective means from each of the three countries with missing values. (France, Spain, and Germany). After which will be the construction of the testing set, comprising of 15% the original data.</br>&nbsp;&nbsp;&nbsp;&nbsp; I will be encoding the categorical data for processing. So in addtion to the Testing set comprising 15% of the Data, it will be followed by creating a training set of 70% the original data and leaving 15% remaining for an inital validation test which will be used with each model at construction. "
   ]
  },
  {
   "cell_type": "code",
   "execution_count": 10,
   "metadata": {},
   "outputs": [],
   "source": [
    "import pandas as pd\n",
    "from sklearn.tree import DecisionTreeClassifier\n",
    "from sklearn.ensemble import RandomForestClassifier\n",
    "from sklearn.linear_model import LogisticRegression\n",
    "from sklearn.metrics import f1_score\n",
    "from sklearn.model_selection import train_test_split\n",
    "from sklearn.metrics import roc_curve, roc_auc_score\n",
    "import matplotlib.pyplot as plt\n",
    "from sklearn.preprocessing import StandardScaler\n",
    "from sklearn.utils import shuffle \n",
    "from sklearn.preprocessing import PolynomialFeatures\n",
    "from sklearn.model_selection import cross_val_score\n",
    "from sklearn.utils import resample\n",
    "from sklearn.model_selection import GridSearchCV\n",
    "\n",
    "customer_info = pd.read_csv('/datasets/Churn.csv')\n",
    "state=54321\n",
    "n_jobs=2"
   ]
  },
  {
   "cell_type": "code",
   "execution_count": 11,
   "metadata": {},
   "outputs": [
    {
     "data": {
      "text/html": [
       "<div>\n",
       "<style scoped>\n",
       "    .dataframe tbody tr th:only-of-type {\n",
       "        vertical-align: middle;\n",
       "    }\n",
       "\n",
       "    .dataframe tbody tr th {\n",
       "        vertical-align: top;\n",
       "    }\n",
       "\n",
       "    .dataframe thead th {\n",
       "        text-align: right;\n",
       "    }\n",
       "</style>\n",
       "<table border=\"1\" class=\"dataframe\">\n",
       "  <thead>\n",
       "    <tr style=\"text-align: right;\">\n",
       "      <th></th>\n",
       "      <th>RowNumber</th>\n",
       "      <th>CustomerId</th>\n",
       "      <th>Surname</th>\n",
       "      <th>CreditScore</th>\n",
       "      <th>Geography</th>\n",
       "      <th>Gender</th>\n",
       "      <th>Age</th>\n",
       "      <th>Tenure</th>\n",
       "      <th>Balance</th>\n",
       "      <th>NumOfProducts</th>\n",
       "      <th>HasCrCard</th>\n",
       "      <th>IsActiveMember</th>\n",
       "      <th>EstimatedSalary</th>\n",
       "      <th>Exited</th>\n",
       "      <th>Tenure_missing</th>\n",
       "    </tr>\n",
       "  </thead>\n",
       "  <tbody>\n",
       "    <tr>\n",
       "      <th>0</th>\n",
       "      <td>1</td>\n",
       "      <td>15634602</td>\n",
       "      <td>Hargrave</td>\n",
       "      <td>619</td>\n",
       "      <td>France</td>\n",
       "      <td>Female</td>\n",
       "      <td>42</td>\n",
       "      <td>2.0</td>\n",
       "      <td>0.00</td>\n",
       "      <td>1</td>\n",
       "      <td>1</td>\n",
       "      <td>1</td>\n",
       "      <td>101348.88</td>\n",
       "      <td>1</td>\n",
       "      <td>0</td>\n",
       "    </tr>\n",
       "    <tr>\n",
       "      <th>1</th>\n",
       "      <td>2</td>\n",
       "      <td>15647311</td>\n",
       "      <td>Hill</td>\n",
       "      <td>608</td>\n",
       "      <td>Spain</td>\n",
       "      <td>Female</td>\n",
       "      <td>41</td>\n",
       "      <td>1.0</td>\n",
       "      <td>83807.86</td>\n",
       "      <td>1</td>\n",
       "      <td>0</td>\n",
       "      <td>1</td>\n",
       "      <td>112542.58</td>\n",
       "      <td>0</td>\n",
       "      <td>0</td>\n",
       "    </tr>\n",
       "    <tr>\n",
       "      <th>2</th>\n",
       "      <td>3</td>\n",
       "      <td>15619304</td>\n",
       "      <td>Onio</td>\n",
       "      <td>502</td>\n",
       "      <td>France</td>\n",
       "      <td>Female</td>\n",
       "      <td>42</td>\n",
       "      <td>8.0</td>\n",
       "      <td>159660.80</td>\n",
       "      <td>3</td>\n",
       "      <td>1</td>\n",
       "      <td>0</td>\n",
       "      <td>113931.57</td>\n",
       "      <td>1</td>\n",
       "      <td>0</td>\n",
       "    </tr>\n",
       "    <tr>\n",
       "      <th>3</th>\n",
       "      <td>4</td>\n",
       "      <td>15701354</td>\n",
       "      <td>Boni</td>\n",
       "      <td>699</td>\n",
       "      <td>France</td>\n",
       "      <td>Female</td>\n",
       "      <td>39</td>\n",
       "      <td>1.0</td>\n",
       "      <td>0.00</td>\n",
       "      <td>2</td>\n",
       "      <td>0</td>\n",
       "      <td>0</td>\n",
       "      <td>93826.63</td>\n",
       "      <td>0</td>\n",
       "      <td>0</td>\n",
       "    </tr>\n",
       "    <tr>\n",
       "      <th>4</th>\n",
       "      <td>5</td>\n",
       "      <td>15737888</td>\n",
       "      <td>Mitchell</td>\n",
       "      <td>850</td>\n",
       "      <td>Spain</td>\n",
       "      <td>Female</td>\n",
       "      <td>43</td>\n",
       "      <td>2.0</td>\n",
       "      <td>125510.82</td>\n",
       "      <td>1</td>\n",
       "      <td>1</td>\n",
       "      <td>1</td>\n",
       "      <td>79084.10</td>\n",
       "      <td>0</td>\n",
       "      <td>0</td>\n",
       "    </tr>\n",
       "    <tr>\n",
       "      <th>5</th>\n",
       "      <td>6</td>\n",
       "      <td>15574012</td>\n",
       "      <td>Chu</td>\n",
       "      <td>645</td>\n",
       "      <td>Spain</td>\n",
       "      <td>Male</td>\n",
       "      <td>44</td>\n",
       "      <td>8.0</td>\n",
       "      <td>113755.78</td>\n",
       "      <td>2</td>\n",
       "      <td>1</td>\n",
       "      <td>0</td>\n",
       "      <td>149756.71</td>\n",
       "      <td>1</td>\n",
       "      <td>0</td>\n",
       "    </tr>\n",
       "    <tr>\n",
       "      <th>6</th>\n",
       "      <td>7</td>\n",
       "      <td>15592531</td>\n",
       "      <td>Bartlett</td>\n",
       "      <td>822</td>\n",
       "      <td>France</td>\n",
       "      <td>Male</td>\n",
       "      <td>50</td>\n",
       "      <td>7.0</td>\n",
       "      <td>0.00</td>\n",
       "      <td>2</td>\n",
       "      <td>1</td>\n",
       "      <td>1</td>\n",
       "      <td>10062.80</td>\n",
       "      <td>0</td>\n",
       "      <td>0</td>\n",
       "    </tr>\n",
       "    <tr>\n",
       "      <th>7</th>\n",
       "      <td>8</td>\n",
       "      <td>15656148</td>\n",
       "      <td>Obinna</td>\n",
       "      <td>376</td>\n",
       "      <td>Germany</td>\n",
       "      <td>Female</td>\n",
       "      <td>29</td>\n",
       "      <td>4.0</td>\n",
       "      <td>115046.74</td>\n",
       "      <td>4</td>\n",
       "      <td>1</td>\n",
       "      <td>0</td>\n",
       "      <td>119346.88</td>\n",
       "      <td>1</td>\n",
       "      <td>0</td>\n",
       "    </tr>\n",
       "    <tr>\n",
       "      <th>8</th>\n",
       "      <td>9</td>\n",
       "      <td>15792365</td>\n",
       "      <td>He</td>\n",
       "      <td>501</td>\n",
       "      <td>France</td>\n",
       "      <td>Male</td>\n",
       "      <td>44</td>\n",
       "      <td>4.0</td>\n",
       "      <td>142051.07</td>\n",
       "      <td>2</td>\n",
       "      <td>0</td>\n",
       "      <td>1</td>\n",
       "      <td>74940.50</td>\n",
       "      <td>0</td>\n",
       "      <td>0</td>\n",
       "    </tr>\n",
       "    <tr>\n",
       "      <th>9</th>\n",
       "      <td>10</td>\n",
       "      <td>15592389</td>\n",
       "      <td>H?</td>\n",
       "      <td>684</td>\n",
       "      <td>France</td>\n",
       "      <td>Male</td>\n",
       "      <td>27</td>\n",
       "      <td>2.0</td>\n",
       "      <td>134603.88</td>\n",
       "      <td>1</td>\n",
       "      <td>1</td>\n",
       "      <td>1</td>\n",
       "      <td>71725.73</td>\n",
       "      <td>0</td>\n",
       "      <td>0</td>\n",
       "    </tr>\n",
       "  </tbody>\n",
       "</table>\n",
       "</div>"
      ],
      "text/plain": [
       "   RowNumber  CustomerId   Surname  CreditScore Geography  Gender  Age  \\\n",
       "0          1    15634602  Hargrave          619    France  Female   42   \n",
       "1          2    15647311      Hill          608     Spain  Female   41   \n",
       "2          3    15619304      Onio          502    France  Female   42   \n",
       "3          4    15701354      Boni          699    France  Female   39   \n",
       "4          5    15737888  Mitchell          850     Spain  Female   43   \n",
       "5          6    15574012       Chu          645     Spain    Male   44   \n",
       "6          7    15592531  Bartlett          822    France    Male   50   \n",
       "7          8    15656148    Obinna          376   Germany  Female   29   \n",
       "8          9    15792365        He          501    France    Male   44   \n",
       "9         10    15592389        H?          684    France    Male   27   \n",
       "\n",
       "   Tenure    Balance  NumOfProducts  HasCrCard  IsActiveMember  \\\n",
       "0     2.0       0.00              1          1               1   \n",
       "1     1.0   83807.86              1          0               1   \n",
       "2     8.0  159660.80              3          1               0   \n",
       "3     1.0       0.00              2          0               0   \n",
       "4     2.0  125510.82              1          1               1   \n",
       "5     8.0  113755.78              2          1               0   \n",
       "6     7.0       0.00              2          1               1   \n",
       "7     4.0  115046.74              4          1               0   \n",
       "8     4.0  142051.07              2          0               1   \n",
       "9     2.0  134603.88              1          1               1   \n",
       "\n",
       "   EstimatedSalary  Exited  Tenure_missing  \n",
       "0        101348.88       1               0  \n",
       "1        112542.58       0               0  \n",
       "2        113931.57       1               0  \n",
       "3         93826.63       0               0  \n",
       "4         79084.10       0               0  \n",
       "5        149756.71       1               0  \n",
       "6         10062.80       0               0  \n",
       "7        119346.88       1               0  \n",
       "8         74940.50       0               0  \n",
       "9         71725.73       0               0  "
      ]
     },
     "metadata": {},
     "output_type": "display_data"
    }
   ],
   "source": [
    "# This is to allow feature engineering on missing Tenure rows for after I fill them.\n",
    "customer_info['Tenure_missing'] = customer_info['Tenure'].isna().astype(int)\n",
    "\n",
    "# Filling missing Tenure values with the average Tenure for each Country\n",
    "customer_info['Tenure'] = customer_info.groupby('Geography')['Tenure'].apply(lambda x: x.fillna(x.mean()))\n",
    "\n",
    "# Displaying the Data to use as a reference\n",
    "display(customer_info.head(10))"
   ]
  },
  {
   "cell_type": "markdown",
   "metadata": {},
   "source": [
    "<h3>Processing the Data</h3></br>\n",
    "&nbsp;&nbsp;&nbsp;&nbsp;Processing the Data for any duplicates, and understanding the different metrics."
   ]
  },
  {
   "cell_type": "code",
   "execution_count": 12,
   "metadata": {},
   "outputs": [
    {
     "name": "stdout",
     "output_type": "stream",
     "text": [
      "RowNumber: 0\n",
      "CustomerId: 0\n",
      "Surname: 8442\n",
      "CreditScore: 9977\n",
      "Geography: 10000\n",
      "Gender: 10000\n",
      "Age: 9996\n",
      "Tenure: 10000\n",
      "Balance: 3621\n",
      "NumOfProducts: 10000\n",
      "HasCrCard: 10000\n",
      "IsActiveMember: 10000\n",
      "EstimatedSalary: 2\n",
      "Exited: 10000\n",
      "Tenure_missing: 10000\n"
     ]
    }
   ],
   "source": [
    "customer_info = customer_info.drop_duplicates()\n",
    "for column in customer_info.columns:\n",
    "    duplicate_count = customer_info.duplicated(subset=column, keep=False).sum()\n",
    "    print(f'{column}: {duplicate_count}')"
   ]
  },
  {
   "cell_type": "code",
   "execution_count": 13,
   "metadata": {},
   "outputs": [],
   "source": [
    "# Pulling Features and Target\n",
    "features_raw = customer_info.drop(['RowNumber', 'CustomerId', 'Surname', 'Exited'], axis=1)\n",
    "features = pd.get_dummies(features_raw, columns=['Geography', 'Gender'], drop_first=True)\n",
    "target = customer_info['Exited']"
   ]
  },
  {
   "cell_type": "code",
   "execution_count": 14,
   "metadata": {},
   "outputs": [],
   "source": [
    "## VALID SET ## (15%) Untouched\n",
    "# Pulling 15% out of the Data to validate the Trained Model against in the future\n",
    "valid_set = customer_info.sample(frac=0.15, random_state=12345)\n",
    "\n",
    "# Align columns with training features\n",
    "features_valid = features.loc[valid_set.index]\n",
    "target_valid = target.loc[valid_set.index]\n",
    "\n",
    "features = features.drop(valid_set.index)\n",
    "target = target.drop(valid_set.index)"
   ]
  },
  {
   "cell_type": "code",
   "execution_count": 15,
   "metadata": {},
   "outputs": [],
   "source": [
    "## TRAINING AND TESTING SET ## (70% and 15% respectively)\n",
    "# Splitting the remaining data into a Testing Set (15% of Total) and a Training Set (70% of Total)\n",
    "data = customer_info.drop(valid_set.index)\n",
    "features_train, features_test, target_train, target_test = train_test_split(\n",
    "    features, target, test_size=0.1765, random_state=state)"
   ]
  },
  {
   "cell_type": "code",
   "execution_count": 16,
   "metadata": {},
   "outputs": [
    {
     "name": "stdout",
     "output_type": "stream",
     "text": [
      "customer_info dataframe:  10000\n",
      "All subsets:  10000\n",
      "Int64Index([], dtype='int64')\n",
      "Int64Index([], dtype='int64')\n"
     ]
    }
   ],
   "source": [
    "# Reviewer's code 2.1 \n",
    "\n",
    "print(\"customer_info dataframe: \", len(customer_info))\n",
    "\n",
    "print(\"All subsets: \", len(features_train) + len(features_valid) + len(features_test))\n",
    "\n",
    "# Intersection is not empty:\n",
    "print(features_train.index.intersection(features_valid.index))\n",
    "\n",
    "\n",
    "# Another intersection:\n",
    "print(features_valid.index.intersection(features_test.index))"
   ]
  },
  {
   "cell_type": "code",
   "execution_count": 17,
   "metadata": {},
   "outputs": [],
   "source": [
    "# Reviewer's code 2.2 train-valid intersection\n",
    "\n",
    "#intersection1 = features_valid.index.intersection(features_train.index)[0]\n",
    "#print(features_train.loc[intersection1])\n",
    "#print(features_valid.loc[intersection1])"
   ]
  },
  {
   "cell_type": "code",
   "execution_count": 18,
   "metadata": {},
   "outputs": [],
   "source": [
    "# Reviewer's code 2.3 test-valid intersection\n",
    "\n",
    "#intersection2 = features_valid.index.intersection(features_test.index)[0]\n",
    "#print(features_test.loc[intersection2])\n",
    "#print(features_valid.loc[intersection2])"
   ]
  },
  {
   "cell_type": "code",
   "execution_count": 19,
   "metadata": {},
   "outputs": [],
   "source": [
    "# Setting Raw Features and Targets before resampling, scaling, and poly features\n",
    "features_valid_raw = features_valid\n",
    "target_valid_raw = target_valid\n",
    "\n",
    "features_train_raw = features_train\n",
    "target_train_raw = target_train\n",
    "\n",
    "features_test_raw = features_test\n",
    "target_test_raw = target_test"
   ]
  },
  {
   "cell_type": "code",
   "execution_count": 20,
   "metadata": {},
   "outputs": [],
   "source": [
    "def downsample(features, target, fraction):\n",
    "    features_zeros = pd.DataFrame(features[target == 0])\n",
    "    features_ones = pd.DataFrame(features[target == 1])\n",
    "    target_zeros = pd.Series(target[target == 0])\n",
    "    target_ones = pd.Series(target[target == 1])\n",
    "\n",
    "    features_downsampled = pd.concat(\n",
    "        [features_zeros.sample(frac=fraction, random_state=state)]\n",
    "        + [features_ones]\n",
    "    )\n",
    "    target_downsampled = pd.concat(\n",
    "        [target_zeros.sample(frac=fraction, random_state=state)]\n",
    "        + [target_ones]\n",
    "    )\n",
    "\n",
    "    features_downsampled, target_downsampled = shuffle(\n",
    "        features_downsampled, target_downsampled, random_state=state\n",
    "    )\n",
    "\n",
    "    return features_downsampled, target_downsampled\n",
    "\n",
    "def upsample(features, target, repeat):\n",
    "    features_zeros = pd.DataFrame(features[target == 0])\n",
    "    features_ones = pd.DataFrame(features[target == 1])\n",
    "    target_zeros = pd.Series(target[target == 0])\n",
    "    target_ones = pd.Series(target[target == 1])\n",
    "\n",
    "    features_upsampled = pd.concat([features_zeros] + [features_ones] * repeat)\n",
    "    target_upsampled = pd.concat([target_zeros] + [target_ones] * repeat)\n",
    "\n",
    "    features_upsampled, target_upsampled = shuffle(\n",
    "        features_upsampled, target_upsampled, random_state=state\n",
    "    )\n",
    "\n",
    "    return features_upsampled, target_upsampled"
   ]
  },
  {
   "cell_type": "code",
   "execution_count": 21,
   "metadata": {},
   "outputs": [],
   "source": [
    "# Scaling the Sets\n",
    "scaler = StandardScaler()\n",
    "features_train_scaled = scaler.fit_transform(features_train)\n",
    "features_valid_scaled = scaler.transform(features_valid)\n",
    "features_test_scaled = scaler.transform(features_test)  \n",
    "\n",
    "# Implementing Upsampling\n",
    "features_upsampled, target_upsampled = upsample(\n",
    "    features_train_scaled, target_train, 10\n",
    ")\n",
    "\n",
    "# Implementing Downsampling\n",
    "features_downsampled, target_downsampled = downsample(\n",
    "    features_train_scaled, target_train, 0.1\n",
    ")\n",
    "\n",
    "features_downsampled, target_downsampled = shuffle(\n",
    "    features_downsampled, target_downsampled, random_state=state\n",
    ")\n",
    "\n",
    "features_upsampled, target_upsampled = shuffle(\n",
    "    features_upsampled, target_upsampled, random_state=state\n",
    ")"
   ]
  },
  {
   "cell_type": "code",
   "execution_count": 22,
   "metadata": {},
   "outputs": [],
   "source": [
    "# Introducing Polynomial Features\n",
    "poly = PolynomialFeatures(degree=2, interaction_only=True, include_bias=False)\n",
    "\n",
    "features_train = poly.fit_transform(features_upsampled)\n",
    "target_train = target_upsampled\n",
    "features_down_train = poly.fit_transform(features_downsampled)\n",
    "target_down_train = target_downsampled\n",
    "features_valid = poly.transform(features_valid_scaled)\n",
    "features_test = poly.transform(features_test_scaled)"
   ]
  },
  {
   "cell_type": "markdown",
   "metadata": {},
   "source": [
    "<h3>Plotting the Processed Data and Features</h3></br>\n",
    "&nbsp;&nbsp;&nbsp;&nbsp;To better understand the relationship between the different metrics I will plot the different values within each numeric column of my models features using a combination of box_plots and histograms. "
   ]
  },
  {
   "cell_type": "code",
   "execution_count": 23,
   "metadata": {},
   "outputs": [
    {
     "data": {
      "image/png": "[encoded data removed]",
      "text/plain": [
       "<Figure size 800x400 with 1 Axes>"
      ]
     },
     "metadata": {},
     "output_type": "display_data"
    },
    {
     "data": {
      "image/png": "[encoded data removed]",
      "text/plain": [
       "<Figure size 800x400 with 1 Axes>"
      ]
     },
     "metadata": {},
     "output_type": "display_data"
    },
    {
     "data": {
      "image/png": "[encoded data removed]",
      "text/plain": [
       "<Figure size 800x400 with 1 Axes>"
      ]
     },
     "metadata": {},
     "output_type": "display_data"
    },
    {
     "data": {
      "image/png": "[encoded data removed]",
      "text/plain": [
       "<Figure size 800x400 with 1 Axes>"
      ]
     },
     "metadata": {},
     "output_type": "display_data"
    }
   ],
   "source": [
    "for column in ['CreditScore', 'Age', 'Tenure', 'EstimatedSalary']:\n",
    "   plt.figure(figsize=(8, 4))\n",
    "   plt.hist(customer_info[column], bins=30, edgecolor='k', alpha=0.7)\n",
    "   plt.title(f'Distribution of {column}')\n",
    "   plt.xlabel(column)\n",
    "   plt.ylabel('Frequency')\n",
    "   plt.show()"
   ]
  },
  {
   "cell_type": "code",
   "execution_count": 24,
   "metadata": {},
   "outputs": [
    {
     "data": {
      "image/png": "[encoded data removed]",
      "text/plain": [
       "<Figure size 800x400 with 1 Axes>"
      ]
     },
     "metadata": {},
     "output_type": "display_data"
    },
    {
     "data": {
      "image/png": "[encoded data removed]",
      "text/plain": [
       "<Figure size 800x400 with 1 Axes>"
      ]
     },
     "metadata": {},
     "output_type": "display_data"
    }
   ],
   "source": [
    "# Plotting features that looked like they had outliers to understnad how it affects mean and values.\n",
    "for column in ['Balance', 'NumOfProducts']:\n",
    "       plt.figure(figsize=(8, 4))\n",
    "       plt.boxplot(data[column], vert=False)\n",
    "       plt.title(f'Box Plot of {column}')\n",
    "       plt.xlabel(column)\n",
    "       plt.show()"
   ]
  },
  {
   "cell_type": "markdown",
   "metadata": {},
   "source": [
    "<h3>Plotting Observations</h3></br>\n",
    "&nbsp;&nbsp;&nbsp;&nbsp;Looking over the graphs I noticed the most common balance value is 0, which could heavily disrupt that metric within the models and that most people have only a single product with the bank which might make that metric imbalenced as well."
   ]
  },
  {
   "cell_type": "markdown",
   "metadata": {},
   "source": [
    "<h2>Building the Models</h2>\n",
    "<h3>Descision Tree</h3>\n",
    "&nbsp;&nbsp;&nbsp;&nbsp;I'm going to start with my suspicion to see how accurate of a model it turns up. I'm going to run some code to find the optimal depth to achieve the highest accuracy score. I'm going to be putting the best foot forward on each of these test to determine the more accurate model. "
   ]
  },
  {
   "cell_type": "code",
   "execution_count": 16,
   "metadata": {},
   "outputs": [
    {
     "name": "stdout",
     "output_type": "stream",
     "text": [
      "Raw Accuracy - Best set - F1 Score: 0.59, Depth: 5, Best_Sample_Size: 2, Best_Leaf: 5\n"
     ]
    },
    {
     "data": {
      "text/plain": [
       "DecisionTreeClassifier(max_depth=5, random_state=54321)"
      ]
     },
     "execution_count": 16,
     "metadata": {},
     "output_type": "execute_result"
    }
   ],
   "source": [
    "# Before Processing Class Imbalence\n",
    "best_score_raw = 0\n",
    "best_depth_raw = 0\n",
    "best_sample_raw = 0\n",
    "best_leaf_raw = 0\n",
    "\n",
    "for min_samp in range(2, 10):\n",
    "    for leaf in range(2, 10):\n",
    "        for depth in range(1, 11):\n",
    "            raw_tree_model = DecisionTreeClassifier(\n",
    "                random_state=state,\n",
    "                max_depth=depth, \n",
    "                min_samples_split= min_samp,\n",
    "                min_samples_leaf = leaf)\n",
    "            raw_tree_model.fit(features_train_raw, target_train_raw)\n",
    "            predict_test_raw = raw_tree_model.predict(features_test_raw)\n",
    "            score = round(f1_score(target_test_raw, predict_test_raw), 2)\n",
    "            if score > best_score_raw:\n",
    "                best_score_raw = score\n",
    "                best_depth_raw = depth\n",
    "                best_sample_raw = min_samp\n",
    "                best_leaf_raw = leaf\n",
    "\n",
    "print('Raw Accuracy - '\n",
    "      f'Best set - F1 Score: {best_score_raw}, '\n",
    "      f'Depth: {best_depth_raw}, '\n",
    "      f'Best_Sample_Size: {best_sample_raw}, ' \n",
    "      f'Best_Leaf: {best_leaf_raw}')\n",
    "\n",
    "# Training the Best model for AUC-ROC Graph\n",
    "raw_tree_model = DecisionTreeClassifier(random_state=state, max_depth=best_depth_raw, min_samples_split=best_sample_raw)\n",
    "raw_tree_model.fit(features_train_raw, target_train_raw)"
   ]
  },
  {
   "cell_type": "code",
   "execution_count": 17,
   "metadata": {},
   "outputs": [
    {
     "name": "stdout",
     "output_type": "stream",
     "text": [
      "Accuracy - Best set - F1 Score: 0.55, Depth: 25, Best_Sample_Size: 10, Best_Leaf: 10\n"
     ]
    },
    {
     "data": {
      "text/plain": [
       "DecisionTreeClassifier(max_depth=30, min_samples_split=10, random_state=54321)"
      ]
     },
     "execution_count": 17,
     "metadata": {},
     "output_type": "execute_result"
    }
   ],
   "source": [
    "best_score = 0\n",
    "best_depth = 0\n",
    "best_sample = 0\n",
    "best_leaf = 0\n",
    "\n",
    "for min_samp in [10, 15, 20]:\n",
    "    for leaf in [2, 6, 10, 15]:\n",
    "        for depth in [20, 25, 30]:\n",
    "            tree_model = DecisionTreeClassifier(\n",
    "                random_state=state, \n",
    "                max_depth=depth, \n",
    "                min_samples_split= min_samp,\n",
    "                min_samples_leaf = leaf)\n",
    "            tree_model.fit(features_train, target_train) # Using the Training set for training the data\n",
    "            predict_test = tree_model.predict(features_test)\n",
    "            score = round(f1_score(target_test, predict_test), 2) # Using the Test set to tune hyper variables\n",
    "            if score > best_score:\n",
    "                best_score = score\n",
    "                best_depth = depth\n",
    "                best_sample = min_samp\n",
    "                best_leaf = leaf\n",
    "\n",
    "print('Accuracy - '\n",
    "      f'Best set - F1 Score: {best_score}, '\n",
    "      f'Depth: {best_depth}, '\n",
    "      f'Best_Sample_Size: {best_sample}, ' \n",
    "      f'Best_Leaf: {best_leaf}')\n",
    "\n",
    "# Training the Best model for AUC-ROC Graph\n",
    "tree_model = DecisionTreeClassifier(random_state=state, max_depth=depth, min_samples_split=best_sample)\n",
    "tree_model.fit(features_train, target_train)"
   ]
  },
  {
   "cell_type": "code",
   "execution_count": 18,
   "metadata": {},
   "outputs": [
    {
     "name": "stdout",
     "output_type": "stream",
     "text": [
      "AUC: 0.8425679868879588\n"
     ]
    },
    {
     "data": {
      "image/png": "[encoded data removed]",
      "text/plain": [
       "<Figure size 640x480 with 1 Axes>"
      ]
     },
     "metadata": {},
     "output_type": "display_data"
    },
    {
     "name": "stdout",
     "output_type": "stream",
     "text": [
      "AUC: 0.6603692270154725\n"
     ]
    },
    {
     "data": {
      "image/png": "[encoded data removed]",
      "text/plain": [
       "<Figure size 640x480 with 1 Axes>"
      ]
     },
     "metadata": {},
     "output_type": "display_data"
    }
   ],
   "source": [
    "## Unprocessed Data ##\n",
    "\n",
    "predicted_probs = raw_tree_model.predict_proba(features_test_raw)[:, 1]  # Probabilities for the positive class\n",
    "\n",
    "# ROC curve\n",
    "fpr, tpr, thresholds = roc_curve(target_test_raw, predicted_probs)\n",
    "\n",
    "# AUC\n",
    "auc = roc_auc_score(target_test_raw, predicted_probs)\n",
    "print(\"AUC:\", auc)\n",
    "\n",
    "# Plotting\n",
    "plt.figure()\n",
    "plt.plot(fpr, tpr, label='ROC curve (area = %0.2f)' % auc)\n",
    "plt.plot([0, 1], [0, 1], 'k--')  # Diagonal line\n",
    "plt.xlabel('False Positive Rate')\n",
    "plt.ylabel('True Positive Rate')\n",
    "plt.title('Unprocessed Receiver Operating Characteristic')\n",
    "plt.legend(loc=\"lower right\")\n",
    "plt.show()\n",
    "\n",
    "## Processed Data ##\n",
    "\n",
    "predicted_probs = tree_model.predict_proba(features_test)[:, 1]  # Probabilities for the positive class\n",
    "\n",
    "# ROC curve\n",
    "fpr, tpr, thresholds = roc_curve(target_test, predicted_probs)\n",
    "\n",
    "# AUC\n",
    "auc = roc_auc_score(target_test, predicted_probs)\n",
    "print(\"AUC:\", auc)\n",
    "\n",
    "# Plotting\n",
    "plt.figure()\n",
    "plt.plot(fpr, tpr, label='ROC curve (area = %0.2f)' % auc)\n",
    "plt.plot([0, 1], [0, 1], 'k--')  # Diagonal line\n",
    "plt.xlabel('False Positive Rate')\n",
    "plt.ylabel('True Positive Rate')\n",
    "plt.title('Processed Receiver Operating Characteristic')\n",
    "plt.legend(loc=\"lower right\")\n",
    "plt.show()"
   ]
  },
  {
   "cell_type": "code",
   "execution_count": 19,
   "metadata": {},
   "outputs": [
    {
     "data": {
      "text/plain": [
       "'Unprocessed Features Importances'"
      ]
     },
     "metadata": {},
     "output_type": "display_data"
    },
    {
     "name": "stdout",
     "output_type": "stream",
     "text": [
      "('Age', 0.4118586360407235)\n",
      "('NumOfProducts', 0.3327282319328752)\n",
      "('IsActiveMember', 0.13267045936645783)\n",
      "('Balance', 0.07068834344184406)\n",
      "('Geography_Germany', 0.04168557023638415)\n",
      "('EstimatedSalary', 0.010133776640067982)\n",
      "('CreditScore', 0.00023498234164726992)\n",
      "('Tenure', 0.0)\n",
      "('HasCrCard', 0.0)\n",
      "('Tenure_missing', 0.0)\n",
      "('Geography_Spain', 0.0)\n",
      "('Gender_Male', 0.0)\n"
     ]
    },
    {
     "data": {
      "text/plain": [
       "'Processed Features Importances'"
      ]
     },
     "metadata": {},
     "output_type": "display_data"
    },
    {
     "name": "stdout",
     "output_type": "stream",
     "text": [
      "('Age', 0.13637072500843186)\n",
      "('Balance', 0.030578052052456006)\n",
      "('IsActiveMember', 0.01113470708595413)\n",
      "('EstimatedSalary', 0.009598608491754)\n",
      "('Tenure', 0.002449824300547034)\n",
      "('CreditScore', 0.002275047225402706)\n",
      "('HasCrCard', 0.0002491819297092441)\n",
      "('NumOfProducts', 0.0)\n",
      "('Tenure_missing', 0.0)\n",
      "('Geography_Germany', 0.0)\n",
      "('Geography_Spain', 0.0)\n",
      "('Gender_Male', 0.0)\n"
     ]
    }
   ],
   "source": [
    "display('Unprocessed Features Importances')\n",
    "importances = raw_tree_model.feature_importances_\n",
    "feature_names = features.columns\n",
    "\n",
    "# Pair feature names with their importances\n",
    "feature_importance = zip(feature_names, importances)\n",
    "\n",
    "# Sort and display\n",
    "sorted_importance = sorted(feature_importance, key=lambda x: x[1], reverse=True)\n",
    "for feature in sorted_importance:\n",
    "    print(feature)\n",
    "\n",
    "display('Processed Features Importances')\n",
    "importances = tree_model.feature_importances_\n",
    "feature_names = features.columns\n",
    "\n",
    "# Pair feature names with their importances\n",
    "feature_importance = zip(feature_names, importances)\n",
    "\n",
    "# Sort and display\n",
    "sorted_importance = sorted(feature_importance, key=lambda x: x[1], reverse=True)\n",
    "for feature in sorted_importance:\n",
    "    print(feature)"
   ]
  },
  {
   "cell_type": "markdown",
   "metadata": {},
   "source": [
    "<h3>Decision Tree Observations</h3></br>\n",
    "&nbsp;&nbsp;&nbsp;&nbsp;Thats a curious observation, the Decision Tree Preformed better with the unfiltered/unprocessed data than with the resampling and scaling. In fact, based off the importances of each model it seems the polynominal features and scaling has made many valuable impressions from the raw features \"unnecessary\" for the model and the AUC-ROC and F1 Score see a major hit because of it. </br>\n",
    "&nbsp;&nbsp;&nbsp;&nbsp;That being said, a 63 F1 Score and a 78 AUC-ROC make for a seemingly reliable model, with unprocessed features."
   ]
  },
  {
   "cell_type": "markdown",
   "metadata": {},
   "source": [
    "<h3>Random Forest</h3>\n",
    "&nbsp;&nbsp;&nbsp;&nbsp;Moving on to the Random Forest since I wasn't able to get Descision Tree over an F1 Score of 57 on the testing set. Like I did with the Descision Tree I'm going to implement the most accurate results by finding the optimal variables for estimators and depth."
   ]
  },
  {
   "cell_type": "code",
   "execution_count": 26,
   "metadata": {},
   "outputs": [
    {
     "name": "stdout",
     "output_type": "stream",
     "text": [
      "Best model parameters: n_estimators = 4, max_depth = 17, min_samples_split = 10, min_samples_leaf = 4\n",
      "Best F1 Score: 0.59\n"
     ]
    },
    {
     "data": {
      "text/plain": [
       "RandomForestClassifier(max_depth=17, min_samples_leaf=4, min_samples_split=10,\n",
       "                       n_estimators=4, n_jobs=2, random_state=54321)"
      ]
     },
     "execution_count": 26,
     "metadata": {},
     "output_type": "execute_result"
    }
   ],
   "source": [
    "## Unprocessed Random Forest ##\n",
    "\n",
    "raw_tree_best_score = 0\n",
    "raw_best_est = 1 # Best number of Trees\n",
    "raw_best_depth = 1 # Best Depth\n",
    "raw_best_split = 2 # Best number of trees before split\n",
    "raw_best_leaf = 1 # Best node amount to make a leaf\n",
    "\n",
    "for depth in range(10, 20):\n",
    "    for est in range(1, 10):\n",
    "        for split in [2, 5, 10]:\n",
    "            for leaf in [1, 2, 4]:\n",
    "                raw_forest_model = RandomForestClassifier(\n",
    "                    random_state=state,\n",
    "                    n_jobs=n_jobs,\n",
    "                    n_estimators=est,\n",
    "                    max_depth=depth,\n",
    "                    min_samples_split=split,\n",
    "                    min_samples_leaf=leaf\n",
    "                )\n",
    "        raw_forest_model.fit(features_train_raw, target_train_raw)\n",
    "        raw_predict_test = raw_forest_model.predict(features_test_raw)\n",
    "        score = round(f1_score(target_test_raw, raw_predict_test), 2)\n",
    "        if score > raw_tree_best_score:\n",
    "            raw_tree_best_score = score\n",
    "            raw_best_est = est\n",
    "            raw_best_depth = depth\n",
    "            raw_best_split = split\n",
    "            raw_best_leaf = leaf\n",
    "\n",
    "print(\"Best model parameters: n_estimators = {}, max_depth = {}, min_samples_split = {}, min_samples_leaf = {}\".format(\n",
    "    raw_best_est, raw_best_depth, raw_best_split, raw_best_leaf))\n",
    "print(f\"Best F1 Score: {raw_tree_best_score}\")\n",
    "\n",
    "# Training the Best model for AUC-ROC Graph\n",
    "raw_forest_model = RandomForestClassifier(random_state=state, \n",
    "                                          n_jobs=n_jobs,\n",
    "                                          n_estimators=raw_best_est,\n",
    "                                          max_depth=raw_best_depth,\n",
    "                                          min_samples_split=raw_best_split,\n",
    "                                          min_samples_leaf=raw_best_leaf)\n",
    "raw_forest_model.fit(features_train_raw, target_train_raw)"
   ]
  },
  {
   "cell_type": "code",
   "execution_count": 25,
   "metadata": {},
   "outputs": [
    {
     "name": "stdout",
     "output_type": "stream",
     "text": [
      "Best model parameters: n_estimators = 6, max_depth = 18, min_samples_split = 10, min_samples_leaf = 4\n",
      "Best Model Score: 0.63\n"
     ]
    },
    {
     "data": {
      "text/plain": [
       "RandomForestClassifier(max_depth=18, min_samples_leaf=4, min_samples_split=10,\n",
       "                       n_estimators=6, random_state=54321)"
      ]
     },
     "execution_count": 25,
     "metadata": {},
     "output_type": "execute_result"
    }
   ],
   "source": [
    "## Processed Random Forest ##\n",
    "\n",
    "tree_best_score = 0\n",
    "best_est = 0\n",
    "best_depth = 1\n",
    "best_split = 2\n",
    "best_leaf = 1\n",
    "\n",
    "for depth in range(17, 20):\n",
    "    for est in range(4, 7):\n",
    "        for split in [2, 5, 10]:\n",
    "            for leaf in [1, 2, 4]:\n",
    "                forest_model = RandomForestClassifier(\n",
    "                    random_state=state,\n",
    "                    n_estimators=est,\n",
    "                    max_depth=depth,\n",
    "                    min_samples_split=split,\n",
    "                    min_samples_leaf=leaf\n",
    "                )\n",
    "                forest_model.fit(features_train, target_train)\n",
    "                predict_test = forest_model.predict(features_test)\n",
    "                score = round(f1_score(target_test, predict_test), 2)\n",
    "                if score > tree_best_score:\n",
    "                    tree_best_score = score\n",
    "                    best_est = est\n",
    "                    best_depth = depth\n",
    "                    best_split = split\n",
    "                    best_leaf = leaf\n",
    "\n",
    "print(\"Best model parameters: n_estimators = {}, max_depth = {}, min_samples_split = {}, min_samples_leaf = {}\".format(\n",
    "    best_est, best_depth, best_split, best_leaf))\n",
    "print(f'Best Model Score: {tree_best_score}')\n",
    "\n",
    "# Training the Best model for AUC-ROC Graph\n",
    "forest_model = RandomForestClassifier(random_state=state, \n",
    "                                      n_estimators=best_est, \n",
    "                                      max_depth=best_depth,\n",
    "                                      min_samples_split=best_split,\n",
    "                                      min_samples_leaf=best_leaf)\n",
    "forest_model.fit(features_train, target_train)"
   ]
  },
  {
   "cell_type": "code",
   "execution_count": 27,
   "metadata": {},
   "outputs": [
    {
     "name": "stdout",
     "output_type": "stream",
     "text": [
      "AUC: 0.8374334982946922\n"
     ]
    },
    {
     "data": {
      "image/png": "[encoded data removed]",
      "text/plain": [
       "<Figure size 640x480 with 1 Axes>"
      ]
     },
     "metadata": {},
     "output_type": "display_data"
    },
    {
     "name": "stdout",
     "output_type": "stream",
     "text": [
      "AUC: 0.8454866360082534\n"
     ]
    },
    {
     "data": {
      "image/png": "[encoded data removed]",
      "text/plain": [
       "<Figure size 640x480 with 1 Axes>"
      ]
     },
     "metadata": {},
     "output_type": "display_data"
    }
   ],
   "source": [
    "## Unprocessed ##\n",
    "\n",
    "predicted_probs = raw_forest_model.predict_proba(features_test_raw)[:, 1]\n",
    "\n",
    "# ROC curve\n",
    "fpr, tpr, thresholds = roc_curve(target_test_raw, predicted_probs)\n",
    "\n",
    "# AUC\n",
    "auc = roc_auc_score(target_test_raw, predicted_probs)\n",
    "print(\"AUC:\", auc)\n",
    "\n",
    "# Plotting\n",
    "plt.figure()\n",
    "plt.plot(fpr, tpr, label='ROC curve (area = %0.2f)' % auc)\n",
    "plt.plot([0, 1], [0, 1], 'k--')  # Diagonal line\n",
    "plt.xlabel('False Positive Rate')\n",
    "plt.ylabel('True Positive Rate')\n",
    "plt.title('Unprocessed Receiver Operating Characteristic')\n",
    "plt.legend(loc=\"lower right\")\n",
    "plt.show()\n",
    "\n",
    "## Processed ##\n",
    "\n",
    "predicted_probs = forest_model.predict_proba(features_test)[:, 1]  # Probabilities for the positive class\n",
    "\n",
    "# ROC curve\n",
    "fpr, tpr, thresholds = roc_curve(target_test, predicted_probs)\n",
    "\n",
    "# AUC\n",
    "auc = roc_auc_score(target_test, predicted_probs)\n",
    "print(\"AUC:\", auc)\n",
    "\n",
    "# Plotting\n",
    "plt.figure()\n",
    "plt.plot(fpr, tpr, label='ROC curve (area = %0.2f)' % auc)\n",
    "plt.plot([0, 1], [0, 1], 'k--')  # Diagonal line\n",
    "plt.xlabel('False Positive Rate')\n",
    "plt.ylabel('True Positive Rate')\n",
    "plt.title('Processed Receiver Operating Characteristic')\n",
    "plt.legend(loc=\"lower right\")\n",
    "plt.show()"
   ]
  },
  {
   "cell_type": "code",
   "execution_count": 28,
   "metadata": {},
   "outputs": [
    {
     "data": {
      "text/plain": [
       "'Unprocessed Features Importances'"
      ]
     },
     "metadata": {},
     "output_type": "display_data"
    },
    {
     "name": "stdout",
     "output_type": "stream",
     "text": [
      "('Age', 0.29998362306120263)\n",
      "('NumOfProducts', 0.22102323782243163)\n",
      "('Balance', 0.10083762993903161)\n",
      "('CreditScore', 0.09955905253794906)\n",
      "('EstimatedSalary', 0.07876839615383521)\n",
      "('Tenure', 0.05850622667769614)\n",
      "('IsActiveMember', 0.0567697850000896)\n",
      "('Geography_Germany', 0.04047779278158236)\n",
      "('Gender_Male', 0.016584987006619426)\n",
      "('HasCrCard', 0.012880231418781463)\n",
      "('Geography_Spain', 0.008976503758211355)\n",
      "('Tenure_missing', 0.005632533842569452)\n"
     ]
    },
    {
     "data": {
      "text/plain": [
       "'Processed Features Importances'"
      ]
     },
     "metadata": {},
     "output_type": "display_data"
    },
    {
     "name": "stdout",
     "output_type": "stream",
     "text": [
      "('Age', 0.06726613097265641)\n",
      "('Balance', 0.029675629042569467)\n",
      "('NumOfProducts', 0.02205072363684901)\n",
      "('EstimatedSalary', 0.015563366745847624)\n",
      "('CreditScore', 0.012623396513730458)\n",
      "('IsActiveMember', 0.008260679408035326)\n",
      "('Tenure', 0.005721082665382664)\n",
      "('Gender_Male', 0.0049496093946947315)\n",
      "('Geography_Spain', 0.0015814704980617296)\n",
      "('Tenure_missing', 0.0015550329589387078)\n",
      "('HasCrCard', 0.0007871189990699691)\n",
      "('Geography_Germany', 0.0)\n"
     ]
    }
   ],
   "source": [
    "display('Unprocessed Features Importances')\n",
    "importances = raw_forest_model.feature_importances_\n",
    "feature_names = features.columns\n",
    "\n",
    "# Pair feature names with their importances\n",
    "feature_importance = zip(feature_names, importances)\n",
    "\n",
    "# Sort and display\n",
    "sorted_importance = sorted(feature_importance, key=lambda x: x[1], reverse=True)\n",
    "for feature in sorted_importance:\n",
    "    print(feature)\n",
    "\n",
    "display('Processed Features Importances')\n",
    "importances = forest_model.feature_importances_\n",
    "feature_names = features.columns\n",
    "\n",
    "# Pair feature names with their importances\n",
    "feature_importance = zip(feature_names, importances)\n",
    "\n",
    "# Sort and display\n",
    "sorted_importance = sorted(feature_importance, key=lambda x: x[1], reverse=True)\n",
    "for feature in sorted_importance:\n",
    "    print(feature)"
   ]
  },
  {
   "cell_type": "markdown",
   "metadata": {},
   "source": [
    "<h3>Random Forest Observations</h3></br>\n",
    "&nbsp;&nbsp;&nbsp;&nbsp;Several interesting observations made here between the processed and unprocessed models.\n",
    "<ol>\n",
    "    <li>Would have to be the discripencies in the value between the classes. Age is number one in both but everything went down by a tenth of importance during the varying methods of processing.</li>\n",
    "    <li>Another observation is how, despite the changes in class order, the AUC-ROC and F1 Score didn't have a lot of variance, between the two models on the validation set.</li>\n",
    "</ol>\n",
    "&nbsp;&nbsp;&nbsp;&nbsp;This implies that the Random Forest Model, doesn't seem to be very affected by the scaling and polynomial features. With an AUC-ROC of 85 for the Unprocessed features that seems to be the winner between Decsion Tree and Random Forest. Clearly with the variance of Trees and estimators Random Forest is able to pick up on more details than the Decsision Tree."
   ]
  },
  {
   "cell_type": "markdown",
   "metadata": {},
   "source": [
    "<h3>Logisitic Regression</h3>\n",
    "&nbsp;&nbsp;&nbsp;&nbsp;That F1 Score on the Validation Set is a little crazy so I'm going to explore the Logisitic Regrssion Model to see waht that offers."
   ]
  },
  {
   "cell_type": "code",
   "execution_count": 29,
   "metadata": {},
   "outputs": [
    {
     "name": "stdout",
     "output_type": "stream",
     "text": [
      "Best parameters found:  {'C': 0.1, 'penalty': 'l2', 'solver': 'liblinear'}\n"
     ]
    }
   ],
   "source": [
    "# Using Grid Search to find the most robust parameters\n",
    "param_grid = {\n",
    "    'penalty': ['l1', 'l2'],\n",
    "    'C': [0.1, 0.1, 10],\n",
    "    'solver': ['liblinear', 'saga'],\n",
    "}\n",
    "grid_search = GridSearchCV(LogisticRegression(max_iter=1000, class_weight='balanced'), \n",
    "                           param_grid, scoring='f1', cv=5)\n",
    "grid_search.fit(features_train, target_train)\n",
    "\n",
    "# Printing the best parameters to implement\n",
    "print(\"Best parameters found: \", grid_search.best_params_)"
   ]
  },
  {
   "cell_type": "code",
   "execution_count": 30,
   "metadata": {},
   "outputs": [
    {
     "name": "stdout",
     "output_type": "stream",
     "text": [
      "F1 Score on upsampled seperated Validation set: 0.61\n"
     ]
    }
   ],
   "source": [
    "# Implementing those best parameters\n",
    "LR_model = LogisticRegression(C=0.1, penalty='l1', solver='saga', max_iter=1000, \n",
    "                           random_state=state)\n",
    "LR_model.fit(features_train, target_train)\n",
    "\n",
    "# Testing the Fresh Model against the Seperate Validation Set\n",
    "predict_valid = LR_model.predict(features_test)\n",
    "print(f'F1 Score on upsampled seperated Validation set: {round(f1_score(target_test, predict_test), 2)}')"
   ]
  },
  {
   "cell_type": "code",
   "execution_count": 31,
   "metadata": {},
   "outputs": [
    {
     "name": "stdout",
     "output_type": "stream",
     "text": [
      "Best parameters found:  {'C': 0.1, 'penalty': 'l1', 'solver': 'liblinear'}\n"
     ]
    }
   ],
   "source": [
    "# Using Grid Search to find the most robust parameters\n",
    "param_grid = {\n",
    "    'penalty': ['l1', 'l2'],\n",
    "    'C': [0.1, 0.1, 10],\n",
    "    'solver': ['liblinear', 'saga'],\n",
    "}\n",
    "grid_search = GridSearchCV(LogisticRegression(max_iter=1000, class_weight='balanced'), \n",
    "                           param_grid, scoring='f1', cv=5)\n",
    "grid_search.fit(features_down_train, target_down_train)\n",
    "\n",
    "# Printing the best parameters to implement\n",
    "print(\"Best parameters found: \", grid_search.best_params_)"
   ]
  },
  {
   "cell_type": "code",
   "execution_count": 32,
   "metadata": {},
   "outputs": [
    {
     "name": "stdout",
     "output_type": "stream",
     "text": [
      "F1 Score on downsampled seperated Validation set: 0.61\n"
     ]
    }
   ],
   "source": [
    "# Implementing those best parameters\n",
    "LR_down_model = LogisticRegression(C=0.1, penalty='l1', solver='liblinear', max_iter=1000, \n",
    "                           random_state=state)\n",
    "LR_down_model.fit(features_down_train, target_down_train)\n",
    "\n",
    "# Testing the Fresh Model against the Seperate Validation Set\n",
    "predict_valid = LR_model.predict(features_test)\n",
    "print(f'F1 Score on downsampled seperated Validation set: {round(f1_score(target_test, predict_test), 2)}')"
   ]
  },
  {
   "cell_type": "code",
   "execution_count": 34,
   "metadata": {},
   "outputs": [
    {
     "name": "stdout",
     "output_type": "stream",
     "text": [
      "AUC: 0.7772305586938879\n"
     ]
    },
    {
     "data": {
      "image/png": "[encoded data removed]",
      "text/plain": [
       "<Figure size 640x480 with 1 Axes>"
      ]
     },
     "metadata": {},
     "output_type": "display_data"
    },
    {
     "name": "stdout",
     "output_type": "stream",
     "text": [
      "AUC: 0.7807870407205257\n"
     ]
    },
    {
     "data": {
      "image/png": "[encoded data removed]",
      "text/plain": [
       "<Figure size 640x480 with 1 Axes>"
      ]
     },
     "metadata": {},
     "output_type": "display_data"
    }
   ],
   "source": [
    "## Up sampled ##\n",
    "predicted_probs = LR_model.predict_proba(features_test)[:, 1]\n",
    "\n",
    "# ROC curve\n",
    "fpr, tpr, thresholds = roc_curve(target_test, predicted_probs)\n",
    "\n",
    "# AUC\n",
    "auc = roc_auc_score(target_test, predicted_probs)\n",
    "print(\"AUC:\", auc)\n",
    "\n",
    "# Plotting\n",
    "plt.figure()\n",
    "plt.plot(fpr, tpr, label='ROC curve (area = %0.2f)' % auc)\n",
    "plt.plot([0, 1], [0, 1], 'k--')  # Diagonal line\n",
    "plt.xlabel('False Positive Rate')\n",
    "plt.ylabel('True Positive Rate')\n",
    "plt.title('Upsampled Receiver Operating Characteristic')\n",
    "plt.legend(loc=\"lower right\")\n",
    "plt.show()\n",
    "\n",
    "## Down Sampled ##\n",
    "predicted_probs = LR_down_model.predict_proba(features_test)[:, 1]\n",
    "\n",
    "# ROC curve\n",
    "fpr, tpr, thresholds = roc_curve(target_test, predicted_probs)\n",
    "\n",
    "# AUC\n",
    "auc = roc_auc_score(target_test, predicted_probs)\n",
    "print(\"AUC:\", auc)\n",
    "\n",
    "# Plotting\n",
    "plt.figure()\n",
    "plt.plot(fpr, tpr, label='ROC curve (area = %0.2f)' % auc)\n",
    "plt.plot([0, 1], [0, 1], 'k--')  # Diagonal line\n",
    "plt.xlabel('False Positive Rate')\n",
    "plt.ylabel('True Positive Rate')\n",
    "plt.title('Downsampled Receiver Operating Characteristic')\n",
    "plt.legend(loc=\"lower right\")\n",
    "plt.show()"
   ]
  },
  {
   "cell_type": "markdown",
   "metadata": {},
   "source": [
    "<h3>If it wasn't for that F1 Score</h3></br>\n",
    "&nbsp;&nbsp;&nbsp;&nbsp;The Logisitic Regression Model seems to be the most finicky and least intuitive model. I'd imagine with more practice and tuning of the hyper parameters I could get this model to preform better but as it stands right now I haven't been able to get it past an F1 Score of 53."
   ]
  },
  {
   "cell_type": "markdown",
   "metadata": {},
   "source": [
    "<h2>Making a Seperate Testing Section for the best Model</h2></br>\n",
    "&nbsp;&nbsp;&nbsp;&nbsp;Reviewing the models I have choosen the unprocessed Random Forest, simply because it handled the class structure of the data the best, was the most intuitive, and held the highest AUC-ROC score from the testing set."
   ]
  },
  {
   "cell_type": "code",
   "execution_count": 37,
   "metadata": {
    "scrolled": true
   },
   "outputs": [
    {
     "name": "stdout",
     "output_type": "stream",
     "text": [
      "F1 Score on the seperated Validation set: 0.59\n"
     ]
    }
   ],
   "source": [
    "# Testing the Raw Random Forest Model against the Seperate Validation Set\n",
    "predict_valid = forest_model.predict(features_valid) \n",
    "print(f'F1 Score on the seperated Validation set: {round(f1_score(target_valid, predict_valid), 2)}')"
   ]
  },
  {
   "cell_type": "code",
   "execution_count": 35,
   "metadata": {},
   "outputs": [
    {
     "name": "stdout",
     "output_type": "stream",
     "text": [
      "estimators:  70\n",
      "F1:  0.5754985754985755\n"
     ]
    }
   ],
   "source": [
    "# Reviewer's code 5 \n",
    "\n",
    "data = pd.get_dummies(customer_info, drop_first=True, columns=['Geography', 'Gender'])\n",
    "\n",
    "\n",
    "data_train_valid, data_test = train_test_split(data, test_size=0.2, random_state=12)\n",
    "data_train, data_valid = train_test_split(data_train_valid, test_size=0.25, random_state=12)\n",
    "\n",
    "data_features_train = data_train.drop(['Exited', 'RowNumber', 'CustomerId', 'Surname'], axis=1)\n",
    "data_target_train = data_train['Exited']\n",
    "data_features_valid = data_valid.drop(['Exited', 'RowNumber', 'CustomerId', 'Surname'], axis=1)\n",
    "data_target_valid = data_valid['Exited']\n",
    "data_features_test = data_test.drop(['Exited', 'RowNumber', 'CustomerId', 'Surname'], axis=1)\n",
    "data_target_test = data_test['Exited']\n",
    "\n",
    "\n",
    "\n",
    "data_features_train_up, data_target_train_up = upsample(data_features_train, data_target_train, 10)\n",
    "\n",
    "best_F1 = 0\n",
    "\n",
    "for estim in range(20, 80, 10):\n",
    "    model = RandomForestClassifier(random_state=12345, n_estimators=estim)\n",
    "\n",
    "    model.fit(data_features_train_up, data_target_train_up)\n",
    "    predicted_valid = model.predict(data_features_valid)\n",
    "    probablities_valid = model.predict_proba(data_features_valid)[:, 1]\n",
    "    \n",
    "    f1 = f1_score(data_target_valid, predicted_valid)\n",
    "    \n",
    "    if f1 > best_F1:\n",
    "        best_F1 = f1\n",
    "        best_estim = estim\n",
    "        best_model = model\n",
    "        \n",
    "print(\"estimators: \", best_estim)\n",
    "print('F1: ', best_F1)"
   ]
  },
  {
   "cell_type": "code",
   "execution_count": 36,
   "metadata": {},
   "outputs": [
    {
     "name": "stdout",
     "output_type": "stream",
     "text": [
      "F1 = 0.6149870801033591\n",
      "AUC-ROC = 0.8446892817757338\n"
     ]
    }
   ],
   "source": [
    "# Reviewer's code 5 \n",
    "\n",
    "predicted_test = best_model.predict(data_features_test)\n",
    "probablities_test = best_model.predict_proba(data_features_test)[:, 1]\n",
    "\n",
    "print('F1 =', f1_score(data_target_test, predicted_test))\n",
    "print('AUC-ROC =', roc_auc_score(data_target_test, probablities_test))"
   ]
  },
  {
   "cell_type": "markdown",
   "metadata": {},
   "source": [
    "<h2>Conclusion</h2></br>\n",
    "&nbsp;&nbsp;&nbsp;&nbsp;With the complexity of the information and how each feature interacts, the Random Forest model stands out, achieving an F1 Score of 0.59 on the validation set and an AUC of 0.84. This indicates strong performance and robustness in capturing the intricacies of the dataset.</br>\n",
    "&nbsp;&nbsp;&nbsp;&nbsp;After reviewing the Features and their respective importance in the Random Forest Model you will see that Age followed by financial health metrics are the major contribitors to whether a client will be leaving the bank. With this knowledge, and the assistance of personalized detail utilizing the models help, I would suggest we develop retention strategies to improve the fiancial health of our customers and have our advertisment strategies focus on the security and strength of our models and services."
   ]
  }
 ],
 "metadata": {
  "ExecuteTimeLog": [
   {
    "duration": 346,
    "start_time": "2024-10-24T14:11:49.178Z"
   },
   {
    "duration": 36,
    "start_time": "2024-10-24T14:13:07.214Z"
   },
   {
    "duration": 530,
    "start_time": "2024-10-24T15:16:45.190Z"
   },
   {
    "duration": 223,
    "start_time": "2024-10-24T15:23:12.367Z"
   },
   {
    "duration": 27,
    "start_time": "2024-10-24T15:23:17.027Z"
   },
   {
    "duration": 32,
    "start_time": "2024-10-24T15:23:19.391Z"
   },
   {
    "duration": 36,
    "start_time": "2024-10-24T15:32:09.295Z"
   },
   {
    "duration": 33,
    "start_time": "2024-10-24T15:36:24.322Z"
   },
   {
    "duration": 206,
    "start_time": "2024-10-24T15:36:28.428Z"
   },
   {
    "duration": 52,
    "start_time": "2024-10-24T15:37:13.624Z"
   },
   {
    "duration": 17,
    "start_time": "2024-10-24T15:44:56.399Z"
   },
   {
    "duration": 14,
    "start_time": "2024-10-24T15:45:04.157Z"
   },
   {
    "duration": 6,
    "start_time": "2024-10-24T15:45:46.026Z"
   },
   {
    "duration": 65,
    "start_time": "2024-10-24T15:45:52.979Z"
   },
   {
    "duration": 16,
    "start_time": "2024-10-24T15:46:16.986Z"
   },
   {
    "duration": 5,
    "start_time": "2024-10-24T15:51:37.475Z"
   },
   {
    "duration": 51,
    "start_time": "2024-10-24T15:51:45.405Z"
   },
   {
    "duration": 452,
    "start_time": "2024-10-24T15:56:31.864Z"
   },
   {
    "duration": 372,
    "start_time": "2024-10-24T15:59:27.748Z"
   },
   {
    "duration": 412,
    "start_time": "2024-10-24T15:59:58.509Z"
   },
   {
    "duration": 377,
    "start_time": "2024-10-24T16:00:10.955Z"
   },
   {
    "duration": 360,
    "start_time": "2024-10-24T16:00:45.251Z"
   },
   {
    "duration": 426,
    "start_time": "2024-10-24T16:02:52.609Z"
   },
   {
    "duration": 383,
    "start_time": "2024-10-24T16:03:18.340Z"
   },
   {
    "duration": 8,
    "start_time": "2024-10-24T16:03:27.314Z"
   },
   {
    "duration": 362,
    "start_time": "2024-10-24T16:03:30.875Z"
   },
   {
    "duration": 396,
    "start_time": "2024-10-24T16:03:38.824Z"
   },
   {
    "duration": 475,
    "start_time": "2024-10-24T16:04:08.941Z"
   },
   {
    "duration": 336,
    "start_time": "2024-10-24T16:04:52.586Z"
   },
   {
    "duration": 353,
    "start_time": "2024-10-24T16:05:12.768Z"
   },
   {
    "duration": 360,
    "start_time": "2024-10-24T16:06:05.256Z"
   },
   {
    "duration": 426,
    "start_time": "2024-10-24T16:06:29.607Z"
   },
   {
    "duration": 6,
    "start_time": "2024-10-24T16:08:58.773Z"
   },
   {
    "duration": 344,
    "start_time": "2024-10-24T16:11:45.374Z"
   },
   {
    "duration": 359,
    "start_time": "2024-10-24T16:11:59.976Z"
   },
   {
    "duration": 353,
    "start_time": "2024-10-24T16:14:49.067Z"
   },
   {
    "duration": 397,
    "start_time": "2024-10-24T16:15:07.640Z"
   },
   {
    "duration": 338,
    "start_time": "2024-10-24T16:16:10.375Z"
   },
   {
    "duration": 414,
    "start_time": "2024-10-24T16:16:20.409Z"
   },
   {
    "duration": 332,
    "start_time": "2024-10-24T16:16:34.281Z"
   },
   {
    "duration": 376,
    "start_time": "2024-10-24T16:18:04.252Z"
   },
   {
    "duration": 418,
    "start_time": "2024-10-24T16:23:22.192Z"
   },
   {
    "duration": 35,
    "start_time": "2024-10-24T16:28:24.086Z"
   },
   {
    "duration": 131,
    "start_time": "2024-10-24T16:28:27.646Z"
   },
   {
    "duration": 69,
    "start_time": "2024-10-24T16:30:04.207Z"
   },
   {
    "duration": 545,
    "start_time": "2024-10-24T16:30:57.769Z"
   },
   {
    "duration": 22,
    "start_time": "2024-10-24T16:31:45.093Z"
   },
   {
    "duration": 404,
    "start_time": "2024-10-24T16:32:54.830Z"
   },
   {
    "duration": 38,
    "start_time": "2024-10-24T16:48:39.640Z"
   },
   {
    "duration": 38,
    "start_time": "2024-10-24T16:55:17.874Z"
   },
   {
    "duration": 37,
    "start_time": "2024-10-24T16:56:37.945Z"
   },
   {
    "duration": 19,
    "start_time": "2024-10-24T16:56:41.180Z"
   },
   {
    "duration": 185,
    "start_time": "2024-10-24T16:57:31.510Z"
   },
   {
    "duration": 24,
    "start_time": "2024-10-24T17:00:29.954Z"
   },
   {
    "duration": 38,
    "start_time": "2024-10-24T17:00:46.971Z"
   },
   {
    "duration": 22,
    "start_time": "2024-10-24T17:00:49.175Z"
   },
   {
    "duration": 184,
    "start_time": "2024-10-24T17:01:12.435Z"
   },
   {
    "duration": 23,
    "start_time": "2024-10-24T17:06:42.060Z"
   },
   {
    "duration": 39,
    "start_time": "2024-10-24T17:06:46.177Z"
   },
   {
    "duration": 190,
    "start_time": "2024-10-24T17:06:58.733Z"
   },
   {
    "duration": 1623,
    "start_time": "2024-10-24T17:07:17.956Z"
   },
   {
    "duration": 196,
    "start_time": "2024-10-24T17:07:27.285Z"
   },
   {
    "duration": 197,
    "start_time": "2024-10-24T17:08:54.097Z"
   },
   {
    "duration": 9398,
    "start_time": "2024-10-24T17:14:15.829Z"
   },
   {
    "duration": 131,
    "start_time": "2024-10-24T17:15:03.955Z"
   },
   {
    "duration": 190,
    "start_time": "2024-10-24T17:18:49.451Z"
   },
   {
    "duration": 9329,
    "start_time": "2024-10-24T17:18:55.937Z"
   },
   {
    "duration": 37,
    "start_time": "2024-10-24T17:24:25.776Z"
   },
   {
    "duration": 29,
    "start_time": "2024-10-24T17:26:08.990Z"
   },
   {
    "duration": 4043,
    "start_time": "2024-10-24T17:26:28.137Z"
   },
   {
    "duration": 213,
    "start_time": "2024-10-24T17:29:14.371Z"
   },
   {
    "duration": 191,
    "start_time": "2024-10-24T17:29:46.723Z"
   },
   {
    "duration": 6,
    "start_time": "2024-10-24T17:31:45.986Z"
   },
   {
    "duration": 212,
    "start_time": "2024-10-24T17:34:21.398Z"
   },
   {
    "duration": 815,
    "start_time": "2024-10-24T17:36:37.038Z"
   },
   {
    "duration": 37,
    "start_time": "2024-10-24T17:38:11.244Z"
   },
   {
    "duration": 202,
    "start_time": "2024-10-24T17:49:52.839Z"
   },
   {
    "duration": 43,
    "start_time": "2024-10-24T17:49:55.967Z"
   },
   {
    "duration": 202,
    "start_time": "2024-10-24T17:50:06.551Z"
   },
   {
    "duration": 192,
    "start_time": "2024-10-24T17:50:40.426Z"
   },
   {
    "duration": 202,
    "start_time": "2024-10-24T17:50:50.597Z"
   },
   {
    "duration": 279,
    "start_time": "2024-10-24T17:51:49.525Z"
   },
   {
    "duration": 249,
    "start_time": "2024-10-24T17:53:02.418Z"
   },
   {
    "duration": 198,
    "start_time": "2024-10-24T17:53:43.916Z"
   },
   {
    "duration": 42,
    "start_time": "2024-10-24T17:58:56.971Z"
   },
   {
    "duration": 195,
    "start_time": "2024-10-24T17:59:00.904Z"
   },
   {
    "duration": 199,
    "start_time": "2024-10-24T18:00:40.737Z"
   },
   {
    "duration": 199,
    "start_time": "2024-10-24T18:00:57.370Z"
   },
   {
    "duration": 30,
    "start_time": "2024-10-24T18:02:25.889Z"
   },
   {
    "duration": 9345,
    "start_time": "2024-10-24T18:02:28.819Z"
   },
   {
    "duration": 9316,
    "start_time": "2024-10-24T18:04:07.627Z"
   },
   {
    "duration": 3955,
    "start_time": "2024-10-24T18:08:40.582Z"
   },
   {
    "duration": 37263,
    "start_time": "2024-10-24T18:09:12.841Z"
   },
   {
    "duration": 58,
    "start_time": "2024-10-24T18:18:12.789Z"
   },
   {
    "duration": 201,
    "start_time": "2024-10-24T18:18:18.434Z"
   },
   {
    "duration": 11912,
    "start_time": "2024-10-24T18:18:44.878Z"
   },
   {
    "duration": 51,
    "start_time": "2024-10-24T18:20:13.635Z"
   },
   {
    "duration": 21,
    "start_time": "2024-10-24T18:21:48.581Z"
   },
   {
    "duration": 23,
    "start_time": "2024-10-24T18:23:33.161Z"
   },
   {
    "duration": 12090,
    "start_time": "2024-10-24T18:23:39.737Z"
   },
   {
    "duration": 223,
    "start_time": "2024-10-24T18:23:51.830Z"
   },
   {
    "duration": 192,
    "start_time": "2024-10-24T18:25:01.318Z"
   },
   {
    "duration": 11901,
    "start_time": "2024-10-24T18:25:23.273Z"
   },
   {
    "duration": 35,
    "start_time": "2024-10-24T18:25:35.176Z"
   },
   {
    "duration": 19,
    "start_time": "2024-10-24T18:26:24.440Z"
   },
   {
    "duration": 39,
    "start_time": "2024-10-24T18:26:40.263Z"
   },
   {
    "duration": 23,
    "start_time": "2024-10-24T18:26:52.150Z"
   },
   {
    "duration": 49,
    "start_time": "2024-10-24T18:28:24.943Z"
   },
   {
    "duration": 1855,
    "start_time": "2024-10-24T18:37:48.346Z"
   },
   {
    "duration": 263,
    "start_time": "2024-10-24T18:39:11.346Z"
   },
   {
    "duration": 11881,
    "start_time": "2024-10-24T18:42:10.644Z"
   },
   {
    "duration": 122,
    "start_time": "2024-10-24T18:42:26.583Z"
   },
   {
    "duration": 199,
    "start_time": "2024-10-24T18:44:16.153Z"
   },
   {
    "duration": 113,
    "start_time": "2024-10-24T18:44:18.530Z"
   },
   {
    "duration": 6,
    "start_time": "2024-10-24T18:50:26.708Z"
   },
   {
    "duration": 45,
    "start_time": "2024-10-24T18:53:54.008Z"
   },
   {
    "duration": 113,
    "start_time": "2024-10-24T18:56:45.652Z"
   },
   {
    "duration": 42,
    "start_time": "2024-10-24T18:57:31.455Z"
   },
   {
    "duration": 85,
    "start_time": "2024-10-24T18:58:00.543Z"
   },
   {
    "duration": 88,
    "start_time": "2024-10-24T19:00:37.496Z"
   },
   {
    "duration": 111,
    "start_time": "2024-10-24T19:01:51.164Z"
   },
   {
    "duration": 162,
    "start_time": "2024-10-24T19:07:13.749Z"
   },
   {
    "duration": 16,
    "start_time": "2024-10-24T19:07:18.984Z"
   },
   {
    "duration": 15,
    "start_time": "2024-10-24T19:07:24.727Z"
   },
   {
    "duration": 276,
    "start_time": "2024-10-24T19:07:28.172Z"
   },
   {
    "duration": 19,
    "start_time": "2024-10-24T19:07:53.543Z"
   },
   {
    "duration": 285,
    "start_time": "2024-10-24T19:07:57.339Z"
   },
   {
    "duration": 275,
    "start_time": "2024-10-24T19:09:29.348Z"
   },
   {
    "duration": 5,
    "start_time": "2024-10-24T19:09:34.519Z"
   },
   {
    "duration": 312,
    "start_time": "2024-10-24T19:09:37.214Z"
   },
   {
    "duration": 297,
    "start_time": "2024-10-24T19:09:55.124Z"
   },
   {
    "duration": 293,
    "start_time": "2024-10-24T19:10:04.419Z"
   },
   {
    "duration": 239,
    "start_time": "2024-10-24T19:10:11.099Z"
   },
   {
    "duration": 230,
    "start_time": "2024-10-24T19:12:00.555Z"
   },
   {
    "duration": 8,
    "start_time": "2024-10-24T19:16:32.241Z"
   },
   {
    "duration": 28,
    "start_time": "2024-10-24T19:16:44.891Z"
   },
   {
    "duration": 6,
    "start_time": "2024-10-24T19:23:47.674Z"
   },
   {
    "duration": 135,
    "start_time": "2024-10-24T19:24:21.602Z"
   },
   {
    "duration": 116,
    "start_time": "2024-10-24T19:25:59.366Z"
   },
   {
    "duration": 16,
    "start_time": "2024-10-24T19:27:14.686Z"
   },
   {
    "duration": 28,
    "start_time": "2024-10-24T19:27:19.265Z"
   },
   {
    "duration": 16,
    "start_time": "2024-10-24T19:27:22.464Z"
   },
   {
    "duration": 2943,
    "start_time": "2024-10-24T23:01:11.204Z"
   },
   {
    "duration": 27,
    "start_time": "2024-10-24T23:03:39.143Z"
   },
   {
    "duration": 3098,
    "start_time": "2024-10-24T23:03:42.462Z"
   },
   {
    "duration": 6,
    "start_time": "2024-10-24T23:05:26.977Z"
   },
   {
    "duration": 3131,
    "start_time": "2024-10-24T23:05:32.737Z"
   },
   {
    "duration": 3055,
    "start_time": "2024-10-24T23:08:23.599Z"
   },
   {
    "duration": 3035,
    "start_time": "2024-10-24T23:09:38.712Z"
   },
   {
    "duration": 3005,
    "start_time": "2024-10-24T23:10:26.441Z"
   },
   {
    "duration": 5,
    "start_time": "2024-10-24T23:11:58.009Z"
   },
   {
    "duration": 2987,
    "start_time": "2024-10-24T23:12:04.168Z"
   },
   {
    "duration": 3044,
    "start_time": "2024-10-24T23:16:50.890Z"
   },
   {
    "duration": 3373,
    "start_time": "2024-10-24T23:17:28.656Z"
   },
   {
    "duration": 3261,
    "start_time": "2024-10-24T23:18:04.147Z"
   },
   {
    "duration": 3350,
    "start_time": "2024-10-24T23:18:43.527Z"
   },
   {
    "duration": 3303,
    "start_time": "2024-10-24T23:20:37.063Z"
   },
   {
    "duration": 3240,
    "start_time": "2024-10-24T23:23:54.019Z"
   },
   {
    "duration": 2946,
    "start_time": "2024-10-24T23:24:18.700Z"
   },
   {
    "duration": 3315,
    "start_time": "2024-10-24T23:24:51.699Z"
   },
   {
    "duration": 3415,
    "start_time": "2024-10-24T23:25:45.600Z"
   },
   {
    "duration": 8914,
    "start_time": "2024-10-24T23:32:07.222Z"
   },
   {
    "duration": 25377,
    "start_time": "2024-10-24T23:33:38.440Z"
   },
   {
    "duration": 26,
    "start_time": "2024-10-24T23:39:44.320Z"
   },
   {
    "duration": 26275,
    "start_time": "2024-10-24T23:39:44.348Z"
   },
   {
    "duration": 265,
    "start_time": "2024-10-24T23:40:46.861Z"
   },
   {
    "duration": 94,
    "start_time": "2024-10-24T23:41:02.964Z"
   },
   {
    "duration": 36,
    "start_time": "2024-10-24T23:41:31.334Z"
   },
   {
    "duration": 175,
    "start_time": "2024-10-24T23:41:57.691Z"
   },
   {
    "duration": 24,
    "start_time": "2024-10-24T23:42:13.799Z"
   },
   {
    "duration": 118,
    "start_time": "2024-10-24T23:42:25.614Z"
   },
   {
    "duration": 172,
    "start_time": "2024-10-24T23:42:41.083Z"
   },
   {
    "duration": 206,
    "start_time": "2024-10-24T23:43:14.603Z"
   },
   {
    "duration": 25119,
    "start_time": "2024-10-24T23:55:38.097Z"
   },
   {
    "duration": 25,
    "start_time": "2024-10-24T23:56:05.762Z"
   },
   {
    "duration": 116,
    "start_time": "2024-10-24T23:56:23.052Z"
   },
   {
    "duration": 25101,
    "start_time": "2024-10-24T23:59:26.318Z"
   },
   {
    "duration": 300,
    "start_time": "2024-10-24T23:59:51.421Z"
   },
   {
    "duration": 27099,
    "start_time": "2024-10-25T00:00:09.817Z"
   },
   {
    "duration": 419,
    "start_time": "2024-10-25T00:00:40.494Z"
   },
   {
    "duration": 25662,
    "start_time": "2024-10-25T00:00:55.458Z"
   },
   {
    "duration": 387,
    "start_time": "2024-10-25T00:01:24.726Z"
   },
   {
    "duration": 25761,
    "start_time": "2024-10-25T00:01:48.354Z"
   },
   {
    "duration": 322,
    "start_time": "2024-10-25T00:02:18.310Z"
   },
   {
    "duration": 12332,
    "start_time": "2024-10-25T00:09:24.987Z"
   },
   {
    "duration": 116,
    "start_time": "2024-10-25T00:09:46.558Z"
   },
   {
    "duration": 5,
    "start_time": "2024-10-25T00:10:23.484Z"
   },
   {
    "duration": 2905,
    "start_time": "2024-10-25T08:13:50.179Z"
   },
   {
    "duration": 13,
    "start_time": "2024-10-25T08:13:53.520Z"
   },
   {
    "duration": 14,
    "start_time": "2024-10-25T08:14:02.100Z"
   },
   {
    "duration": 14,
    "start_time": "2024-10-25T08:14:17.181Z"
   },
   {
    "duration": 42,
    "start_time": "2024-10-25T08:17:50.326Z"
   },
   {
    "duration": 206,
    "start_time": "2024-10-25T08:17:50.370Z"
   },
   {
    "duration": 132,
    "start_time": "2024-10-25T08:17:50.578Z"
   },
   {
    "duration": 11924,
    "start_time": "2024-10-25T08:17:50.713Z"
   },
   {
    "duration": 125,
    "start_time": "2024-10-25T08:18:02.639Z"
   },
   {
    "duration": 5,
    "start_time": "2024-10-25T08:18:02.766Z"
   },
   {
    "duration": 106,
    "start_time": "2024-10-25T08:18:02.773Z"
   },
   {
    "duration": 25165,
    "start_time": "2024-10-25T08:18:02.880Z"
   },
   {
    "duration": 396,
    "start_time": "2024-10-25T08:18:28.047Z"
   },
   {
    "duration": 260,
    "start_time": "2024-10-25T08:18:28.447Z"
   },
   {
    "duration": 162,
    "start_time": "2024-10-25T16:34:05.540Z"
   },
   {
    "duration": 2766,
    "start_time": "2024-10-25T16:34:14.253Z"
   },
   {
    "duration": 22,
    "start_time": "2024-10-25T16:34:17.021Z"
   },
   {
    "duration": 244,
    "start_time": "2024-10-25T16:34:17.045Z"
   },
   {
    "duration": 0,
    "start_time": "2024-10-25T16:34:17.291Z"
   },
   {
    "duration": 0,
    "start_time": "2024-10-25T16:34:17.292Z"
   },
   {
    "duration": 0,
    "start_time": "2024-10-25T16:34:17.293Z"
   },
   {
    "duration": 0,
    "start_time": "2024-10-25T16:34:17.295Z"
   },
   {
    "duration": 0,
    "start_time": "2024-10-25T16:34:17.296Z"
   },
   {
    "duration": 0,
    "start_time": "2024-10-25T16:34:17.297Z"
   },
   {
    "duration": 0,
    "start_time": "2024-10-25T16:34:17.298Z"
   },
   {
    "duration": 0,
    "start_time": "2024-10-25T16:34:17.299Z"
   },
   {
    "duration": 0,
    "start_time": "2024-10-25T16:34:17.300Z"
   },
   {
    "duration": 0,
    "start_time": "2024-10-25T16:34:17.302Z"
   },
   {
    "duration": 17,
    "start_time": "2024-10-25T16:37:29.452Z"
   },
   {
    "duration": 946,
    "start_time": "2024-10-25T16:37:38.374Z"
   },
   {
    "duration": 23,
    "start_time": "2024-10-25T16:37:39.322Z"
   },
   {
    "duration": 307,
    "start_time": "2024-10-25T16:37:39.346Z"
   },
   {
    "duration": 0,
    "start_time": "2024-10-25T16:37:39.655Z"
   },
   {
    "duration": 0,
    "start_time": "2024-10-25T16:37:39.656Z"
   },
   {
    "duration": 0,
    "start_time": "2024-10-25T16:37:39.657Z"
   },
   {
    "duration": 0,
    "start_time": "2024-10-25T16:37:39.659Z"
   },
   {
    "duration": 0,
    "start_time": "2024-10-25T16:37:39.660Z"
   },
   {
    "duration": 0,
    "start_time": "2024-10-25T16:37:39.661Z"
   },
   {
    "duration": 0,
    "start_time": "2024-10-25T16:37:39.662Z"
   },
   {
    "duration": 0,
    "start_time": "2024-10-25T16:37:39.663Z"
   },
   {
    "duration": 0,
    "start_time": "2024-10-25T16:37:39.664Z"
   },
   {
    "duration": 0,
    "start_time": "2024-10-25T16:37:39.665Z"
   },
   {
    "duration": 17,
    "start_time": "2024-10-25T16:38:00.699Z"
   },
   {
    "duration": 908,
    "start_time": "2024-10-25T16:38:07.234Z"
   },
   {
    "duration": 19,
    "start_time": "2024-10-25T16:38:08.144Z"
   },
   {
    "duration": 17,
    "start_time": "2024-10-25T16:38:08.164Z"
   },
   {
    "duration": 215,
    "start_time": "2024-10-25T16:38:08.183Z"
   },
   {
    "duration": 191,
    "start_time": "2024-10-25T16:38:08.400Z"
   },
   {
    "duration": 12182,
    "start_time": "2024-10-25T16:38:08.593Z"
   },
   {
    "duration": 245,
    "start_time": "2024-10-25T16:38:20.777Z"
   },
   {
    "duration": 0,
    "start_time": "2024-10-25T16:38:21.024Z"
   },
   {
    "duration": 0,
    "start_time": "2024-10-25T16:38:21.025Z"
   },
   {
    "duration": 0,
    "start_time": "2024-10-25T16:38:21.027Z"
   },
   {
    "duration": 0,
    "start_time": "2024-10-25T16:38:21.028Z"
   },
   {
    "duration": 0,
    "start_time": "2024-10-25T16:38:21.043Z"
   },
   {
    "duration": 0,
    "start_time": "2024-10-25T16:38:21.044Z"
   },
   {
    "duration": 116,
    "start_time": "2024-10-25T16:38:52.129Z"
   },
   {
    "duration": 131,
    "start_time": "2024-10-25T16:39:04.465Z"
   },
   {
    "duration": 11,
    "start_time": "2024-10-25T16:42:32.418Z"
   },
   {
    "duration": 11,
    "start_time": "2024-10-25T16:44:46.117Z"
   },
   {
    "duration": 10,
    "start_time": "2024-10-25T16:44:54.897Z"
   },
   {
    "duration": 388,
    "start_time": "2024-10-25T16:51:23.624Z"
   },
   {
    "duration": 17,
    "start_time": "2024-10-25T16:51:40.527Z"
   },
   {
    "duration": 17,
    "start_time": "2024-10-25T16:51:41.653Z"
   },
   {
    "duration": 8,
    "start_time": "2024-10-25T16:51:43.202Z"
   },
   {
    "duration": 10,
    "start_time": "2024-10-25T16:51:44.576Z"
   },
   {
    "duration": 45,
    "start_time": "2024-10-25T16:51:45.973Z"
   },
   {
    "duration": 6,
    "start_time": "2024-10-25T16:56:09.079Z"
   },
   {
    "duration": 11,
    "start_time": "2024-10-25T16:59:06.878Z"
   },
   {
    "duration": 12,
    "start_time": "2024-10-25T16:59:24.939Z"
   },
   {
    "duration": 9,
    "start_time": "2024-10-25T16:59:35.912Z"
   },
   {
    "duration": 4,
    "start_time": "2024-10-25T16:59:39.041Z"
   },
   {
    "duration": 8,
    "start_time": "2024-10-25T16:59:41.770Z"
   },
   {
    "duration": 198,
    "start_time": "2024-10-25T16:59:45.300Z"
   },
   {
    "duration": 118,
    "start_time": "2024-10-25T16:59:50.577Z"
   },
   {
    "duration": 12166,
    "start_time": "2024-10-25T16:59:54.729Z"
   },
   {
    "duration": 122,
    "start_time": "2024-10-25T17:00:12.078Z"
   },
   {
    "duration": 14,
    "start_time": "2024-10-25T17:00:17.304Z"
   },
   {
    "duration": 5,
    "start_time": "2024-10-25T17:00:26.576Z"
   },
   {
    "duration": 16,
    "start_time": "2024-10-25T17:06:44.967Z"
   },
   {
    "duration": 35,
    "start_time": "2024-10-25T17:06:51.584Z"
   },
   {
    "duration": 25337,
    "start_time": "2024-10-25T17:06:55.022Z"
   },
   {
    "duration": 393,
    "start_time": "2024-10-25T17:07:20.361Z"
   },
   {
    "duration": 261,
    "start_time": "2024-10-25T17:07:20.756Z"
   },
   {
    "duration": 12,
    "start_time": "2024-10-25T17:08:55.161Z"
   },
   {
    "duration": 16,
    "start_time": "2024-10-25T17:44:36.620Z"
   },
   {
    "duration": 17,
    "start_time": "2024-10-25T17:44:37.771Z"
   },
   {
    "duration": 10,
    "start_time": "2024-10-25T17:44:39.114Z"
   },
   {
    "duration": 4,
    "start_time": "2024-10-25T17:44:39.969Z"
   },
   {
    "duration": 8,
    "start_time": "2024-10-25T17:44:42.024Z"
   },
   {
    "duration": 108,
    "start_time": "2024-10-25T17:44:55.018Z"
   },
   {
    "duration": 1608,
    "start_time": "2024-10-25T17:45:12.187Z"
   },
   {
    "duration": 121,
    "start_time": "2024-10-25T17:45:19.949Z"
   },
   {
    "duration": 37480,
    "start_time": "2024-10-25T17:45:22.730Z"
   },
   {
    "duration": 117,
    "start_time": "2024-10-25T17:46:17.625Z"
   },
   {
    "duration": 6,
    "start_time": "2024-10-25T17:46:24.574Z"
   },
   {
    "duration": 10,
    "start_time": "2024-10-25T18:22:46.020Z"
   },
   {
    "duration": 9,
    "start_time": "2024-10-25T18:22:47.612Z"
   },
   {
    "duration": 16,
    "start_time": "2024-10-25T18:22:48.315Z"
   },
   {
    "duration": 14,
    "start_time": "2024-10-25T18:23:06.797Z"
   },
   {
    "duration": 16,
    "start_time": "2024-10-25T18:24:13.535Z"
   },
   {
    "duration": 17,
    "start_time": "2024-10-25T18:24:15.464Z"
   },
   {
    "duration": 9,
    "start_time": "2024-10-25T18:24:18.187Z"
   },
   {
    "duration": 9,
    "start_time": "2024-10-25T18:24:21.563Z"
   },
   {
    "duration": 15,
    "start_time": "2024-10-25T18:24:45.736Z"
   },
   {
    "duration": 10,
    "start_time": "2024-10-25T18:31:07.493Z"
   },
   {
    "duration": 9,
    "start_time": "2024-10-25T18:31:08.529Z"
   },
   {
    "duration": 6,
    "start_time": "2024-10-25T18:31:09.195Z"
   },
   {
    "duration": 7,
    "start_time": "2024-10-25T18:31:18.157Z"
   },
   {
    "duration": 8,
    "start_time": "2024-10-25T18:31:21.224Z"
   },
   {
    "duration": 19,
    "start_time": "2024-10-25T18:31:25.144Z"
   },
   {
    "duration": 12,
    "start_time": "2024-10-25T18:31:27.062Z"
   },
   {
    "duration": 1658,
    "start_time": "2024-10-25T18:31:32.208Z"
   },
   {
    "duration": 137,
    "start_time": "2024-10-25T18:31:42.344Z"
   },
   {
    "duration": 37777,
    "start_time": "2024-10-25T18:31:45.881Z"
   },
   {
    "duration": 142,
    "start_time": "2024-10-25T18:32:32.544Z"
   },
   {
    "duration": 5,
    "start_time": "2024-10-25T18:32:36.333Z"
   },
   {
    "duration": 23330,
    "start_time": "2024-10-25T18:32:39.320Z"
   },
   {
    "duration": 413,
    "start_time": "2024-10-25T18:33:02.653Z"
   },
   {
    "duration": 211,
    "start_time": "2024-10-25T18:33:16.103Z"
   },
   {
    "duration": 9,
    "start_time": "2024-10-25T18:33:21.491Z"
   },
   {
    "duration": 4826,
    "start_time": "2024-10-25T18:45:59.651Z"
   },
   {
    "duration": 4870,
    "start_time": "2024-10-25T18:48:52.364Z"
   },
   {
    "duration": 5081,
    "start_time": "2024-10-25T18:49:31.530Z"
   },
   {
    "duration": 14633,
    "start_time": "2024-10-25T18:53:26.661Z"
   },
   {
    "duration": 14617,
    "start_time": "2024-10-25T18:54:33.758Z"
   },
   {
    "duration": 7,
    "start_time": "2024-10-25T18:55:49.648Z"
   },
   {
    "duration": 5,
    "start_time": "2024-10-25T18:56:08.076Z"
   },
   {
    "duration": 14649,
    "start_time": "2024-10-25T18:56:14.561Z"
   },
   {
    "duration": 14654,
    "start_time": "2024-10-25T18:56:42.211Z"
   },
   {
    "duration": 15165,
    "start_time": "2024-10-25T18:57:00.427Z"
   },
   {
    "duration": 14628,
    "start_time": "2024-10-25T18:57:35.803Z"
   },
   {
    "duration": 14651,
    "start_time": "2024-10-25T19:02:25.785Z"
   },
   {
    "duration": 19,
    "start_time": "2024-10-25T19:03:03.392Z"
   },
   {
    "duration": 15378,
    "start_time": "2024-10-25T19:03:08.368Z"
   },
   {
    "duration": 82402,
    "start_time": "2024-10-25T19:04:52.541Z"
   },
   {
    "duration": 14681,
    "start_time": "2024-10-25T19:07:08.344Z"
   },
   {
    "duration": 52,
    "start_time": "2024-10-25T19:09:18.964Z"
   },
   {
    "duration": 14630,
    "start_time": "2024-10-25T19:09:27.227Z"
   },
   {
    "duration": 602,
    "start_time": "2024-10-25T19:15:45.344Z"
   },
   {
    "duration": 309,
    "start_time": "2024-10-25T19:16:08.890Z"
   },
   {
    "duration": 423,
    "start_time": "2024-10-25T19:16:38.323Z"
   },
   {
    "duration": 1211,
    "start_time": "2024-10-25T19:17:26.649Z"
   },
   {
    "duration": 1091,
    "start_time": "2024-10-25T19:18:45.607Z"
   },
   {
    "duration": 423,
    "start_time": "2024-10-25T19:19:21.963Z"
   },
   {
    "duration": 1098,
    "start_time": "2024-10-25T19:19:38.512Z"
   },
   {
    "duration": 1300,
    "start_time": "2024-10-25T19:20:10.056Z"
   },
   {
    "duration": 1313,
    "start_time": "2024-10-25T19:20:57.701Z"
   },
   {
    "duration": 418,
    "start_time": "2024-10-25T19:26:46.088Z"
   },
   {
    "duration": 846,
    "start_time": "2024-10-25T19:27:00.297Z"
   },
   {
    "duration": 708,
    "start_time": "2024-10-25T19:29:08.842Z"
   },
   {
    "duration": 4,
    "start_time": "2024-10-25T19:30:02.242Z"
   },
   {
    "duration": 157,
    "start_time": "2024-10-25T19:30:07.302Z"
   },
   {
    "duration": 4,
    "start_time": "2024-10-25T19:48:05.777Z"
   },
   {
    "duration": 19,
    "start_time": "2024-10-25T19:51:59.883Z"
   },
   {
    "duration": 4,
    "start_time": "2024-10-25T19:59:23.867Z"
   },
   {
    "duration": 27,
    "start_time": "2024-10-25T20:03:22.078Z"
   },
   {
    "duration": 5,
    "start_time": "2024-10-25T20:04:17.305Z"
   },
   {
    "duration": 52,
    "start_time": "2024-10-25T20:04:23.664Z"
   },
   {
    "duration": 14595,
    "start_time": "2024-10-25T20:04:46.399Z"
   },
   {
    "duration": 14663,
    "start_time": "2024-10-25T20:05:38.633Z"
   },
   {
    "duration": 4,
    "start_time": "2024-10-25T20:07:17.835Z"
   },
   {
    "duration": 14606,
    "start_time": "2024-10-25T20:07:48.440Z"
   },
   {
    "duration": 14596,
    "start_time": "2024-10-25T20:08:35.157Z"
   },
   {
    "duration": 988,
    "start_time": "2024-10-25T20:10:00.127Z"
   },
   {
    "duration": 19,
    "start_time": "2024-10-25T20:10:01.117Z"
   },
   {
    "duration": 11,
    "start_time": "2024-10-25T20:10:01.142Z"
   },
   {
    "duration": 9,
    "start_time": "2024-10-25T20:10:01.156Z"
   },
   {
    "duration": 5,
    "start_time": "2024-10-25T20:10:01.166Z"
   },
   {
    "duration": 6,
    "start_time": "2024-10-25T20:10:01.173Z"
   },
   {
    "duration": 4,
    "start_time": "2024-10-25T20:10:01.181Z"
   },
   {
    "duration": 5,
    "start_time": "2024-10-25T20:10:01.187Z"
   },
   {
    "duration": 57,
    "start_time": "2024-10-25T20:10:01.194Z"
   },
   {
    "duration": 10,
    "start_time": "2024-10-25T20:10:01.255Z"
   },
   {
    "duration": 627,
    "start_time": "2024-10-25T20:10:01.266Z"
   },
   {
    "duration": 179,
    "start_time": "2024-10-25T20:10:01.895Z"
   },
   {
    "duration": 1971,
    "start_time": "2024-10-25T20:10:02.076Z"
   },
   {
    "duration": 0,
    "start_time": "2024-10-25T20:10:04.049Z"
   },
   {
    "duration": 0,
    "start_time": "2024-10-25T20:10:04.050Z"
   },
   {
    "duration": 0,
    "start_time": "2024-10-25T20:10:04.051Z"
   },
   {
    "duration": 0,
    "start_time": "2024-10-25T20:10:04.052Z"
   },
   {
    "duration": 0,
    "start_time": "2024-10-25T20:10:04.053Z"
   },
   {
    "duration": 0,
    "start_time": "2024-10-25T20:10:04.054Z"
   },
   {
    "duration": 0,
    "start_time": "2024-10-25T20:10:04.055Z"
   },
   {
    "duration": 0,
    "start_time": "2024-10-25T20:10:04.056Z"
   },
   {
    "duration": 0,
    "start_time": "2024-10-25T20:10:04.057Z"
   },
   {
    "duration": 1719,
    "start_time": "2024-10-25T20:10:23.704Z"
   },
   {
    "duration": 1737,
    "start_time": "2024-10-25T20:10:37.782Z"
   },
   {
    "duration": 14553,
    "start_time": "2024-10-25T20:10:43.350Z"
   },
   {
    "duration": 114,
    "start_time": "2024-10-25T20:14:37.311Z"
   },
   {
    "duration": 306,
    "start_time": "2024-10-25T20:16:45.644Z"
   },
   {
    "duration": 235,
    "start_time": "2024-10-25T20:17:03.444Z"
   },
   {
    "duration": 265,
    "start_time": "2024-10-25T20:17:25.462Z"
   },
   {
    "duration": 12012,
    "start_time": "2024-10-25T20:23:35.976Z"
   },
   {
    "duration": 37444,
    "start_time": "2024-10-25T20:26:20.163Z"
   },
   {
    "duration": 12286,
    "start_time": "2024-10-25T20:27:10.382Z"
   },
   {
    "duration": 12045,
    "start_time": "2024-10-25T20:27:35.627Z"
   },
   {
    "duration": 132,
    "start_time": "2024-10-25T20:30:17.567Z"
   },
   {
    "duration": 248,
    "start_time": "2024-10-25T20:30:34.709Z"
   },
   {
    "duration": 4,
    "start_time": "2024-10-25T20:31:08.477Z"
   },
   {
    "duration": 10,
    "start_time": "2024-10-25T20:32:31.078Z"
   },
   {
    "duration": 235,
    "start_time": "2024-10-25T20:59:31.773Z"
   },
   {
    "duration": 161,
    "start_time": "2024-10-25T21:01:51.691Z"
   },
   {
    "duration": 19,
    "start_time": "2024-10-25T21:11:57.562Z"
   },
   {
    "duration": 553,
    "start_time": "2024-10-25T21:12:03.504Z"
   },
   {
    "duration": 157,
    "start_time": "2024-10-25T21:12:06.342Z"
   },
   {
    "duration": 1796,
    "start_time": "2024-10-25T21:12:09.612Z"
   },
   {
    "duration": 52,
    "start_time": "2024-10-25T21:12:26.850Z"
   },
   {
    "duration": 898,
    "start_time": "2024-10-25T21:13:21.433Z"
   },
   {
    "duration": 25,
    "start_time": "2024-10-25T21:13:22.333Z"
   },
   {
    "duration": 11,
    "start_time": "2024-10-25T21:13:22.359Z"
   },
   {
    "duration": 9,
    "start_time": "2024-10-25T21:13:22.372Z"
   },
   {
    "duration": 6,
    "start_time": "2024-10-25T21:13:22.382Z"
   },
   {
    "duration": 6,
    "start_time": "2024-10-25T21:13:22.389Z"
   },
   {
    "duration": 4,
    "start_time": "2024-10-25T21:13:22.397Z"
   },
   {
    "duration": 5,
    "start_time": "2024-10-25T21:13:22.403Z"
   },
   {
    "duration": 53,
    "start_time": "2024-10-25T21:13:22.409Z"
   },
   {
    "duration": 19,
    "start_time": "2024-10-25T21:13:22.465Z"
   },
   {
    "duration": 652,
    "start_time": "2024-10-25T21:13:22.486Z"
   },
   {
    "duration": 176,
    "start_time": "2024-10-25T21:13:23.139Z"
   },
   {
    "duration": 1729,
    "start_time": "2024-10-25T21:13:23.317Z"
   },
   {
    "duration": 308,
    "start_time": "2024-10-25T21:13:25.048Z"
   },
   {
    "duration": 0,
    "start_time": "2024-10-25T21:13:25.358Z"
   },
   {
    "duration": 0,
    "start_time": "2024-10-25T21:13:25.359Z"
   },
   {
    "duration": 0,
    "start_time": "2024-10-25T21:13:25.360Z"
   },
   {
    "duration": 0,
    "start_time": "2024-10-25T21:13:25.362Z"
   },
   {
    "duration": 0,
    "start_time": "2024-10-25T21:13:25.363Z"
   },
   {
    "duration": 0,
    "start_time": "2024-10-25T21:13:25.363Z"
   },
   {
    "duration": 0,
    "start_time": "2024-10-25T21:13:25.365Z"
   },
   {
    "duration": 0,
    "start_time": "2024-10-25T21:13:25.366Z"
   },
   {
    "duration": 0,
    "start_time": "2024-10-25T21:13:25.367Z"
   },
   {
    "duration": 279,
    "start_time": "2024-10-25T21:16:47.450Z"
   },
   {
    "duration": 30,
    "start_time": "2024-10-25T21:17:05.275Z"
   },
   {
    "duration": 21,
    "start_time": "2024-10-25T21:17:10.446Z"
   },
   {
    "duration": 27923,
    "start_time": "2024-10-25T21:17:17.555Z"
   },
   {
    "duration": 234,
    "start_time": "2024-10-25T21:18:09.103Z"
   },
   {
    "duration": 12053,
    "start_time": "2024-10-25T21:18:37.026Z"
   },
   {
    "duration": 72973,
    "start_time": "2024-10-25T21:21:04.491Z"
   },
   {
    "duration": 244,
    "start_time": "2024-10-25T21:22:29.922Z"
   },
   {
    "duration": 9,
    "start_time": "2024-10-25T21:22:44.538Z"
   },
   {
    "duration": 17,
    "start_time": "2024-10-25T21:22:53.270Z"
   },
   {
    "duration": 67488,
    "start_time": "2024-10-25T21:23:04.557Z"
   },
   {
    "duration": 66916,
    "start_time": "2024-10-25T21:24:46.512Z"
   },
   {
    "duration": 315,
    "start_time": "2024-10-25T21:26:28.482Z"
   },
   {
    "duration": 317,
    "start_time": "2024-10-25T21:27:00.638Z"
   },
   {
    "duration": 69531,
    "start_time": "2024-10-25T21:28:12.027Z"
   },
   {
    "duration": 69354,
    "start_time": "2024-10-25T21:29:41.835Z"
   },
   {
    "duration": 63560,
    "start_time": "2024-10-25T21:31:41.208Z"
   },
   {
    "duration": 0,
    "start_time": "2024-10-25T21:32:44.769Z"
   },
   {
    "duration": 67016,
    "start_time": "2024-10-25T21:33:57.598Z"
   },
   {
    "duration": 20,
    "start_time": "2024-10-25T21:35:39.670Z"
   },
   {
    "duration": 17,
    "start_time": "2024-10-25T21:35:53.998Z"
   },
   {
    "duration": 239,
    "start_time": "2024-10-25T21:36:02.882Z"
   },
   {
    "duration": 9,
    "start_time": "2024-10-25T21:36:13.070Z"
   },
   {
    "duration": 978,
    "start_time": "2024-10-26T02:58:51.832Z"
   },
   {
    "duration": 19,
    "start_time": "2024-10-26T02:58:52.813Z"
   },
   {
    "duration": 10,
    "start_time": "2024-10-26T02:58:52.833Z"
   },
   {
    "duration": 8,
    "start_time": "2024-10-26T02:58:52.845Z"
   },
   {
    "duration": 6,
    "start_time": "2024-10-26T02:58:52.854Z"
   },
   {
    "duration": 8,
    "start_time": "2024-10-26T02:58:52.861Z"
   },
   {
    "duration": 4,
    "start_time": "2024-10-26T02:58:52.870Z"
   },
   {
    "duration": 4,
    "start_time": "2024-10-26T02:58:52.876Z"
   },
   {
    "duration": 19,
    "start_time": "2024-10-26T02:58:52.882Z"
   },
   {
    "duration": 52,
    "start_time": "2024-10-26T02:58:52.904Z"
   },
   {
    "duration": 9,
    "start_time": "2024-10-26T02:58:52.958Z"
   },
   {
    "duration": 284,
    "start_time": "2024-10-26T02:59:10.613Z"
   },
   {
    "duration": 4,
    "start_time": "2024-10-26T02:59:18.720Z"
   },
   {
    "duration": 17,
    "start_time": "2024-10-26T03:00:22.217Z"
   },
   {
    "duration": 16,
    "start_time": "2024-10-26T03:00:22.236Z"
   },
   {
    "duration": 8,
    "start_time": "2024-10-26T03:00:22.254Z"
   },
   {
    "duration": 8,
    "start_time": "2024-10-26T03:00:22.264Z"
   },
   {
    "duration": 4,
    "start_time": "2024-10-26T03:00:22.274Z"
   },
   {
    "duration": 5,
    "start_time": "2024-10-26T03:00:22.280Z"
   },
   {
    "duration": 4,
    "start_time": "2024-10-26T03:00:22.286Z"
   },
   {
    "duration": 17,
    "start_time": "2024-10-26T03:00:22.292Z"
   },
   {
    "duration": 11,
    "start_time": "2024-10-26T03:00:32.394Z"
   },
   {
    "duration": 19,
    "start_time": "2024-10-26T03:00:41.536Z"
   },
   {
    "duration": 15,
    "start_time": "2024-10-26T03:01:09.457Z"
   },
   {
    "duration": 14,
    "start_time": "2024-10-26T03:01:32.508Z"
   },
   {
    "duration": 17,
    "start_time": "2024-10-26T03:01:35.197Z"
   },
   {
    "duration": 4,
    "start_time": "2024-10-26T03:01:46.628Z"
   },
   {
    "duration": 11,
    "start_time": "2024-10-26T03:01:50.730Z"
   },
   {
    "duration": 11,
    "start_time": "2024-10-26T03:01:57.780Z"
   },
   {
    "duration": 5,
    "start_time": "2024-10-26T03:02:38.311Z"
   },
   {
    "duration": 22,
    "start_time": "2024-10-26T03:02:53.060Z"
   },
   {
    "duration": 21,
    "start_time": "2024-10-26T03:03:13.472Z"
   },
   {
    "duration": 899,
    "start_time": "2024-10-26T03:06:59.005Z"
   },
   {
    "duration": 20,
    "start_time": "2024-10-26T03:06:59.906Z"
   },
   {
    "duration": 10,
    "start_time": "2024-10-26T03:07:00.247Z"
   },
   {
    "duration": 9,
    "start_time": "2024-10-26T03:07:01.722Z"
   },
   {
    "duration": 5,
    "start_time": "2024-10-26T03:07:13.864Z"
   },
   {
    "duration": 7,
    "start_time": "2024-10-26T03:07:14.274Z"
   },
   {
    "duration": 278,
    "start_time": "2024-10-26T03:09:32.404Z"
   },
   {
    "duration": 14,
    "start_time": "2024-10-26T03:09:39.596Z"
   },
   {
    "duration": 14,
    "start_time": "2024-10-26T03:09:46.911Z"
   },
   {
    "duration": 7,
    "start_time": "2024-10-26T03:10:39.962Z"
   },
   {
    "duration": 9,
    "start_time": "2024-10-26T03:11:16.791Z"
   },
   {
    "duration": 5,
    "start_time": "2024-10-26T03:11:26.179Z"
   },
   {
    "duration": 4,
    "start_time": "2024-10-26T03:12:24.530Z"
   },
   {
    "duration": 14,
    "start_time": "2024-10-26T03:12:47.648Z"
   },
   {
    "duration": 4,
    "start_time": "2024-10-26T03:13:10.975Z"
   },
   {
    "duration": 8,
    "start_time": "2024-10-26T03:13:34.461Z"
   },
   {
    "duration": 8,
    "start_time": "2024-10-26T03:13:45.503Z"
   },
   {
    "duration": 15,
    "start_time": "2024-10-26T03:14:06.844Z"
   },
   {
    "duration": 8,
    "start_time": "2024-10-26T03:14:11.669Z"
   },
   {
    "duration": 4,
    "start_time": "2024-10-26T03:14:19.725Z"
   },
   {
    "duration": 4,
    "start_time": "2024-10-26T03:17:00.861Z"
   },
   {
    "duration": 5,
    "start_time": "2024-10-26T03:17:17.521Z"
   },
   {
    "duration": 3,
    "start_time": "2024-10-26T03:17:24.822Z"
   },
   {
    "duration": 7,
    "start_time": "2024-10-26T03:17:28.864Z"
   },
   {
    "duration": 162,
    "start_time": "2024-10-26T05:00:26.669Z"
   },
   {
    "duration": 1140,
    "start_time": "2024-10-26T05:00:30.542Z"
   },
   {
    "duration": 19,
    "start_time": "2024-10-26T05:00:31.684Z"
   },
   {
    "duration": 9,
    "start_time": "2024-10-26T05:00:31.705Z"
   },
   {
    "duration": 9,
    "start_time": "2024-10-26T05:00:31.716Z"
   },
   {
    "duration": 6,
    "start_time": "2024-10-26T05:00:31.726Z"
   },
   {
    "duration": 7,
    "start_time": "2024-10-26T05:00:31.734Z"
   },
   {
    "duration": 4,
    "start_time": "2024-10-26T05:00:31.742Z"
   },
   {
    "duration": 3,
    "start_time": "2024-10-26T05:00:31.748Z"
   },
   {
    "duration": 4,
    "start_time": "2024-10-26T05:00:41.493Z"
   },
   {
    "duration": 5,
    "start_time": "2024-10-26T05:01:16.407Z"
   },
   {
    "duration": 4,
    "start_time": "2024-10-26T05:01:31.127Z"
   },
   {
    "duration": 6,
    "start_time": "2024-10-26T05:01:31.764Z"
   },
   {
    "duration": 20,
    "start_time": "2024-10-26T05:01:31.913Z"
   },
   {
    "duration": 20,
    "start_time": "2024-10-26T05:01:32.047Z"
   },
   {
    "duration": 647,
    "start_time": "2024-10-26T05:01:33.711Z"
   },
   {
    "duration": 198,
    "start_time": "2024-10-26T05:01:34.362Z"
   },
   {
    "duration": 1828,
    "start_time": "2024-10-26T05:01:34.562Z"
   },
   {
    "duration": 27717,
    "start_time": "2024-10-26T05:01:36.393Z"
   },
   {
    "duration": 243,
    "start_time": "2024-10-26T05:02:04.112Z"
   },
   {
    "duration": 12037,
    "start_time": "2024-10-26T05:02:04.358Z"
   },
   {
    "duration": 72898,
    "start_time": "2024-10-26T05:02:16.397Z"
   },
   {
    "duration": 121,
    "start_time": "2024-10-26T05:03:29.298Z"
   },
   {
    "duration": 23,
    "start_time": "2024-10-26T05:03:43.956Z"
   },
   {
    "duration": 17,
    "start_time": "2024-10-26T05:04:39.078Z"
   },
   {
    "duration": 17,
    "start_time": "2024-10-26T05:04:55.303Z"
   },
   {
    "duration": 17,
    "start_time": "2024-10-26T05:04:55.323Z"
   },
   {
    "duration": 11,
    "start_time": "2024-10-26T05:04:55.342Z"
   },
   {
    "duration": 11,
    "start_time": "2024-10-26T05:04:55.355Z"
   },
   {
    "duration": 7,
    "start_time": "2024-10-26T05:04:55.368Z"
   },
   {
    "duration": 33,
    "start_time": "2024-10-26T05:04:55.376Z"
   },
   {
    "duration": 6,
    "start_time": "2024-10-26T05:04:55.410Z"
   },
   {
    "duration": 670,
    "start_time": "2024-10-26T05:04:55.418Z"
   },
   {
    "duration": 0,
    "start_time": "2024-10-26T05:04:56.090Z"
   },
   {
    "duration": 71,
    "start_time": "2024-10-26T05:05:10.508Z"
   },
   {
    "duration": 6,
    "start_time": "2024-10-26T05:06:13.169Z"
   },
   {
    "duration": 7,
    "start_time": "2024-10-26T05:06:20.744Z"
   },
   {
    "duration": 939,
    "start_time": "2024-10-26T05:06:51.972Z"
   },
   {
    "duration": 25,
    "start_time": "2024-10-26T05:06:53.507Z"
   },
   {
    "duration": 12,
    "start_time": "2024-10-26T05:06:53.914Z"
   },
   {
    "duration": 10,
    "start_time": "2024-10-26T05:06:54.370Z"
   },
   {
    "duration": 6,
    "start_time": "2024-10-26T05:06:54.787Z"
   },
   {
    "duration": 9,
    "start_time": "2024-10-26T05:06:55.351Z"
   },
   {
    "duration": 6,
    "start_time": "2024-10-26T05:06:56.397Z"
   },
   {
    "duration": 6,
    "start_time": "2024-10-26T05:08:05.940Z"
   },
   {
    "duration": 5,
    "start_time": "2024-10-26T05:08:19.140Z"
   },
   {
    "duration": 6,
    "start_time": "2024-10-26T05:09:20.392Z"
   },
   {
    "duration": 6,
    "start_time": "2024-10-26T05:09:49.523Z"
   },
   {
    "duration": 164,
    "start_time": "2024-10-26T14:13:19.575Z"
   },
   {
    "duration": 2983,
    "start_time": "2024-10-26T14:13:35.226Z"
   },
   {
    "duration": 20,
    "start_time": "2024-10-26T14:13:38.212Z"
   },
   {
    "duration": 14,
    "start_time": "2024-10-26T14:13:40.333Z"
   },
   {
    "duration": 86,
    "start_time": "2024-10-26T14:16:45.253Z"
   },
   {
    "duration": 10,
    "start_time": "2024-10-26T14:16:52.565Z"
   },
   {
    "duration": 7,
    "start_time": "2024-10-26T14:16:53.785Z"
   },
   {
    "duration": 6,
    "start_time": "2024-10-26T14:18:14.810Z"
   },
   {
    "duration": 1002,
    "start_time": "2024-10-26T14:18:39.426Z"
   },
   {
    "duration": 19,
    "start_time": "2024-10-26T14:18:40.430Z"
   },
   {
    "duration": 10,
    "start_time": "2024-10-26T14:18:40.451Z"
   },
   {
    "duration": 8,
    "start_time": "2024-10-26T14:18:40.463Z"
   },
   {
    "duration": 6,
    "start_time": "2024-10-26T14:18:40.473Z"
   },
   {
    "duration": 28,
    "start_time": "2024-10-26T14:18:40.481Z"
   },
   {
    "duration": 5,
    "start_time": "2024-10-26T14:18:40.511Z"
   },
   {
    "duration": 441,
    "start_time": "2024-10-26T14:18:40.518Z"
   },
   {
    "duration": 0,
    "start_time": "2024-10-26T14:18:40.961Z"
   },
   {
    "duration": 0,
    "start_time": "2024-10-26T14:18:40.962Z"
   },
   {
    "duration": 0,
    "start_time": "2024-10-26T14:18:40.963Z"
   },
   {
    "duration": 0,
    "start_time": "2024-10-26T14:18:40.964Z"
   },
   {
    "duration": 0,
    "start_time": "2024-10-26T14:18:40.967Z"
   },
   {
    "duration": 0,
    "start_time": "2024-10-26T14:18:40.969Z"
   },
   {
    "duration": 0,
    "start_time": "2024-10-26T14:18:40.970Z"
   },
   {
    "duration": 0,
    "start_time": "2024-10-26T14:18:40.971Z"
   },
   {
    "duration": 0,
    "start_time": "2024-10-26T14:18:40.972Z"
   },
   {
    "duration": 0,
    "start_time": "2024-10-26T14:18:40.973Z"
   },
   {
    "duration": 0,
    "start_time": "2024-10-26T14:18:40.975Z"
   },
   {
    "duration": 0,
    "start_time": "2024-10-26T14:18:40.975Z"
   },
   {
    "duration": 0,
    "start_time": "2024-10-26T14:18:40.977Z"
   },
   {
    "duration": 0,
    "start_time": "2024-10-26T14:18:40.978Z"
   },
   {
    "duration": 0,
    "start_time": "2024-10-26T14:18:40.980Z"
   },
   {
    "duration": 0,
    "start_time": "2024-10-26T14:18:40.981Z"
   },
   {
    "duration": 0,
    "start_time": "2024-10-26T14:18:40.982Z"
   },
   {
    "duration": 248,
    "start_time": "2024-10-26T14:22:01.183Z"
   },
   {
    "duration": 14,
    "start_time": "2024-10-26T14:22:12.047Z"
   },
   {
    "duration": 15,
    "start_time": "2024-10-26T14:23:32.847Z"
   },
   {
    "duration": 14,
    "start_time": "2024-10-26T14:23:56.076Z"
   },
   {
    "duration": 11,
    "start_time": "2024-10-26T14:25:22.224Z"
   },
   {
    "duration": 13,
    "start_time": "2024-10-26T14:25:37.241Z"
   },
   {
    "duration": 15,
    "start_time": "2024-10-26T14:26:00.789Z"
   },
   {
    "duration": 15,
    "start_time": "2024-10-26T14:26:13.680Z"
   },
   {
    "duration": 16,
    "start_time": "2024-10-26T14:28:33.695Z"
   },
   {
    "duration": 947,
    "start_time": "2024-10-26T14:28:49.140Z"
   },
   {
    "duration": 23,
    "start_time": "2024-10-26T14:28:50.089Z"
   },
   {
    "duration": 14,
    "start_time": "2024-10-26T14:28:50.114Z"
   },
   {
    "duration": 8,
    "start_time": "2024-10-26T14:28:50.130Z"
   },
   {
    "duration": 7,
    "start_time": "2024-10-26T14:28:50.140Z"
   },
   {
    "duration": 5,
    "start_time": "2024-10-26T14:28:50.148Z"
   },
   {
    "duration": 5,
    "start_time": "2024-10-26T14:28:50.155Z"
   },
   {
    "duration": 464,
    "start_time": "2024-10-26T14:28:50.162Z"
   },
   {
    "duration": 0,
    "start_time": "2024-10-26T14:28:50.628Z"
   },
   {
    "duration": 0,
    "start_time": "2024-10-26T14:28:50.629Z"
   },
   {
    "duration": 0,
    "start_time": "2024-10-26T14:28:50.630Z"
   },
   {
    "duration": 0,
    "start_time": "2024-10-26T14:28:50.631Z"
   },
   {
    "duration": 0,
    "start_time": "2024-10-26T14:28:50.632Z"
   },
   {
    "duration": 0,
    "start_time": "2024-10-26T14:28:50.633Z"
   },
   {
    "duration": 0,
    "start_time": "2024-10-26T14:28:50.634Z"
   },
   {
    "duration": 0,
    "start_time": "2024-10-26T14:28:50.635Z"
   },
   {
    "duration": 0,
    "start_time": "2024-10-26T14:28:50.637Z"
   },
   {
    "duration": 0,
    "start_time": "2024-10-26T14:28:50.638Z"
   },
   {
    "duration": 0,
    "start_time": "2024-10-26T14:28:50.640Z"
   },
   {
    "duration": 1,
    "start_time": "2024-10-26T14:28:50.641Z"
   },
   {
    "duration": 0,
    "start_time": "2024-10-26T14:28:50.643Z"
   },
   {
    "duration": 0,
    "start_time": "2024-10-26T14:28:50.645Z"
   },
   {
    "duration": 0,
    "start_time": "2024-10-26T14:28:50.646Z"
   },
   {
    "duration": 0,
    "start_time": "2024-10-26T14:28:50.648Z"
   },
   {
    "duration": 0,
    "start_time": "2024-10-26T14:28:50.649Z"
   },
   {
    "duration": 2,
    "start_time": "2024-10-26T14:30:43.307Z"
   },
   {
    "duration": 21,
    "start_time": "2024-10-26T14:30:46.383Z"
   },
   {
    "duration": 2,
    "start_time": "2024-10-26T14:30:52.843Z"
   },
   {
    "duration": 7,
    "start_time": "2024-10-26T14:31:21.646Z"
   },
   {
    "duration": 144,
    "start_time": "2024-10-26T14:31:37.835Z"
   },
   {
    "duration": 4,
    "start_time": "2024-10-26T14:32:08.352Z"
   },
   {
    "duration": 15,
    "start_time": "2024-10-26T14:32:12.550Z"
   },
   {
    "duration": 18,
    "start_time": "2024-10-26T14:34:15.609Z"
   },
   {
    "duration": 16,
    "start_time": "2024-10-26T14:39:07.623Z"
   },
   {
    "duration": 16,
    "start_time": "2024-10-26T14:39:26.802Z"
   },
   {
    "duration": 16,
    "start_time": "2024-10-26T14:39:27.840Z"
   },
   {
    "duration": 20,
    "start_time": "2024-10-26T14:39:30.314Z"
   },
   {
    "duration": 6,
    "start_time": "2024-10-26T14:39:50.784Z"
   },
   {
    "duration": 14,
    "start_time": "2024-10-26T14:41:15.206Z"
   },
   {
    "duration": 20,
    "start_time": "2024-10-26T14:50:05.701Z"
   },
   {
    "duration": 9,
    "start_time": "2024-10-26T14:50:37.517Z"
   },
   {
    "duration": 7,
    "start_time": "2024-10-26T14:50:39.877Z"
   },
   {
    "duration": 7,
    "start_time": "2024-10-26T14:50:41.847Z"
   },
   {
    "duration": 40,
    "start_time": "2024-10-26T14:51:22.332Z"
   },
   {
    "duration": 8,
    "start_time": "2024-10-26T14:51:57.511Z"
   },
   {
    "duration": 142,
    "start_time": "2024-10-26T14:52:02.117Z"
   },
   {
    "duration": 3,
    "start_time": "2024-10-26T14:53:00.218Z"
   },
   {
    "duration": 7,
    "start_time": "2024-10-26T14:53:03.186Z"
   },
   {
    "duration": 26,
    "start_time": "2024-10-26T14:53:06.940Z"
   },
   {
    "duration": 17,
    "start_time": "2024-10-26T14:53:09.449Z"
   },
   {
    "duration": 558,
    "start_time": "2024-10-26T14:53:14.609Z"
   },
   {
    "duration": 176,
    "start_time": "2024-10-26T14:53:27.105Z"
   },
   {
    "duration": 1464,
    "start_time": "2024-10-26T14:53:31.831Z"
   },
   {
    "duration": 23332,
    "start_time": "2024-10-26T14:53:41.436Z"
   },
   {
    "duration": 250,
    "start_time": "2024-10-26T14:54:16.041Z"
   },
   {
    "duration": 10004,
    "start_time": "2024-10-26T14:54:24.677Z"
   },
   {
    "duration": 60700,
    "start_time": "2024-10-26T14:54:40.657Z"
   },
   {
    "duration": 237,
    "start_time": "2024-10-26T14:55:48.351Z"
   },
   {
    "duration": 10,
    "start_time": "2024-10-26T14:55:55.147Z"
   },
   {
    "duration": 53503,
    "start_time": "2024-10-26T14:55:59.907Z"
   },
   {
    "duration": 18,
    "start_time": "2024-10-26T14:58:32.741Z"
   },
   {
    "duration": 21014,
    "start_time": "2024-10-26T14:59:16.191Z"
   },
   {
    "duration": 23,
    "start_time": "2024-10-26T15:02:01.930Z"
   },
   {
    "duration": 8913,
    "start_time": "2024-10-26T15:02:15.333Z"
   },
   {
    "duration": 261765,
    "start_time": "2024-10-26T15:02:26.688Z"
   },
   {
    "duration": 38275,
    "start_time": "2024-10-26T15:26:04.323Z"
   },
   {
    "duration": 15337,
    "start_time": "2024-10-26T15:27:03.095Z"
   },
   {
    "duration": 12251,
    "start_time": "2024-10-26T15:27:23.714Z"
   },
   {
    "duration": 14214,
    "start_time": "2024-10-26T15:27:37.931Z"
   },
   {
    "duration": 61,
    "start_time": "2024-10-26T15:34:37.013Z"
   },
   {
    "duration": 31,
    "start_time": "2024-10-26T15:35:08.318Z"
   },
   {
    "duration": 33,
    "start_time": "2024-10-26T15:37:53.814Z"
   },
   {
    "duration": 30,
    "start_time": "2024-10-26T15:41:59.878Z"
   },
   {
    "duration": 32,
    "start_time": "2024-10-26T15:43:00.774Z"
   },
   {
    "duration": 6,
    "start_time": "2024-10-26T15:45:18.757Z"
   },
   {
    "duration": 192637,
    "start_time": "2024-10-26T15:45:24.936Z"
   },
   {
    "duration": 37669,
    "start_time": "2024-10-26T18:08:45.772Z"
   },
   {
    "duration": 163251,
    "start_time": "2024-10-26T18:09:52.213Z"
   },
   {
    "duration": 165398,
    "start_time": "2024-10-26T18:13:03.806Z"
   },
   {
    "duration": 40581,
    "start_time": "2024-10-26T18:43:35.755Z"
   },
   {
    "duration": 17356,
    "start_time": "2024-10-26T18:45:06.890Z"
   },
   {
    "duration": 49626,
    "start_time": "2024-10-26T18:45:25.715Z"
   },
   {
    "duration": 258,
    "start_time": "2024-10-26T18:46:37.054Z"
   },
   {
    "duration": 226,
    "start_time": "2024-10-26T18:46:43.532Z"
   },
   {
    "duration": 219,
    "start_time": "2024-10-26T18:46:47.851Z"
   },
   {
    "duration": 240,
    "start_time": "2024-10-26T18:46:53.203Z"
   },
   {
    "duration": 236,
    "start_time": "2024-10-26T18:46:58.177Z"
   },
   {
    "duration": 58022,
    "start_time": "2024-10-26T18:47:20.596Z"
   },
   {
    "duration": 44394,
    "start_time": "2024-10-26T18:49:27.120Z"
   },
   {
    "duration": 39820,
    "start_time": "2024-10-26T18:54:33.512Z"
   },
   {
    "duration": 208,
    "start_time": "2024-10-26T18:56:08.346Z"
   },
   {
    "duration": 50172,
    "start_time": "2024-10-26T18:56:20.966Z"
   },
   {
    "duration": 221,
    "start_time": "2024-10-26T18:57:20.373Z"
   },
   {
    "duration": 60444,
    "start_time": "2024-10-26T19:00:18.245Z"
   },
   {
    "duration": 61184,
    "start_time": "2024-10-26T19:01:52.117Z"
   },
   {
    "duration": 10599,
    "start_time": "2024-10-26T19:03:22.276Z"
   },
   {
    "duration": 10457,
    "start_time": "2024-10-26T19:03:43.002Z"
   },
   {
    "duration": 231,
    "start_time": "2024-10-26T19:04:46.098Z"
   },
   {
    "duration": 232,
    "start_time": "2024-10-26T19:06:59.911Z"
   },
   {
    "duration": 159,
    "start_time": "2024-10-26T19:07:33.127Z"
   },
   {
    "duration": 60676,
    "start_time": "2024-10-26T19:07:53.836Z"
   },
   {
    "duration": 10247,
    "start_time": "2024-10-26T19:08:54.514Z"
   },
   {
    "duration": 61319,
    "start_time": "2024-10-26T19:09:28.993Z"
   },
   {
    "duration": 254,
    "start_time": "2024-10-26T19:10:34.416Z"
   },
   {
    "duration": 10177,
    "start_time": "2024-10-26T19:12:24.055Z"
   },
   {
    "duration": 1584,
    "start_time": "2024-10-26T19:14:12.920Z"
   },
   {
    "duration": 23469,
    "start_time": "2024-10-26T19:14:17.297Z"
   },
   {
    "duration": 53,
    "start_time": "2024-10-26T19:15:25.627Z"
   },
   {
    "duration": 262607,
    "start_time": "2024-10-26T19:15:40.063Z"
   },
   {
    "duration": 44100,
    "start_time": "2024-10-26T19:21:24.292Z"
   },
   {
    "duration": 16914,
    "start_time": "2024-10-26T19:23:42.169Z"
   },
   {
    "duration": 18148,
    "start_time": "2024-10-26T19:24:27.651Z"
   },
   {
    "duration": 59151,
    "start_time": "2024-10-26T19:25:10.465Z"
   },
   {
    "duration": 18045,
    "start_time": "2024-10-26T19:27:02.514Z"
   },
   {
    "duration": 10408,
    "start_time": "2024-10-26T19:32:52.346Z"
   },
   {
    "duration": 253,
    "start_time": "2024-10-26T19:34:44.757Z"
   },
   {
    "duration": 9,
    "start_time": "2024-10-26T19:36:44.207Z"
   },
   {
    "duration": 61829,
    "start_time": "2024-10-26T19:47:07.138Z"
   },
   {
    "duration": 254,
    "start_time": "2024-10-26T19:48:18.021Z"
   },
   {
    "duration": 11,
    "start_time": "2024-10-26T19:48:36.074Z"
   },
   {
    "duration": 262,
    "start_time": "2024-10-26T19:53:49.728Z"
   },
   {
    "duration": 23,
    "start_time": "2024-10-26T19:59:45.917Z"
   },
   {
    "duration": 9570,
    "start_time": "2024-10-26T20:00:06.239Z"
   },
   {
    "duration": 24,
    "start_time": "2024-10-26T20:00:45.561Z"
   },
   {
    "duration": 22,
    "start_time": "2024-10-26T20:00:55.987Z"
   },
   {
    "duration": 240,
    "start_time": "2024-10-26T20:01:34.969Z"
   },
   {
    "duration": 9877,
    "start_time": "2024-10-26T20:01:37.857Z"
   },
   {
    "duration": 30,
    "start_time": "2024-10-26T20:01:48.867Z"
   },
   {
    "duration": 16,
    "start_time": "2024-10-26T20:02:19.790Z"
   },
   {
    "duration": 404,
    "start_time": "2024-10-26T20:03:58.693Z"
   },
   {
    "duration": 23,
    "start_time": "2024-10-26T20:05:30.059Z"
   },
   {
    "duration": 286,
    "start_time": "2024-10-26T20:06:19.514Z"
   },
   {
    "duration": 234,
    "start_time": "2024-10-26T20:08:03.993Z"
   },
   {
    "duration": 2783,
    "start_time": "2024-10-27T04:55:04.396Z"
   },
   {
    "duration": 33,
    "start_time": "2024-10-27T04:55:07.185Z"
   },
   {
    "duration": 20,
    "start_time": "2024-10-27T04:55:07.222Z"
   },
   {
    "duration": 8,
    "start_time": "2024-10-27T04:55:07.244Z"
   },
   {
    "duration": 6,
    "start_time": "2024-10-27T04:55:07.253Z"
   },
   {
    "duration": 5,
    "start_time": "2024-10-27T04:55:07.261Z"
   },
   {
    "duration": 437,
    "start_time": "2024-10-27T04:55:16.083Z"
   },
   {
    "duration": 2,
    "start_time": "2024-10-27T04:55:23.515Z"
   },
   {
    "duration": 2,
    "start_time": "2024-10-27T04:57:34.000Z"
   },
   {
    "duration": 6,
    "start_time": "2024-10-27T04:57:34.004Z"
   },
   {
    "duration": 87,
    "start_time": "2024-10-27T04:57:34.012Z"
   },
   {
    "duration": 24,
    "start_time": "2024-10-27T04:57:34.103Z"
   },
   {
    "duration": 568,
    "start_time": "2024-10-27T04:57:34.129Z"
   },
   {
    "duration": 176,
    "start_time": "2024-10-27T04:57:34.698Z"
   },
   {
    "duration": 10550,
    "start_time": "2024-10-27T04:57:34.876Z"
   },
   {
    "duration": 18669,
    "start_time": "2024-10-27T04:57:45.427Z"
   },
   {
    "duration": 240,
    "start_time": "2024-10-27T04:58:04.098Z"
   },
   {
    "duration": 8,
    "start_time": "2024-10-27T04:58:04.342Z"
   },
   {
    "duration": 10171,
    "start_time": "2024-10-27T04:58:04.352Z"
   },
   {
    "duration": 0,
    "start_time": "2024-10-27T04:58:14.524Z"
   },
   {
    "duration": 0,
    "start_time": "2024-10-27T04:58:14.526Z"
   },
   {
    "duration": 0,
    "start_time": "2024-10-27T04:58:14.528Z"
   },
   {
    "duration": 0,
    "start_time": "2024-10-27T04:58:14.530Z"
   },
   {
    "duration": 1,
    "start_time": "2024-10-27T04:58:14.530Z"
   },
   {
    "duration": 0,
    "start_time": "2024-10-27T04:58:14.532Z"
   },
   {
    "duration": 0,
    "start_time": "2024-10-27T04:58:14.533Z"
   },
   {
    "duration": 0,
    "start_time": "2024-10-27T04:58:14.534Z"
   },
   {
    "duration": 0,
    "start_time": "2024-10-27T04:58:14.535Z"
   },
   {
    "duration": 61573,
    "start_time": "2024-10-27T05:04:48.714Z"
   },
   {
    "duration": 257,
    "start_time": "2024-10-27T05:06:24.716Z"
   },
   {
    "duration": 10,
    "start_time": "2024-10-27T05:06:24.976Z"
   },
   {
    "duration": 53006,
    "start_time": "2024-10-27T05:06:24.988Z"
   },
   {
    "duration": 254,
    "start_time": "2024-10-27T05:07:17.996Z"
   },
   {
    "duration": 8963,
    "start_time": "2024-10-27T05:07:18.253Z"
   },
   {
    "duration": 98,
    "start_time": "2024-10-27T05:07:27.217Z"
   },
   {
    "duration": 481,
    "start_time": "2024-10-27T05:07:27.317Z"
   },
   {
    "duration": 140,
    "start_time": "2024-10-27T05:07:27.808Z"
   },
   {
    "duration": 78,
    "start_time": "2024-10-27T05:11:00.735Z"
   },
   {
    "duration": 9207,
    "start_time": "2024-10-27T05:11:12.676Z"
   },
   {
    "duration": 1455,
    "start_time": "2024-10-27T05:12:32.662Z"
   },
   {
    "duration": 1484,
    "start_time": "2024-10-27T05:14:38.190Z"
   },
   {
    "duration": 3,
    "start_time": "2024-10-27T05:15:46.714Z"
   },
   {
    "duration": 2513,
    "start_time": "2024-10-27T05:16:37.114Z"
   },
   {
    "duration": 1389,
    "start_time": "2024-10-27T05:16:57.395Z"
   },
   {
    "duration": 3752,
    "start_time": "2024-10-27T05:17:05.609Z"
   },
   {
    "duration": 6,
    "start_time": "2024-10-27T05:17:16.796Z"
   },
   {
    "duration": 1362,
    "start_time": "2024-10-27T05:17:24.238Z"
   },
   {
    "duration": 928,
    "start_time": "2024-10-27T05:19:34.013Z"
   },
   {
    "duration": 19,
    "start_time": "2024-10-27T05:19:34.943Z"
   },
   {
    "duration": 22,
    "start_time": "2024-10-27T05:19:34.963Z"
   },
   {
    "duration": 27,
    "start_time": "2024-10-27T05:19:34.987Z"
   },
   {
    "duration": 8,
    "start_time": "2024-10-27T05:19:35.017Z"
   },
   {
    "duration": 8,
    "start_time": "2024-10-27T05:19:35.027Z"
   },
   {
    "duration": 6,
    "start_time": "2024-10-27T05:19:35.037Z"
   },
   {
    "duration": 3,
    "start_time": "2024-10-27T05:19:35.045Z"
   },
   {
    "duration": 4,
    "start_time": "2024-10-27T05:19:35.050Z"
   },
   {
    "duration": 4,
    "start_time": "2024-10-27T05:19:35.055Z"
   },
   {
    "duration": 48,
    "start_time": "2024-10-27T05:19:35.061Z"
   },
   {
    "duration": 29,
    "start_time": "2024-10-27T05:19:35.112Z"
   },
   {
    "duration": 81,
    "start_time": "2024-10-27T05:19:35.143Z"
   },
   {
    "duration": 1054,
    "start_time": "2024-10-27T05:19:35.229Z"
   },
   {
    "duration": 179,
    "start_time": "2024-10-27T05:19:36.285Z"
   },
   {
    "duration": 11626,
    "start_time": "2024-10-27T05:19:36.466Z"
   },
   {
    "duration": 19229,
    "start_time": "2024-10-27T05:19:48.094Z"
   },
   {
    "duration": 250,
    "start_time": "2024-10-27T05:20:07.325Z"
   },
   {
    "duration": 10,
    "start_time": "2024-10-27T05:20:07.577Z"
   },
   {
    "duration": 11396,
    "start_time": "2024-10-27T05:20:07.590Z"
   },
   {
    "duration": 0,
    "start_time": "2024-10-27T05:20:18.988Z"
   },
   {
    "duration": 0,
    "start_time": "2024-10-27T05:20:18.989Z"
   },
   {
    "duration": 0,
    "start_time": "2024-10-27T05:20:18.991Z"
   },
   {
    "duration": 0,
    "start_time": "2024-10-27T05:20:18.992Z"
   },
   {
    "duration": 0,
    "start_time": "2024-10-27T05:20:18.993Z"
   },
   {
    "duration": 0,
    "start_time": "2024-10-27T05:20:18.994Z"
   },
   {
    "duration": 0,
    "start_time": "2024-10-27T05:20:18.996Z"
   },
   {
    "duration": 0,
    "start_time": "2024-10-27T05:20:19.009Z"
   },
   {
    "duration": 0,
    "start_time": "2024-10-27T05:20:19.010Z"
   },
   {
    "duration": 0,
    "start_time": "2024-10-27T05:20:19.012Z"
   },
   {
    "duration": 0,
    "start_time": "2024-10-27T05:20:19.014Z"
   },
   {
    "duration": 0,
    "start_time": "2024-10-27T05:20:19.016Z"
   },
   {
    "duration": 63538,
    "start_time": "2024-10-27T05:21:31.761Z"
   },
   {
    "duration": 251,
    "start_time": "2024-10-27T05:22:35.301Z"
   },
   {
    "duration": 10,
    "start_time": "2024-10-27T05:22:35.555Z"
   },
   {
    "duration": 9228,
    "start_time": "2024-10-27T05:22:35.567Z"
   },
   {
    "duration": 8994,
    "start_time": "2024-10-27T05:22:53.794Z"
   },
   {
    "duration": 5,
    "start_time": "2024-10-27T05:25:36.288Z"
   },
   {
    "duration": 4,
    "start_time": "2024-10-27T05:25:42.226Z"
   },
   {
    "duration": 8,
    "start_time": "2024-10-27T05:25:47.238Z"
   },
   {
    "duration": 9042,
    "start_time": "2024-10-27T05:26:06.820Z"
   },
   {
    "duration": 46238,
    "start_time": "2024-10-27T05:26:46.154Z"
   },
   {
    "duration": 267,
    "start_time": "2024-10-27T05:27:32.395Z"
   },
   {
    "duration": 9070,
    "start_time": "2024-10-27T05:27:32.664Z"
   },
   {
    "duration": 82,
    "start_time": "2024-10-27T05:27:41.737Z"
   },
   {
    "duration": 475,
    "start_time": "2024-10-27T05:27:41.824Z"
   },
   {
    "duration": 124,
    "start_time": "2024-10-27T05:27:42.310Z"
   },
   {
    "duration": 5,
    "start_time": "2024-10-27T05:29:13.524Z"
   },
   {
    "duration": 16,
    "start_time": "2024-10-27T05:29:20.998Z"
   },
   {
    "duration": 8,
    "start_time": "2024-10-27T05:42:26.969Z"
   },
   {
    "duration": 40,
    "start_time": "2024-10-27T05:42:29.525Z"
   },
   {
    "duration": 160,
    "start_time": "2024-10-27T14:06:04.454Z"
   },
   {
    "duration": 13,
    "start_time": "2024-10-27T14:06:53.118Z"
   },
   {
    "duration": 2637,
    "start_time": "2024-10-27T14:07:01.572Z"
   },
   {
    "duration": 20,
    "start_time": "2024-10-27T14:07:04.211Z"
   },
   {
    "duration": 21,
    "start_time": "2024-10-27T14:07:04.233Z"
   },
   {
    "duration": 8,
    "start_time": "2024-10-27T14:07:04.256Z"
   },
   {
    "duration": 8,
    "start_time": "2024-10-27T14:07:04.265Z"
   },
   {
    "duration": 6,
    "start_time": "2024-10-27T14:07:04.274Z"
   },
   {
    "duration": 5,
    "start_time": "2024-10-27T14:07:04.309Z"
   },
   {
    "duration": 3,
    "start_time": "2024-10-27T14:07:04.315Z"
   },
   {
    "duration": 3,
    "start_time": "2024-10-27T14:07:04.320Z"
   },
   {
    "duration": 2,
    "start_time": "2024-10-27T14:07:04.326Z"
   },
   {
    "duration": 5,
    "start_time": "2024-10-27T14:07:04.330Z"
   },
   {
    "duration": 19,
    "start_time": "2024-10-27T14:07:04.337Z"
   },
   {
    "duration": 57,
    "start_time": "2024-10-27T14:07:04.357Z"
   },
   {
    "duration": 621,
    "start_time": "2024-10-27T14:07:04.416Z"
   },
   {
    "duration": 172,
    "start_time": "2024-10-27T14:07:05.040Z"
   },
   {
    "duration": 10396,
    "start_time": "2024-10-27T14:07:05.214Z"
   },
   {
    "duration": 18928,
    "start_time": "2024-10-27T14:07:15.612Z"
   },
   {
    "duration": 242,
    "start_time": "2024-10-27T14:07:34.542Z"
   },
   {
    "duration": 8,
    "start_time": "2024-10-27T14:07:34.787Z"
   },
   {
    "duration": 10074,
    "start_time": "2024-10-27T14:07:34.809Z"
   },
   {
    "duration": 61407,
    "start_time": "2024-10-27T14:07:44.885Z"
   },
   {
    "duration": 264,
    "start_time": "2024-10-27T14:08:46.295Z"
   },
   {
    "duration": 11,
    "start_time": "2024-10-27T14:08:46.561Z"
   },
   {
    "duration": 43773,
    "start_time": "2024-10-27T14:08:46.574Z"
   },
   {
    "duration": 169,
    "start_time": "2024-10-27T14:09:30.349Z"
   },
   {
    "duration": 7822,
    "start_time": "2024-10-27T14:09:30.522Z"
   },
   {
    "duration": 20,
    "start_time": "2024-10-27T14:09:38.409Z"
   },
   {
    "duration": 485,
    "start_time": "2024-10-27T14:09:38.435Z"
   },
   {
    "duration": 9,
    "start_time": "2024-10-27T14:09:38.922Z"
   },
   {
    "duration": 7,
    "start_time": "2024-10-27T14:10:22.814Z"
   },
   {
    "duration": 6,
    "start_time": "2024-10-27T14:15:32.962Z"
   },
   {
    "duration": 9,
    "start_time": "2024-10-27T14:16:07.238Z"
   },
   {
    "duration": 6,
    "start_time": "2024-10-27T14:16:24.526Z"
   },
   {
    "duration": 9,
    "start_time": "2024-10-27T14:16:31.735Z"
   },
   {
    "duration": 10189,
    "start_time": "2024-10-27T14:22:45.415Z"
   },
   {
    "duration": 9,
    "start_time": "2024-10-27T14:23:16.734Z"
   },
   {
    "duration": 10083,
    "start_time": "2024-10-27T14:23:37.678Z"
   },
   {
    "duration": 170,
    "start_time": "2024-10-27T21:16:24.440Z"
   },
   {
    "duration": 3109,
    "start_time": "2024-10-27T21:16:33.014Z"
   },
   {
    "duration": 20,
    "start_time": "2024-10-27T21:16:36.125Z"
   },
   {
    "duration": 68,
    "start_time": "2024-10-27T21:16:36.147Z"
   },
   {
    "duration": 8,
    "start_time": "2024-10-27T21:16:36.218Z"
   },
   {
    "duration": 7,
    "start_time": "2024-10-27T21:16:36.228Z"
   },
   {
    "duration": 6,
    "start_time": "2024-10-27T21:16:36.237Z"
   },
   {
    "duration": 5,
    "start_time": "2024-10-27T21:16:36.244Z"
   },
   {
    "duration": 2,
    "start_time": "2024-10-27T21:16:36.251Z"
   },
   {
    "duration": 56,
    "start_time": "2024-10-27T21:16:36.254Z"
   },
   {
    "duration": 3,
    "start_time": "2024-10-27T21:16:36.314Z"
   },
   {
    "duration": 6,
    "start_time": "2024-10-27T21:16:36.319Z"
   },
   {
    "duration": 20,
    "start_time": "2024-10-27T21:16:36.327Z"
   },
   {
    "duration": 24,
    "start_time": "2024-10-27T21:16:36.349Z"
   },
   {
    "duration": 610,
    "start_time": "2024-10-27T21:16:36.375Z"
   },
   {
    "duration": 248,
    "start_time": "2024-10-27T21:16:36.987Z"
   },
   {
    "duration": 10753,
    "start_time": "2024-10-27T21:16:37.237Z"
   },
   {
    "duration": 2444,
    "start_time": "2024-10-27T21:16:47.993Z"
   },
   {
    "duration": 240,
    "start_time": "2024-10-27T21:16:50.439Z"
   },
   {
    "duration": 8,
    "start_time": "2024-10-27T21:16:50.681Z"
   },
   {
    "duration": 10149,
    "start_time": "2024-10-27T21:16:50.690Z"
   },
   {
    "duration": 60674,
    "start_time": "2024-10-27T21:17:00.841Z"
   },
   {
    "duration": 243,
    "start_time": "2024-10-27T21:18:01.517Z"
   },
   {
    "duration": 11,
    "start_time": "2024-10-27T21:18:01.762Z"
   },
   {
    "duration": 39330,
    "start_time": "2024-10-27T21:18:01.775Z"
   },
   {
    "duration": 175,
    "start_time": "2024-10-27T21:18:41.109Z"
   },
   {
    "duration": 10531,
    "start_time": "2024-10-27T21:18:41.286Z"
   },
   {
    "duration": 94,
    "start_time": "2024-10-27T21:18:51.820Z"
   },
   {
    "duration": 466,
    "start_time": "2024-10-27T21:18:51.919Z"
   },
   {
    "duration": 26,
    "start_time": "2024-10-27T21:18:52.386Z"
   },
   {
    "duration": 19694,
    "start_time": "2024-10-27T21:19:12.061Z"
   },
   {
    "duration": 8865,
    "start_time": "2024-10-27T21:21:37.937Z"
   },
   {
    "duration": 60341,
    "start_time": "2024-10-27T21:22:02.986Z"
   },
   {
    "duration": 232,
    "start_time": "2024-10-27T21:23:20.706Z"
   },
   {
    "duration": 9,
    "start_time": "2024-10-27T21:23:40.751Z"
   },
   {
    "duration": 495,
    "start_time": "2024-10-27T21:25:30.527Z"
   },
   {
    "duration": 10,
    "start_time": "2024-10-27T21:25:41.544Z"
   },
   {
    "duration": 997,
    "start_time": "2024-10-28T03:05:59.366Z"
   },
   {
    "duration": 18,
    "start_time": "2024-10-28T03:06:00.366Z"
   },
   {
    "duration": 19,
    "start_time": "2024-10-28T03:06:00.386Z"
   },
   {
    "duration": 8,
    "start_time": "2024-10-28T03:06:00.407Z"
   },
   {
    "duration": 7,
    "start_time": "2024-10-28T03:06:00.417Z"
   },
   {
    "duration": 6,
    "start_time": "2024-10-28T03:06:00.425Z"
   },
   {
    "duration": 5,
    "start_time": "2024-10-28T03:06:00.433Z"
   },
   {
    "duration": 2,
    "start_time": "2024-10-28T03:06:00.441Z"
   },
   {
    "duration": 4,
    "start_time": "2024-10-28T03:06:00.444Z"
   },
   {
    "duration": 3,
    "start_time": "2024-10-28T03:06:00.449Z"
   },
   {
    "duration": 6,
    "start_time": "2024-10-28T03:06:00.454Z"
   },
   {
    "duration": 58,
    "start_time": "2024-10-28T03:06:00.462Z"
   },
   {
    "duration": 23,
    "start_time": "2024-10-28T03:06:00.521Z"
   },
   {
    "duration": 957,
    "start_time": "2024-10-28T03:06:00.549Z"
   },
   {
    "duration": 162,
    "start_time": "2024-10-28T03:06:01.508Z"
   },
   {
    "duration": 10189,
    "start_time": "2024-10-28T03:06:01.672Z"
   },
   {
    "duration": 17568,
    "start_time": "2024-10-28T03:06:11.863Z"
   },
   {
    "duration": 243,
    "start_time": "2024-10-28T03:06:29.432Z"
   },
   {
    "duration": 7,
    "start_time": "2024-10-28T03:06:29.677Z"
   },
   {
    "duration": 9979,
    "start_time": "2024-10-28T03:06:29.686Z"
   },
   {
    "duration": 60175,
    "start_time": "2024-10-28T03:06:39.667Z"
   },
   {
    "duration": 238,
    "start_time": "2024-10-28T03:07:39.844Z"
   },
   {
    "duration": 21,
    "start_time": "2024-10-28T03:07:40.085Z"
   },
   {
    "duration": 48259,
    "start_time": "2024-10-28T03:07:40.107Z"
   },
   {
    "duration": 175,
    "start_time": "2024-10-28T03:08:28.368Z"
   },
   {
    "duration": 7668,
    "start_time": "2024-10-28T03:08:28.545Z"
   },
   {
    "duration": 93,
    "start_time": "2024-10-28T03:08:36.215Z"
   },
   {
    "duration": 469,
    "start_time": "2024-10-28T03:08:36.310Z"
   },
   {
    "duration": 9,
    "start_time": "2024-10-28T03:08:36.781Z"
   },
   {
    "duration": 28148,
    "start_time": "2024-10-28T03:10:52.994Z"
   },
   {
    "duration": 9,
    "start_time": "2024-10-28T03:11:21.144Z"
   },
   {
    "duration": 9969,
    "start_time": "2024-10-28T03:11:37.433Z"
   },
   {
    "duration": 26763,
    "start_time": "2024-10-28T03:16:25.325Z"
   },
   {
    "duration": 15,
    "start_time": "2024-10-28T03:17:09.187Z"
   },
   {
    "duration": 2698,
    "start_time": "2024-10-28T16:58:05.426Z"
   },
   {
    "duration": 21,
    "start_time": "2024-10-28T16:58:08.126Z"
   },
   {
    "duration": 24,
    "start_time": "2024-10-28T16:58:08.149Z"
   },
   {
    "duration": 7,
    "start_time": "2024-10-28T16:58:08.175Z"
   },
   {
    "duration": 20,
    "start_time": "2024-10-28T16:58:08.185Z"
   },
   {
    "duration": 5,
    "start_time": "2024-10-28T16:58:08.206Z"
   },
   {
    "duration": 4,
    "start_time": "2024-10-28T16:58:08.213Z"
   },
   {
    "duration": 2,
    "start_time": "2024-10-28T16:58:08.219Z"
   },
   {
    "duration": 2,
    "start_time": "2024-10-28T16:58:08.223Z"
   },
   {
    "duration": 3,
    "start_time": "2024-10-28T16:58:08.227Z"
   },
   {
    "duration": 6,
    "start_time": "2024-10-28T16:58:08.231Z"
   },
   {
    "duration": 17,
    "start_time": "2024-10-28T16:58:08.238Z"
   },
   {
    "duration": 56,
    "start_time": "2024-10-28T16:58:08.257Z"
   },
   {
    "duration": 540,
    "start_time": "2024-10-28T16:58:08.318Z"
   },
   {
    "duration": 217,
    "start_time": "2024-10-28T16:58:08.860Z"
   },
   {
    "duration": 10174,
    "start_time": "2024-10-28T16:58:09.079Z"
   },
   {
    "duration": 18335,
    "start_time": "2024-10-28T16:58:19.256Z"
   },
   {
    "duration": 227,
    "start_time": "2024-10-28T16:58:37.592Z"
   },
   {
    "duration": 8,
    "start_time": "2024-10-28T16:58:37.821Z"
   },
   {
    "duration": 10070,
    "start_time": "2024-10-28T16:58:37.831Z"
   },
   {
    "duration": 59646,
    "start_time": "2024-10-28T16:58:47.904Z"
   },
   {
    "duration": 232,
    "start_time": "2024-10-28T16:59:47.552Z"
   },
   {
    "duration": 23,
    "start_time": "2024-10-28T16:59:47.786Z"
   },
   {
    "duration": 58325,
    "start_time": "2024-10-28T16:59:47.810Z"
   },
   {
    "duration": 270,
    "start_time": "2024-10-28T17:00:46.137Z"
   },
   {
    "duration": 7595,
    "start_time": "2024-10-28T17:00:46.411Z"
   },
   {
    "duration": 15,
    "start_time": "2024-10-28T17:00:54.008Z"
   },
   {
    "duration": 467,
    "start_time": "2024-10-28T17:00:54.024Z"
   },
   {
    "duration": 18,
    "start_time": "2024-10-28T17:00:54.493Z"
   },
   {
    "duration": 5,
    "start_time": "2024-10-28T17:00:54.514Z"
   },
   {
    "duration": 340,
    "start_time": "2024-10-28T17:02:25.566Z"
   },
   {
    "duration": 12,
    "start_time": "2024-10-28T17:02:44.238Z"
   },
   {
    "duration": 8,
    "start_time": "2024-10-28T17:03:12.641Z"
   },
   {
    "duration": 5,
    "start_time": "2024-10-28T17:03:46.675Z"
   },
   {
    "duration": 879,
    "start_time": "2024-10-28T17:05:57.400Z"
   },
   {
    "duration": 20,
    "start_time": "2024-10-28T17:05:58.282Z"
   },
   {
    "duration": 32,
    "start_time": "2024-10-28T17:05:58.304Z"
   },
   {
    "duration": 10,
    "start_time": "2024-10-28T17:05:58.339Z"
   },
   {
    "duration": 7,
    "start_time": "2024-10-28T17:05:58.352Z"
   },
   {
    "duration": 7,
    "start_time": "2024-10-28T17:05:58.360Z"
   },
   {
    "duration": 4,
    "start_time": "2024-10-28T17:05:58.368Z"
   },
   {
    "duration": 2,
    "start_time": "2024-10-28T17:05:58.375Z"
   },
   {
    "duration": 3,
    "start_time": "2024-10-28T17:05:58.378Z"
   },
   {
    "duration": 15,
    "start_time": "2024-10-28T17:05:58.417Z"
   },
   {
    "duration": 5,
    "start_time": "2024-10-28T17:05:58.434Z"
   },
   {
    "duration": 17,
    "start_time": "2024-10-28T17:05:58.440Z"
   },
   {
    "duration": 19,
    "start_time": "2024-10-28T17:05:58.459Z"
   },
   {
    "duration": 600,
    "start_time": "2024-10-28T17:05:58.481Z"
   },
   {
    "duration": 170,
    "start_time": "2024-10-28T17:05:59.083Z"
   },
   {
    "duration": 10333,
    "start_time": "2024-10-28T17:05:59.255Z"
   },
   {
    "duration": 18169,
    "start_time": "2024-10-28T17:06:09.590Z"
   },
   {
    "duration": 272,
    "start_time": "2024-10-28T17:06:27.761Z"
   },
   {
    "duration": 6,
    "start_time": "2024-10-28T17:06:28.036Z"
   },
   {
    "duration": 10272,
    "start_time": "2024-10-28T17:06:28.044Z"
   },
   {
    "duration": 60716,
    "start_time": "2024-10-28T17:06:38.325Z"
   },
   {
    "duration": 244,
    "start_time": "2024-10-28T17:07:39.043Z"
   },
   {
    "duration": 35,
    "start_time": "2024-10-28T17:07:39.289Z"
   },
   {
    "duration": 47236,
    "start_time": "2024-10-28T17:07:39.333Z"
   },
   {
    "duration": 297,
    "start_time": "2024-10-28T17:08:26.571Z"
   },
   {
    "duration": 7643,
    "start_time": "2024-10-28T17:08:26.870Z"
   },
   {
    "duration": 34,
    "start_time": "2024-10-28T17:08:34.517Z"
   },
   {
    "duration": 431,
    "start_time": "2024-10-28T17:08:34.613Z"
   },
   {
    "duration": 8,
    "start_time": "2024-10-28T17:08:35.046Z"
   },
   {
    "duration": 19,
    "start_time": "2024-10-28T17:17:12.944Z"
   },
   {
    "duration": 10363,
    "start_time": "2024-10-28T17:18:11.113Z"
   },
   {
    "duration": 10232,
    "start_time": "2024-10-28T17:19:41.032Z"
   },
   {
    "duration": 61059,
    "start_time": "2024-10-28T17:20:22.228Z"
   },
   {
    "duration": 61376,
    "start_time": "2024-10-28T17:21:28.166Z"
   },
   {
    "duration": 10307,
    "start_time": "2024-10-28T17:22:29.544Z"
   },
   {
    "duration": 262,
    "start_time": "2024-10-28T17:22:56.371Z"
   },
   {
    "duration": 7,
    "start_time": "2024-10-28T17:23:08.541Z"
   },
   {
    "duration": 14,
    "start_time": "2024-10-28T17:23:50.167Z"
   },
   {
    "duration": 260,
    "start_time": "2024-10-28T17:24:31.107Z"
   },
   {
    "duration": 8,
    "start_time": "2024-10-28T17:25:02.869Z"
   },
   {
    "duration": 931,
    "start_time": "2024-10-28T17:25:30.102Z"
   },
   {
    "duration": 18,
    "start_time": "2024-10-28T17:25:31.035Z"
   },
   {
    "duration": 19,
    "start_time": "2024-10-28T17:25:31.055Z"
   },
   {
    "duration": 8,
    "start_time": "2024-10-28T17:25:31.076Z"
   },
   {
    "duration": 6,
    "start_time": "2024-10-28T17:25:31.087Z"
   },
   {
    "duration": 22,
    "start_time": "2024-10-28T17:25:31.094Z"
   },
   {
    "duration": 5,
    "start_time": "2024-10-28T17:25:31.129Z"
   },
   {
    "duration": 2,
    "start_time": "2024-10-28T17:25:31.135Z"
   },
   {
    "duration": 4,
    "start_time": "2024-10-28T17:25:31.139Z"
   },
   {
    "duration": 4,
    "start_time": "2024-10-28T17:25:31.144Z"
   },
   {
    "duration": 5,
    "start_time": "2024-10-28T17:25:31.149Z"
   },
   {
    "duration": 17,
    "start_time": "2024-10-28T17:25:31.157Z"
   },
   {
    "duration": 19,
    "start_time": "2024-10-28T17:25:31.175Z"
   },
   {
    "duration": 640,
    "start_time": "2024-10-28T17:25:31.206Z"
   },
   {
    "duration": 192,
    "start_time": "2024-10-28T17:25:31.847Z"
   },
   {
    "duration": 10292,
    "start_time": "2024-10-28T17:25:32.041Z"
   },
   {
    "duration": 17918,
    "start_time": "2024-10-28T17:25:42.335Z"
   },
   {
    "duration": 282,
    "start_time": "2024-10-28T17:26:00.255Z"
   },
   {
    "duration": 9,
    "start_time": "2024-10-28T17:26:00.538Z"
   },
   {
    "duration": 14408,
    "start_time": "2024-10-28T17:26:00.548Z"
   },
   {
    "duration": 65088,
    "start_time": "2024-10-28T17:26:14.958Z"
   },
   {
    "duration": 284,
    "start_time": "2024-10-28T17:27:20.049Z"
   },
   {
    "duration": 31,
    "start_time": "2024-10-28T17:27:20.335Z"
   },
   {
    "duration": 54013,
    "start_time": "2024-10-28T17:27:20.367Z"
   },
   {
    "duration": 350,
    "start_time": "2024-10-28T17:28:14.382Z"
   },
   {
    "duration": 11310,
    "start_time": "2024-10-28T17:28:14.734Z"
   },
   {
    "duration": 68,
    "start_time": "2024-10-28T17:28:26.046Z"
   },
   {
    "duration": 522,
    "start_time": "2024-10-28T17:28:26.116Z"
   },
   {
    "duration": 18,
    "start_time": "2024-10-28T17:28:26.640Z"
   },
   {
    "duration": 886,
    "start_time": "2024-10-28T17:31:23.574Z"
   },
   {
    "duration": 24,
    "start_time": "2024-10-28T17:31:24.462Z"
   },
   {
    "duration": 45,
    "start_time": "2024-10-28T17:31:24.488Z"
   },
   {
    "duration": 8,
    "start_time": "2024-10-28T17:31:24.535Z"
   },
   {
    "duration": 7,
    "start_time": "2024-10-28T17:31:24.545Z"
   },
   {
    "duration": 7,
    "start_time": "2024-10-28T17:31:24.554Z"
   },
   {
    "duration": 5,
    "start_time": "2024-10-28T17:31:24.562Z"
   },
   {
    "duration": 3,
    "start_time": "2024-10-28T17:31:24.570Z"
   },
   {
    "duration": 3,
    "start_time": "2024-10-28T17:31:24.574Z"
   },
   {
    "duration": 3,
    "start_time": "2024-10-28T17:31:24.581Z"
   },
   {
    "duration": 8,
    "start_time": "2024-10-28T17:31:24.606Z"
   },
   {
    "duration": 32,
    "start_time": "2024-10-28T17:31:24.615Z"
   },
   {
    "duration": 17,
    "start_time": "2024-10-28T17:31:24.650Z"
   },
   {
    "duration": 610,
    "start_time": "2024-10-28T17:31:24.669Z"
   },
   {
    "duration": 167,
    "start_time": "2024-10-28T17:31:25.283Z"
   },
   {
    "duration": 10320,
    "start_time": "2024-10-28T17:31:25.453Z"
   },
   {
    "duration": 18184,
    "start_time": "2024-10-28T17:31:35.774Z"
   },
   {
    "duration": 254,
    "start_time": "2024-10-28T17:31:53.960Z"
   },
   {
    "duration": 9,
    "start_time": "2024-10-28T17:31:54.215Z"
   },
   {
    "duration": 14462,
    "start_time": "2024-10-28T17:31:54.225Z"
   },
   {
    "duration": 65176,
    "start_time": "2024-10-28T17:32:08.688Z"
   },
   {
    "duration": 286,
    "start_time": "2024-10-28T17:33:13.907Z"
   },
   {
    "duration": 55,
    "start_time": "2024-10-28T17:33:14.195Z"
   },
   {
    "duration": 51019,
    "start_time": "2024-10-28T17:33:14.252Z"
   },
   {
    "duration": 314,
    "start_time": "2024-10-28T17:34:05.273Z"
   },
   {
    "duration": 7836,
    "start_time": "2024-10-28T17:34:05.588Z"
   },
   {
    "duration": 95,
    "start_time": "2024-10-28T17:34:13.429Z"
   },
   {
    "duration": 505,
    "start_time": "2024-10-28T17:34:13.536Z"
   },
   {
    "duration": 19,
    "start_time": "2024-10-28T17:34:14.043Z"
   },
   {
    "duration": 341,
    "start_time": "2024-10-28T17:49:15.604Z"
   },
   {
    "duration": 906,
    "start_time": "2024-10-28T17:49:39.738Z"
   },
   {
    "duration": 19,
    "start_time": "2024-10-28T17:49:40.646Z"
   },
   {
    "duration": 20,
    "start_time": "2024-10-28T17:49:40.666Z"
   },
   {
    "duration": 23,
    "start_time": "2024-10-28T17:49:40.688Z"
   },
   {
    "duration": 7,
    "start_time": "2024-10-28T17:49:40.712Z"
   },
   {
    "duration": 5,
    "start_time": "2024-10-28T17:49:40.721Z"
   },
   {
    "duration": 4,
    "start_time": "2024-10-28T17:49:40.728Z"
   },
   {
    "duration": 2,
    "start_time": "2024-10-28T17:49:40.735Z"
   },
   {
    "duration": 2,
    "start_time": "2024-10-28T17:49:40.739Z"
   },
   {
    "duration": 2,
    "start_time": "2024-10-28T17:49:40.746Z"
   },
   {
    "duration": 5,
    "start_time": "2024-10-28T17:49:40.750Z"
   },
   {
    "duration": 58,
    "start_time": "2024-10-28T17:49:40.757Z"
   },
   {
    "duration": 19,
    "start_time": "2024-10-28T17:49:40.817Z"
   },
   {
    "duration": 583,
    "start_time": "2024-10-28T17:49:40.838Z"
   },
   {
    "duration": 162,
    "start_time": "2024-10-28T17:49:41.422Z"
   },
   {
    "duration": 10174,
    "start_time": "2024-10-28T17:49:41.586Z"
   },
   {
    "duration": 18267,
    "start_time": "2024-10-28T17:49:51.761Z"
   },
   {
    "duration": 228,
    "start_time": "2024-10-28T17:50:10.030Z"
   },
   {
    "duration": 7,
    "start_time": "2024-10-28T17:50:10.261Z"
   },
   {
    "duration": 13097,
    "start_time": "2024-10-28T17:50:10.269Z"
   },
   {
    "duration": 64689,
    "start_time": "2024-10-28T17:50:23.368Z"
   },
   {
    "duration": 285,
    "start_time": "2024-10-28T17:51:28.058Z"
   },
   {
    "duration": 32,
    "start_time": "2024-10-28T17:51:28.344Z"
   },
   {
    "duration": 56429,
    "start_time": "2024-10-28T17:51:28.377Z"
   },
   {
    "duration": 339,
    "start_time": "2024-10-28T17:52:24.808Z"
   },
   {
    "duration": 7960,
    "start_time": "2024-10-28T17:52:25.149Z"
   },
   {
    "duration": 93,
    "start_time": "2024-10-28T17:52:33.116Z"
   },
   {
    "duration": 525,
    "start_time": "2024-10-28T17:52:33.215Z"
   },
   {
    "duration": 17,
    "start_time": "2024-10-28T17:52:33.742Z"
   },
   {
    "duration": 15,
    "start_time": "2024-10-28T17:53:26.004Z"
   },
   {
    "duration": 16,
    "start_time": "2024-10-28T17:53:29.272Z"
   },
   {
    "duration": 23,
    "start_time": "2024-10-28T17:53:32.896Z"
   },
   {
    "duration": 8,
    "start_time": "2024-10-28T17:53:34.785Z"
   },
   {
    "duration": 8,
    "start_time": "2024-10-28T17:53:35.597Z"
   },
   {
    "duration": 6,
    "start_time": "2024-10-28T17:53:36.354Z"
   },
   {
    "duration": 5,
    "start_time": "2024-10-28T17:53:37.729Z"
   },
   {
    "duration": 2,
    "start_time": "2024-10-28T17:53:39.127Z"
   },
   {
    "duration": 2,
    "start_time": "2024-10-28T17:53:39.879Z"
   },
   {
    "duration": 4,
    "start_time": "2024-10-28T17:53:41.019Z"
   },
   {
    "duration": 5,
    "start_time": "2024-10-28T17:53:41.765Z"
   },
   {
    "duration": 17,
    "start_time": "2024-10-28T17:53:43.412Z"
   },
   {
    "duration": 25,
    "start_time": "2024-10-28T17:53:44.787Z"
   },
   {
    "duration": 533,
    "start_time": "2024-10-28T17:53:48.756Z"
   },
   {
    "duration": 156,
    "start_time": "2024-10-28T17:53:51.491Z"
   },
   {
    "duration": 13572,
    "start_time": "2024-10-28T17:54:01.051Z"
   },
   {
    "duration": 64675,
    "start_time": "2024-10-28T17:54:17.674Z"
   },
   {
    "duration": 249,
    "start_time": "2024-10-28T17:55:27.416Z"
   },
   {
    "duration": 32,
    "start_time": "2024-10-28T17:55:31.638Z"
   },
   {
    "duration": 25,
    "start_time": "2024-10-28T17:55:44.136Z"
   },
   {
    "duration": 18,
    "start_time": "2024-10-28T17:56:04.599Z"
   },
   {
    "duration": 66489,
    "start_time": "2024-10-28T17:57:53.056Z"
   },
   {
    "duration": 17,
    "start_time": "2024-10-28T17:58:59.549Z"
   },
   {
    "duration": 6,
    "start_time": "2024-10-28T18:00:51.193Z"
   },
   {
    "duration": 17,
    "start_time": "2024-10-28T18:01:00.025Z"
   },
   {
    "duration": 63489,
    "start_time": "2024-10-28T18:01:11.771Z"
   },
   {
    "duration": 17,
    "start_time": "2024-10-28T18:02:17.140Z"
   },
   {
    "duration": 6,
    "start_time": "2024-10-28T18:05:45.692Z"
   },
   {
    "duration": 326,
    "start_time": "2024-10-28T18:05:57.774Z"
   },
   {
    "duration": 568316,
    "start_time": "2024-10-28T18:06:39.724Z"
   },
   {
    "duration": 527200,
    "start_time": "2024-10-28T18:17:32.263Z"
   },
   {
    "duration": 6,
    "start_time": "2024-10-28T18:27:07.043Z"
   },
   {
    "duration": 23773,
    "start_time": "2024-10-28T18:33:21.002Z"
   },
   {
    "duration": 445,
    "start_time": "2024-10-28T18:35:50.535Z"
   },
   {
    "duration": 40,
    "start_time": "2024-10-28T18:36:16.823Z"
   },
   {
    "duration": 34,
    "start_time": "2024-10-28T18:36:50.411Z"
   },
   {
    "duration": 6,
    "start_time": "2024-10-28T18:38:11.560Z"
   },
   {
    "duration": 37,
    "start_time": "2024-10-28T18:38:16.437Z"
   },
   {
    "duration": 52,
    "start_time": "2024-10-28T18:38:49.106Z"
   },
   {
    "duration": 929,
    "start_time": "2024-10-28T18:39:11.245Z"
   },
   {
    "duration": 20,
    "start_time": "2024-10-28T18:39:12.176Z"
   },
   {
    "duration": 25,
    "start_time": "2024-10-28T18:39:12.197Z"
   },
   {
    "duration": 9,
    "start_time": "2024-10-28T18:39:12.224Z"
   },
   {
    "duration": 7,
    "start_time": "2024-10-28T18:39:12.236Z"
   },
   {
    "duration": 6,
    "start_time": "2024-10-28T18:39:12.244Z"
   },
   {
    "duration": 5,
    "start_time": "2024-10-28T18:39:12.253Z"
   },
   {
    "duration": 2,
    "start_time": "2024-10-28T18:39:12.261Z"
   },
   {
    "duration": 2,
    "start_time": "2024-10-28T18:39:12.265Z"
   },
   {
    "duration": 3,
    "start_time": "2024-10-28T18:39:12.304Z"
   },
   {
    "duration": 6,
    "start_time": "2024-10-28T18:39:12.308Z"
   },
   {
    "duration": 20,
    "start_time": "2024-10-28T18:39:12.316Z"
   },
   {
    "duration": 18,
    "start_time": "2024-10-28T18:39:12.337Z"
   },
   {
    "duration": 651,
    "start_time": "2024-10-28T18:39:12.358Z"
   },
   {
    "duration": 175,
    "start_time": "2024-10-28T18:39:13.011Z"
   },
   {
    "duration": 10233,
    "start_time": "2024-10-28T18:39:13.188Z"
   },
   {
    "duration": 18186,
    "start_time": "2024-10-28T18:39:23.423Z"
   },
   {
    "duration": 244,
    "start_time": "2024-10-28T18:39:41.611Z"
   },
   {
    "duration": 8,
    "start_time": "2024-10-28T18:39:41.857Z"
   },
   {
    "duration": 312,
    "start_time": "2024-10-28T18:39:41.867Z"
   },
   {
    "duration": 0,
    "start_time": "2024-10-28T18:39:42.180Z"
   },
   {
    "duration": 0,
    "start_time": "2024-10-28T18:39:42.182Z"
   },
   {
    "duration": 0,
    "start_time": "2024-10-28T18:39:42.183Z"
   },
   {
    "duration": 0,
    "start_time": "2024-10-28T18:39:42.184Z"
   },
   {
    "duration": 0,
    "start_time": "2024-10-28T18:39:42.185Z"
   },
   {
    "duration": 0,
    "start_time": "2024-10-28T18:39:42.186Z"
   },
   {
    "duration": 0,
    "start_time": "2024-10-28T18:39:42.186Z"
   },
   {
    "duration": 0,
    "start_time": "2024-10-28T18:39:42.187Z"
   },
   {
    "duration": 0,
    "start_time": "2024-10-28T18:39:42.188Z"
   },
   {
    "duration": 937,
    "start_time": "2024-10-28T18:40:55.518Z"
   },
   {
    "duration": 18,
    "start_time": "2024-10-28T18:40:56.457Z"
   },
   {
    "duration": 20,
    "start_time": "2024-10-28T18:40:56.476Z"
   },
   {
    "duration": 8,
    "start_time": "2024-10-28T18:40:56.506Z"
   },
   {
    "duration": 7,
    "start_time": "2024-10-28T18:40:56.515Z"
   },
   {
    "duration": 6,
    "start_time": "2024-10-28T18:40:56.523Z"
   },
   {
    "duration": 5,
    "start_time": "2024-10-28T18:40:56.530Z"
   },
   {
    "duration": 3,
    "start_time": "2024-10-28T18:40:56.537Z"
   },
   {
    "duration": 2,
    "start_time": "2024-10-28T18:40:56.542Z"
   },
   {
    "duration": 3,
    "start_time": "2024-10-28T18:40:56.547Z"
   },
   {
    "duration": 5,
    "start_time": "2024-10-28T18:40:56.551Z"
   },
   {
    "duration": 57,
    "start_time": "2024-10-28T18:40:56.557Z"
   },
   {
    "duration": 19,
    "start_time": "2024-10-28T18:40:56.616Z"
   },
   {
    "duration": 572,
    "start_time": "2024-10-28T18:40:56.636Z"
   },
   {
    "duration": 158,
    "start_time": "2024-10-28T18:40:57.210Z"
   },
   {
    "duration": 10156,
    "start_time": "2024-10-28T18:40:57.369Z"
   },
   {
    "duration": 17979,
    "start_time": "2024-10-28T18:41:07.527Z"
   },
   {
    "duration": 228,
    "start_time": "2024-10-28T18:41:25.508Z"
   },
   {
    "duration": 6,
    "start_time": "2024-10-28T18:41:25.738Z"
   },
   {
    "duration": 306,
    "start_time": "2024-10-28T18:41:25.746Z"
   },
   {
    "duration": 0,
    "start_time": "2024-10-28T18:41:26.054Z"
   },
   {
    "duration": 0,
    "start_time": "2024-10-28T18:41:26.055Z"
   },
   {
    "duration": 0,
    "start_time": "2024-10-28T18:41:26.056Z"
   },
   {
    "duration": 0,
    "start_time": "2024-10-28T18:41:26.058Z"
   },
   {
    "duration": 0,
    "start_time": "2024-10-28T18:41:26.059Z"
   },
   {
    "duration": 0,
    "start_time": "2024-10-28T18:41:26.061Z"
   },
   {
    "duration": 0,
    "start_time": "2024-10-28T18:41:26.063Z"
   },
   {
    "duration": 0,
    "start_time": "2024-10-28T18:41:26.064Z"
   },
   {
    "duration": 0,
    "start_time": "2024-10-28T18:41:26.066Z"
   },
   {
    "duration": 931,
    "start_time": "2024-10-28T18:42:35.512Z"
   },
   {
    "duration": 18,
    "start_time": "2024-10-28T18:42:36.445Z"
   },
   {
    "duration": 23,
    "start_time": "2024-10-28T18:42:36.465Z"
   },
   {
    "duration": 24,
    "start_time": "2024-10-28T18:42:36.491Z"
   },
   {
    "duration": 7,
    "start_time": "2024-10-28T18:42:36.517Z"
   },
   {
    "duration": 9,
    "start_time": "2024-10-28T18:42:36.526Z"
   },
   {
    "duration": 5,
    "start_time": "2024-10-28T18:42:36.537Z"
   },
   {
    "duration": 2,
    "start_time": "2024-10-28T18:42:36.549Z"
   },
   {
    "duration": 3,
    "start_time": "2024-10-28T18:42:36.552Z"
   },
   {
    "duration": 3,
    "start_time": "2024-10-28T18:42:36.558Z"
   },
   {
    "duration": 6,
    "start_time": "2024-10-28T18:42:36.563Z"
   },
   {
    "duration": 48,
    "start_time": "2024-10-28T18:42:36.571Z"
   },
   {
    "duration": 17,
    "start_time": "2024-10-28T18:42:36.621Z"
   },
   {
    "duration": 582,
    "start_time": "2024-10-28T18:42:36.640Z"
   },
   {
    "duration": 162,
    "start_time": "2024-10-28T18:42:37.225Z"
   },
   {
    "duration": 10438,
    "start_time": "2024-10-28T18:42:37.388Z"
   },
   {
    "duration": 17976,
    "start_time": "2024-10-28T18:42:47.828Z"
   },
   {
    "duration": 224,
    "start_time": "2024-10-28T18:43:05.806Z"
   },
   {
    "duration": 6,
    "start_time": "2024-10-28T18:43:06.032Z"
   },
   {
    "duration": 309,
    "start_time": "2024-10-28T18:43:06.040Z"
   },
   {
    "duration": 0,
    "start_time": "2024-10-28T18:43:06.350Z"
   },
   {
    "duration": 0,
    "start_time": "2024-10-28T18:43:06.351Z"
   },
   {
    "duration": 1,
    "start_time": "2024-10-28T18:43:06.352Z"
   },
   {
    "duration": 0,
    "start_time": "2024-10-28T18:43:06.354Z"
   },
   {
    "duration": 0,
    "start_time": "2024-10-28T18:43:06.355Z"
   },
   {
    "duration": 0,
    "start_time": "2024-10-28T18:43:06.357Z"
   },
   {
    "duration": 0,
    "start_time": "2024-10-28T18:43:06.358Z"
   },
   {
    "duration": 0,
    "start_time": "2024-10-28T18:43:06.359Z"
   },
   {
    "duration": 0,
    "start_time": "2024-10-28T18:43:06.360Z"
   },
   {
    "duration": 618,
    "start_time": "2024-10-28T18:45:56.547Z"
   },
   {
    "duration": 653,
    "start_time": "2024-10-28T18:46:21.195Z"
   },
   {
    "duration": 657,
    "start_time": "2024-10-28T18:47:01.902Z"
   },
   {
    "duration": 16589,
    "start_time": "2024-10-28T18:47:19.426Z"
   },
   {
    "duration": 16582,
    "start_time": "2024-10-28T18:47:42.051Z"
   },
   {
    "duration": 3942,
    "start_time": "2024-10-28T18:48:12.093Z"
   },
   {
    "duration": 238,
    "start_time": "2024-10-28T18:48:35.813Z"
   },
   {
    "duration": 20,
    "start_time": "2024-10-28T18:48:40.894Z"
   },
   {
    "duration": 63867,
    "start_time": "2024-10-28T18:48:56.820Z"
   },
   {
    "duration": 423,
    "start_time": "2024-10-28T18:50:08.937Z"
   },
   {
    "duration": 8009,
    "start_time": "2024-10-28T18:50:12.622Z"
   },
   {
    "duration": 13,
    "start_time": "2024-10-28T18:50:47.066Z"
   },
   {
    "duration": 418,
    "start_time": "2024-10-28T18:50:52.722Z"
   },
   {
    "duration": 427,
    "start_time": "2024-10-28T18:51:28.942Z"
   },
   {
    "duration": 7,
    "start_time": "2024-10-28T18:52:04.829Z"
   },
   {
    "duration": 34,
    "start_time": "2024-10-28T18:53:11.090Z"
   },
   {
    "duration": 6,
    "start_time": "2024-10-28T18:53:18.869Z"
   },
   {
    "duration": 2743,
    "start_time": "2024-10-29T02:26:01.672Z"
   },
   {
    "duration": 20,
    "start_time": "2024-10-29T02:26:04.417Z"
   },
   {
    "duration": 19,
    "start_time": "2024-10-29T02:26:04.439Z"
   },
   {
    "duration": 16,
    "start_time": "2024-10-29T02:26:04.460Z"
   },
   {
    "duration": 22,
    "start_time": "2024-10-29T02:28:02.501Z"
   },
   {
    "duration": 15,
    "start_time": "2024-10-29T02:33:25.026Z"
   },
   {
    "duration": 15,
    "start_time": "2024-10-29T02:35:24.604Z"
   },
   {
    "duration": 14,
    "start_time": "2024-10-29T02:35:28.193Z"
   },
   {
    "duration": 298,
    "start_time": "2024-10-29T02:36:58.580Z"
   },
   {
    "duration": 17,
    "start_time": "2024-10-29T02:37:08.851Z"
   },
   {
    "duration": 15,
    "start_time": "2024-10-29T02:37:08.870Z"
   },
   {
    "duration": 19,
    "start_time": "2024-10-29T02:37:08.887Z"
   },
   {
    "duration": 8,
    "start_time": "2024-10-29T02:37:08.907Z"
   },
   {
    "duration": 6,
    "start_time": "2024-10-29T02:37:08.918Z"
   },
   {
    "duration": 5,
    "start_time": "2024-10-29T02:37:08.925Z"
   },
   {
    "duration": 5,
    "start_time": "2024-10-29T02:37:08.932Z"
   },
   {
    "duration": 31,
    "start_time": "2024-10-29T02:37:08.939Z"
   },
   {
    "duration": 2,
    "start_time": "2024-10-29T02:37:08.972Z"
   },
   {
    "duration": 3,
    "start_time": "2024-10-29T02:37:08.976Z"
   },
   {
    "duration": 6,
    "start_time": "2024-10-29T02:37:08.980Z"
   },
   {
    "duration": 80,
    "start_time": "2024-10-29T02:37:08.987Z"
   },
   {
    "duration": 21,
    "start_time": "2024-10-29T02:37:09.069Z"
   },
   {
    "duration": 545,
    "start_time": "2024-10-29T02:37:09.092Z"
   },
   {
    "duration": 172,
    "start_time": "2024-10-29T02:37:09.639Z"
   },
   {
    "duration": 419,
    "start_time": "2024-10-29T02:37:18.527Z"
   },
   {
    "duration": 3185,
    "start_time": "2024-10-29T02:38:10.600Z"
   },
   {
    "duration": 3138,
    "start_time": "2024-10-29T02:40:27.590Z"
   },
   {
    "duration": 3188,
    "start_time": "2024-10-29T02:40:40.191Z"
   },
   {
    "duration": 56,
    "start_time": "2024-10-29T02:41:09.544Z"
   },
   {
    "duration": 40,
    "start_time": "2024-10-29T02:41:15.101Z"
   },
   {
    "duration": 3146,
    "start_time": "2024-10-29T02:42:31.535Z"
   },
   {
    "duration": 27,
    "start_time": "2024-10-29T02:42:44.282Z"
   },
   {
    "duration": 3119,
    "start_time": "2024-10-29T02:42:53.845Z"
   },
   {
    "duration": 33,
    "start_time": "2024-10-29T02:42:57.021Z"
   },
   {
    "duration": 3296,
    "start_time": "2024-10-29T02:44:29.660Z"
   },
   {
    "duration": 53,
    "start_time": "2024-10-29T02:44:34.630Z"
   }
  ],
  "kernelspec": {
   "display_name": "Python 3 (ipykernel)",
   "language": "python",
   "name": "python3"
  },
  "language_info": {
   "codemirror_mode": {
    "name": "ipython",
    "version": 3
   },
   "file_extension": ".py",
   "mimetype": "text/x-python",
   "name": "python",
   "nbconvert_exporter": "python",
   "pygments_lexer": "ipython3",
   "version": "3.12.3"
  },
  "toc": {
   "base_numbering": 1,
   "nav_menu": {},
   "number_sections": true,
   "sideBar": true,
   "skip_h1_title": true,
   "title_cell": "Table of Contents",
   "title_sidebar": "Contents",
   "toc_cell": false,
   "toc_position": {
    "height": "calc(100% - 180px)",
    "left": "10px",
    "top": "150px",
    "width": "235px"
   },
   "toc_section_display": true,
   "toc_window_display": true
  }
 },
 "nbformat": 4,
 "nbformat_minor": 2
}
